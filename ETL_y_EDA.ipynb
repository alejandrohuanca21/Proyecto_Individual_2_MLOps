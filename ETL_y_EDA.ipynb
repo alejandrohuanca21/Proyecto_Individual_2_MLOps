{
 "cells": [
  {
   "cell_type": "markdown",
   "metadata": {},
   "source": [
    "         ETL Y EDA"
   ]
  },
  {
   "cell_type": "markdown",
   "metadata": {},
   "source": [
    "Conjunto de Datos extraidos del observatorio de movvilidad y seguridad vial (OMSV)\n",
    "\n",
    "Secretaría de Transporte - Subsecretaría de Planificación de la Movilidad\n"
   ]
  },
  {
   "cell_type": "markdown",
   "metadata": {},
   "source": [
    "A medida que avanzamos en nuestro EDA, la meta es proporcionar una visión más profunda de la información contenida en nuestros conjuntos de datos y determinar qué campos poseen una relevancia significativa. Este enfoque nos permitirá tomar decisiones informadas durante etapas posteriores del análisis y del proceso de toma de decisiones basada en datos"
   ]
  },
  {
   "cell_type": "markdown",
   "metadata": {},
   "source": [
    "---------------------------------------------------------------------------------------------"
   ]
  },
  {
   "cell_type": "markdown",
   "metadata": {},
   "source": [
    "Importamos las librerias que vamos a usar para todo el proceso del EDA"
   ]
  },
  {
   "cell_type": "code",
   "execution_count": 2,
   "metadata": {},
   "outputs": [],
   "source": [
    "import pandas as pd\n",
    "import os\n",
    "import matplotlib.pyplot as plt\n",
    "import seaborn as sns\n",
    "import folium\n",
    "from folium.plugins import HeatMap\n",
    "from IPython.display import display\n",
    "from sqlalchemy import create_engine\n",
    "import numpy as np"
   ]
  },
  {
   "cell_type": "markdown",
   "metadata": {},
   "source": [
    "Accedemos a los datos"
   ]
  },
  {
   "cell_type": "code",
   "execution_count": 3,
   "metadata": {},
   "outputs": [],
   "source": [
    "# Utilizamos la ruta relativa\n",
    "archivo = r'C:\\Users\\ale_h\\Desktop\\Henry#\\PI individual 2\\prueba_ale_2\\Datasets\\homicidios .xlsx'"
   ]
  },
  {
   "cell_type": "markdown",
   "metadata": {},
   "source": [
    "Vamos a traer las dos tablas que estan dentro de homicidios.xlsx"
   ]
  },
  {
   "cell_type": "code",
   "execution_count": 4,
   "metadata": {},
   "outputs": [],
   "source": [
    "# Hacemos los dataframes, con el parametro sheet_name traemos la hoja del archivo excel que queremos\n",
    "df_homicidios_hechos = pd.read_excel(archivo,sheet_name='HECHOS')\n",
    "df_homicidios_victimas = pd.read_excel(archivo, sheet_name='VICTIMAS')"
   ]
  },
  {
   "cell_type": "markdown",
   "metadata": {},
   "source": [
    "Analizamos los datos de la tabla df_homicidios_hechos"
   ]
  },
  {
   "cell_type": "code",
   "execution_count": 5,
   "metadata": {},
   "outputs": [
    {
     "data": {
      "text/html": [
       "<div>\n",
       "<style scoped>\n",
       "    .dataframe tbody tr th:only-of-type {\n",
       "        vertical-align: middle;\n",
       "    }\n",
       "\n",
       "    .dataframe tbody tr th {\n",
       "        vertical-align: top;\n",
       "    }\n",
       "\n",
       "    .dataframe thead th {\n",
       "        text-align: right;\n",
       "    }\n",
       "</style>\n",
       "<table border=\"1\" class=\"dataframe\">\n",
       "  <thead>\n",
       "    <tr style=\"text-align: right;\">\n",
       "      <th></th>\n",
       "      <th>ID</th>\n",
       "      <th>N_VICTIMAS</th>\n",
       "      <th>FECHA</th>\n",
       "      <th>AAAA</th>\n",
       "      <th>MM</th>\n",
       "      <th>DD</th>\n",
       "      <th>HORA</th>\n",
       "      <th>HH</th>\n",
       "      <th>LUGAR_DEL_HECHO</th>\n",
       "      <th>TIPO_DE_CALLE</th>\n",
       "      <th>...</th>\n",
       "      <th>Altura</th>\n",
       "      <th>Cruce</th>\n",
       "      <th>Dirección Normalizada</th>\n",
       "      <th>COMUNA</th>\n",
       "      <th>XY (CABA)</th>\n",
       "      <th>pos x</th>\n",
       "      <th>pos y</th>\n",
       "      <th>PARTICIPANTES</th>\n",
       "      <th>VICTIMA</th>\n",
       "      <th>ACUSADO</th>\n",
       "    </tr>\n",
       "  </thead>\n",
       "  <tbody>\n",
       "    <tr>\n",
       "      <th>0</th>\n",
       "      <td>2016-0001</td>\n",
       "      <td>1</td>\n",
       "      <td>2016-01-01</td>\n",
       "      <td>2016</td>\n",
       "      <td>1</td>\n",
       "      <td>1</td>\n",
       "      <td>04:00:00</td>\n",
       "      <td>4</td>\n",
       "      <td>AV PIEDRA BUENA Y AV FERNANDEZ DE LA CRUZ</td>\n",
       "      <td>AVENIDA</td>\n",
       "      <td>...</td>\n",
       "      <td>NaN</td>\n",
       "      <td>FERNANDEZ DE LA CRUZ, F., GRAL. AV.</td>\n",
       "      <td>PIEDRA BUENA AV. y FERNANDEZ DE LA CRUZ, F., G...</td>\n",
       "      <td>8</td>\n",
       "      <td>Point (98896.78238426 93532.43437792)</td>\n",
       "      <td>-58.47533969</td>\n",
       "      <td>-34.68757022</td>\n",
       "      <td>MOTO-AUTO</td>\n",
       "      <td>MOTO</td>\n",
       "      <td>AUTO</td>\n",
       "    </tr>\n",
       "    <tr>\n",
       "      <th>1</th>\n",
       "      <td>2016-0002</td>\n",
       "      <td>1</td>\n",
       "      <td>2016-01-02</td>\n",
       "      <td>2016</td>\n",
       "      <td>1</td>\n",
       "      <td>2</td>\n",
       "      <td>01:15:00</td>\n",
       "      <td>1</td>\n",
       "      <td>AV GRAL PAZ  Y AV DE LOS CORRALES</td>\n",
       "      <td>GRAL PAZ</td>\n",
       "      <td>...</td>\n",
       "      <td>NaN</td>\n",
       "      <td>DE LOS CORRALES AV.</td>\n",
       "      <td>PAZ, GRAL. AV. y DE LOS CORRALES AV.</td>\n",
       "      <td>9</td>\n",
       "      <td>Point (95832.05571093 95505.41641999)</td>\n",
       "      <td>-58.50877521</td>\n",
       "      <td>-34.66977709</td>\n",
       "      <td>AUTO-PASAJEROS</td>\n",
       "      <td>AUTO</td>\n",
       "      <td>PASAJEROS</td>\n",
       "    </tr>\n",
       "    <tr>\n",
       "      <th>2</th>\n",
       "      <td>2016-0003</td>\n",
       "      <td>1</td>\n",
       "      <td>2016-01-03</td>\n",
       "      <td>2016</td>\n",
       "      <td>1</td>\n",
       "      <td>3</td>\n",
       "      <td>07:00:00</td>\n",
       "      <td>7</td>\n",
       "      <td>AV ENTRE RIOS 2034</td>\n",
       "      <td>AVENIDA</td>\n",
       "      <td>...</td>\n",
       "      <td>2034.0</td>\n",
       "      <td>NaN</td>\n",
       "      <td>ENTRE RIOS AV. 2034</td>\n",
       "      <td>1</td>\n",
       "      <td>Point (106684.29090040 99706.57687843)</td>\n",
       "      <td>-58.39040293</td>\n",
       "      <td>-34.63189362</td>\n",
       "      <td>MOTO-AUTO</td>\n",
       "      <td>MOTO</td>\n",
       "      <td>AUTO</td>\n",
       "    </tr>\n",
       "    <tr>\n",
       "      <th>3</th>\n",
       "      <td>2016-0004</td>\n",
       "      <td>1</td>\n",
       "      <td>2016-01-10</td>\n",
       "      <td>2016</td>\n",
       "      <td>1</td>\n",
       "      <td>10</td>\n",
       "      <td>00:00:00</td>\n",
       "      <td>0</td>\n",
       "      <td>AV LARRAZABAL Y GRAL VILLEGAS CONRADO</td>\n",
       "      <td>AVENIDA</td>\n",
       "      <td>...</td>\n",
       "      <td>NaN</td>\n",
       "      <td>VILLEGAS, CONRADO, GRAL.</td>\n",
       "      <td>LARRAZABAL AV. y VILLEGAS, CONRADO, GRAL.</td>\n",
       "      <td>8</td>\n",
       "      <td>Point (99840.65224780 94269.16534422)</td>\n",
       "      <td>-58.46503904</td>\n",
       "      <td>-34.68092974</td>\n",
       "      <td>MOTO-SD</td>\n",
       "      <td>MOTO</td>\n",
       "      <td>SD</td>\n",
       "    </tr>\n",
       "    <tr>\n",
       "      <th>4</th>\n",
       "      <td>2016-0005</td>\n",
       "      <td>1</td>\n",
       "      <td>2016-01-21</td>\n",
       "      <td>2016</td>\n",
       "      <td>1</td>\n",
       "      <td>21</td>\n",
       "      <td>05:20:00</td>\n",
       "      <td>5</td>\n",
       "      <td>AV SAN JUAN Y PRESIDENTE LUIS SAENZ PEÑA</td>\n",
       "      <td>AVENIDA</td>\n",
       "      <td>...</td>\n",
       "      <td>NaN</td>\n",
       "      <td>SAENZ PE?A, LUIS, PRES.</td>\n",
       "      <td>SAN JUAN AV. y SAENZ PEÃ‘A, LUIS, PRES.</td>\n",
       "      <td>1</td>\n",
       "      <td>Point (106980.32827929 100752.16915795)</td>\n",
       "      <td>-58.38718297</td>\n",
       "      <td>-34.62246630</td>\n",
       "      <td>MOTO-PASAJEROS</td>\n",
       "      <td>MOTO</td>\n",
       "      <td>PASAJEROS</td>\n",
       "    </tr>\n",
       "  </tbody>\n",
       "</table>\n",
       "<p>5 rows × 21 columns</p>\n",
       "</div>"
      ],
      "text/plain": [
       "          ID  N_VICTIMAS      FECHA  AAAA  MM  DD      HORA HH  \\\n",
       "0  2016-0001           1 2016-01-01  2016   1   1  04:00:00  4   \n",
       "1  2016-0002           1 2016-01-02  2016   1   2  01:15:00  1   \n",
       "2  2016-0003           1 2016-01-03  2016   1   3  07:00:00  7   \n",
       "3  2016-0004           1 2016-01-10  2016   1  10  00:00:00  0   \n",
       "4  2016-0005           1 2016-01-21  2016   1  21  05:20:00  5   \n",
       "\n",
       "                             LUGAR_DEL_HECHO TIPO_DE_CALLE  ...  Altura  \\\n",
       "0  AV PIEDRA BUENA Y AV FERNANDEZ DE LA CRUZ       AVENIDA  ...     NaN   \n",
       "1          AV GRAL PAZ  Y AV DE LOS CORRALES      GRAL PAZ  ...     NaN   \n",
       "2                         AV ENTRE RIOS 2034       AVENIDA  ...  2034.0   \n",
       "3      AV LARRAZABAL Y GRAL VILLEGAS CONRADO       AVENIDA  ...     NaN   \n",
       "4  AV SAN JUAN Y PRESIDENTE LUIS SAENZ PEÑA        AVENIDA  ...     NaN   \n",
       "\n",
       "                                 Cruce  \\\n",
       "0  FERNANDEZ DE LA CRUZ, F., GRAL. AV.   \n",
       "1                  DE LOS CORRALES AV.   \n",
       "2                                  NaN   \n",
       "3             VILLEGAS, CONRADO, GRAL.   \n",
       "4              SAENZ PE?A, LUIS, PRES.   \n",
       "\n",
       "                               Dirección Normalizada COMUNA  \\\n",
       "0  PIEDRA BUENA AV. y FERNANDEZ DE LA CRUZ, F., G...      8   \n",
       "1               PAZ, GRAL. AV. y DE LOS CORRALES AV.      9   \n",
       "2                                ENTRE RIOS AV. 2034      1   \n",
       "3          LARRAZABAL AV. y VILLEGAS, CONRADO, GRAL.      8   \n",
       "4            SAN JUAN AV. y SAENZ PEÃ‘A, LUIS, PRES.      1   \n",
       "\n",
       "                                 XY (CABA)         pos x         pos y  \\\n",
       "0    Point (98896.78238426 93532.43437792)  -58.47533969  -34.68757022   \n",
       "1    Point (95832.05571093 95505.41641999)  -58.50877521  -34.66977709   \n",
       "2   Point (106684.29090040 99706.57687843)  -58.39040293  -34.63189362   \n",
       "3    Point (99840.65224780 94269.16534422)  -58.46503904  -34.68092974   \n",
       "4  Point (106980.32827929 100752.16915795)  -58.38718297  -34.62246630   \n",
       "\n",
       "    PARTICIPANTES VICTIMA    ACUSADO  \n",
       "0       MOTO-AUTO    MOTO       AUTO  \n",
       "1  AUTO-PASAJEROS    AUTO  PASAJEROS  \n",
       "2       MOTO-AUTO    MOTO       AUTO  \n",
       "3         MOTO-SD    MOTO         SD  \n",
       "4  MOTO-PASAJEROS    MOTO  PASAJEROS  \n",
       "\n",
       "[5 rows x 21 columns]"
      ]
     },
     "execution_count": 5,
     "metadata": {},
     "output_type": "execute_result"
    }
   ],
   "source": [
    "df_homicidios_hechos.head()"
   ]
  },
  {
   "cell_type": "code",
   "execution_count": 6,
   "metadata": {},
   "outputs": [
    {
     "data": {
      "text/html": [
       "<div>\n",
       "<style scoped>\n",
       "    .dataframe tbody tr th:only-of-type {\n",
       "        vertical-align: middle;\n",
       "    }\n",
       "\n",
       "    .dataframe tbody tr th {\n",
       "        vertical-align: top;\n",
       "    }\n",
       "\n",
       "    .dataframe thead th {\n",
       "        text-align: right;\n",
       "    }\n",
       "</style>\n",
       "<table border=\"1\" class=\"dataframe\">\n",
       "  <thead>\n",
       "    <tr style=\"text-align: right;\">\n",
       "      <th></th>\n",
       "      <th>ID</th>\n",
       "      <th>N_VICTIMAS</th>\n",
       "      <th>FECHA</th>\n",
       "      <th>AAAA</th>\n",
       "      <th>MM</th>\n",
       "      <th>DD</th>\n",
       "      <th>HORA</th>\n",
       "      <th>HH</th>\n",
       "      <th>LUGAR_DEL_HECHO</th>\n",
       "      <th>TIPO_DE_CALLE</th>\n",
       "      <th>...</th>\n",
       "      <th>Altura</th>\n",
       "      <th>Cruce</th>\n",
       "      <th>Dirección Normalizada</th>\n",
       "      <th>COMUNA</th>\n",
       "      <th>XY (CABA)</th>\n",
       "      <th>pos x</th>\n",
       "      <th>pos y</th>\n",
       "      <th>PARTICIPANTES</th>\n",
       "      <th>VICTIMA</th>\n",
       "      <th>ACUSADO</th>\n",
       "    </tr>\n",
       "  </thead>\n",
       "  <tbody>\n",
       "    <tr>\n",
       "      <th>691</th>\n",
       "      <td>2021-0093</td>\n",
       "      <td>1</td>\n",
       "      <td>2021-12-13</td>\n",
       "      <td>2021</td>\n",
       "      <td>12</td>\n",
       "      <td>13</td>\n",
       "      <td>17:10:00</td>\n",
       "      <td>17</td>\n",
       "      <td>AV. RIESTRA Y MOM</td>\n",
       "      <td>AVENIDA</td>\n",
       "      <td>...</td>\n",
       "      <td>NaN</td>\n",
       "      <td>MOM</td>\n",
       "      <td>RIESTRA AV. y MOM</td>\n",
       "      <td>7</td>\n",
       "      <td>Point (102728.60090138 98186.24929177)</td>\n",
       "      <td>-58.43353773</td>\n",
       "      <td>-34.64561636</td>\n",
       "      <td>MOTO-AUTO</td>\n",
       "      <td>MOTO</td>\n",
       "      <td>AUTO</td>\n",
       "    </tr>\n",
       "    <tr>\n",
       "      <th>692</th>\n",
       "      <td>2021-0094</td>\n",
       "      <td>1</td>\n",
       "      <td>2021-12-20</td>\n",
       "      <td>2021</td>\n",
       "      <td>12</td>\n",
       "      <td>20</td>\n",
       "      <td>01:10:00</td>\n",
       "      <td>1</td>\n",
       "      <td>AU DELLEPIANE Y LACARRA</td>\n",
       "      <td>AUTOPISTA</td>\n",
       "      <td>...</td>\n",
       "      <td>NaN</td>\n",
       "      <td>LACARRA AV.</td>\n",
       "      <td>DELLEPIANE, LUIS, TTE. GRAL. y LACARRA AV.</td>\n",
       "      <td>9</td>\n",
       "      <td>Point (99624.29795829 97569.69801131)</td>\n",
       "      <td>-58.46739825</td>\n",
       "      <td>-34.65117757</td>\n",
       "      <td>MOTO-AUTO</td>\n",
       "      <td>MOTO</td>\n",
       "      <td>AUTO</td>\n",
       "    </tr>\n",
       "    <tr>\n",
       "      <th>693</th>\n",
       "      <td>2021-0095</td>\n",
       "      <td>1</td>\n",
       "      <td>2021-12-30</td>\n",
       "      <td>2021</td>\n",
       "      <td>12</td>\n",
       "      <td>30</td>\n",
       "      <td>00:43:00</td>\n",
       "      <td>0</td>\n",
       "      <td>AV. GAONA Y TERRADA</td>\n",
       "      <td>AVENIDA</td>\n",
       "      <td>...</td>\n",
       "      <td>NaN</td>\n",
       "      <td>TERRADA</td>\n",
       "      <td>GAONA AV. y TERRADA</td>\n",
       "      <td>11</td>\n",
       "      <td>Point (99116.45492358 101045.23284826)</td>\n",
       "      <td>-58.47293407</td>\n",
       "      <td>-34.61984745</td>\n",
       "      <td>MOTO-CARGAS</td>\n",
       "      <td>MOTO</td>\n",
       "      <td>CARGAS</td>\n",
       "    </tr>\n",
       "    <tr>\n",
       "      <th>694</th>\n",
       "      <td>2021-0096</td>\n",
       "      <td>1</td>\n",
       "      <td>2021-12-15</td>\n",
       "      <td>2021</td>\n",
       "      <td>12</td>\n",
       "      <td>15</td>\n",
       "      <td>10:30:00</td>\n",
       "      <td>10</td>\n",
       "      <td>AV. EVA PERON 4071</td>\n",
       "      <td>AVENIDA</td>\n",
       "      <td>...</td>\n",
       "      <td>4071.0</td>\n",
       "      <td>NaN</td>\n",
       "      <td>PERON, EVA AV. 4071</td>\n",
       "      <td>9</td>\n",
       "      <td>Point (99324.54463985 97676.26932409)</td>\n",
       "      <td>-58.47066794</td>\n",
       "      <td>-34.65021673</td>\n",
       "      <td>AUTO-CARGAS</td>\n",
       "      <td>AUTO</td>\n",
       "      <td>CARGAS</td>\n",
       "    </tr>\n",
       "    <tr>\n",
       "      <th>695</th>\n",
       "      <td>2021-0097</td>\n",
       "      <td>1</td>\n",
       "      <td>2021-11-18</td>\n",
       "      <td>2021</td>\n",
       "      <td>11</td>\n",
       "      <td>18</td>\n",
       "      <td>06:10:00</td>\n",
       "      <td>6</td>\n",
       "      <td>PADRE CARLOS MUJICA 709</td>\n",
       "      <td>CALLE</td>\n",
       "      <td>...</td>\n",
       "      <td>709.0</td>\n",
       "      <td>NaN</td>\n",
       "      <td>PADRE CARLOS MUGICA 709</td>\n",
       "      <td>1</td>\n",
       "      <td>Point (107664.16647795 104708.63962087)</td>\n",
       "      <td>-58.37976155</td>\n",
       "      <td>-34.58679619</td>\n",
       "      <td>BICICLETA-AUTO</td>\n",
       "      <td>BICICLETA</td>\n",
       "      <td>AUTO</td>\n",
       "    </tr>\n",
       "  </tbody>\n",
       "</table>\n",
       "<p>5 rows × 21 columns</p>\n",
       "</div>"
      ],
      "text/plain": [
       "            ID  N_VICTIMAS      FECHA  AAAA  MM  DD      HORA  HH  \\\n",
       "691  2021-0093           1 2021-12-13  2021  12  13  17:10:00  17   \n",
       "692  2021-0094           1 2021-12-20  2021  12  20  01:10:00   1   \n",
       "693  2021-0095           1 2021-12-30  2021  12  30  00:43:00   0   \n",
       "694  2021-0096           1 2021-12-15  2021  12  15  10:30:00  10   \n",
       "695  2021-0097           1 2021-11-18  2021  11  18  06:10:00   6   \n",
       "\n",
       "             LUGAR_DEL_HECHO TIPO_DE_CALLE  ...  Altura        Cruce  \\\n",
       "691        AV. RIESTRA Y MOM       AVENIDA  ...     NaN          MOM   \n",
       "692  AU DELLEPIANE Y LACARRA     AUTOPISTA  ...     NaN  LACARRA AV.   \n",
       "693      AV. GAONA Y TERRADA       AVENIDA  ...     NaN      TERRADA   \n",
       "694       AV. EVA PERON 4071       AVENIDA  ...  4071.0          NaN   \n",
       "695  PADRE CARLOS MUJICA 709         CALLE  ...   709.0          NaN   \n",
       "\n",
       "                          Dirección Normalizada COMUNA  \\\n",
       "691                           RIESTRA AV. y MOM      7   \n",
       "692  DELLEPIANE, LUIS, TTE. GRAL. y LACARRA AV.      9   \n",
       "693                         GAONA AV. y TERRADA     11   \n",
       "694                         PERON, EVA AV. 4071      9   \n",
       "695                     PADRE CARLOS MUGICA 709      1   \n",
       "\n",
       "                                   XY (CABA)         pos x         pos y  \\\n",
       "691   Point (102728.60090138 98186.24929177)  -58.43353773  -34.64561636   \n",
       "692    Point (99624.29795829 97569.69801131)  -58.46739825  -34.65117757   \n",
       "693   Point (99116.45492358 101045.23284826)  -58.47293407  -34.61984745   \n",
       "694    Point (99324.54463985 97676.26932409)  -58.47066794  -34.65021673   \n",
       "695  Point (107664.16647795 104708.63962087)  -58.37976155  -34.58679619   \n",
       "\n",
       "      PARTICIPANTES    VICTIMA ACUSADO  \n",
       "691       MOTO-AUTO       MOTO    AUTO  \n",
       "692       MOTO-AUTO       MOTO    AUTO  \n",
       "693     MOTO-CARGAS       MOTO  CARGAS  \n",
       "694     AUTO-CARGAS       AUTO  CARGAS  \n",
       "695  BICICLETA-AUTO  BICICLETA    AUTO  \n",
       "\n",
       "[5 rows x 21 columns]"
      ]
     },
     "execution_count": 6,
     "metadata": {},
     "output_type": "execute_result"
    }
   ],
   "source": [
    "df_homicidios_hechos.tail()"
   ]
  },
  {
   "cell_type": "code",
   "execution_count": 7,
   "metadata": {},
   "outputs": [
    {
     "name": "stdout",
     "output_type": "stream",
     "text": [
      "<class 'pandas.core.frame.DataFrame'>\n",
      "RangeIndex: 696 entries, 0 to 695\n",
      "Data columns (total 21 columns):\n",
      " #   Column                 Non-Null Count  Dtype         \n",
      "---  ------                 --------------  -----         \n",
      " 0   ID                     696 non-null    object        \n",
      " 1   N_VICTIMAS             696 non-null    int64         \n",
      " 2   FECHA                  696 non-null    datetime64[ns]\n",
      " 3   AAAA                   696 non-null    int64         \n",
      " 4   MM                     696 non-null    int64         \n",
      " 5   DD                     696 non-null    int64         \n",
      " 6   HORA                   696 non-null    object        \n",
      " 7   HH                     696 non-null    object        \n",
      " 8   LUGAR_DEL_HECHO        696 non-null    object        \n",
      " 9   TIPO_DE_CALLE          696 non-null    object        \n",
      " 10  Calle                  695 non-null    object        \n",
      " 11  Altura                 129 non-null    float64       \n",
      " 12  Cruce                  525 non-null    object        \n",
      " 13  Dirección Normalizada  688 non-null    object        \n",
      " 14  COMUNA                 696 non-null    int64         \n",
      " 15  XY (CABA)              696 non-null    object        \n",
      " 16  pos x                  696 non-null    object        \n",
      " 17  pos y                  696 non-null    object        \n",
      " 18  PARTICIPANTES          696 non-null    object        \n",
      " 19  VICTIMA                696 non-null    object        \n",
      " 20  ACUSADO                696 non-null    object        \n",
      "dtypes: datetime64[ns](1), float64(1), int64(5), object(14)\n",
      "memory usage: 114.3+ KB\n"
     ]
    }
   ],
   "source": [
    "df_homicidios_hechos.info()"
   ]
  },
  {
   "cell_type": "code",
   "execution_count": 8,
   "metadata": {},
   "outputs": [
    {
     "data": {
      "text/html": [
       "<div>\n",
       "<style scoped>\n",
       "    .dataframe tbody tr th:only-of-type {\n",
       "        vertical-align: middle;\n",
       "    }\n",
       "\n",
       "    .dataframe tbody tr th {\n",
       "        vertical-align: top;\n",
       "    }\n",
       "\n",
       "    .dataframe thead th {\n",
       "        text-align: right;\n",
       "    }\n",
       "</style>\n",
       "<table border=\"1\" class=\"dataframe\">\n",
       "  <thead>\n",
       "    <tr style=\"text-align: right;\">\n",
       "      <th></th>\n",
       "      <th>N_VICTIMAS</th>\n",
       "      <th>AAAA</th>\n",
       "      <th>MM</th>\n",
       "      <th>DD</th>\n",
       "      <th>Altura</th>\n",
       "      <th>COMUNA</th>\n",
       "    </tr>\n",
       "  </thead>\n",
       "  <tbody>\n",
       "    <tr>\n",
       "      <th>count</th>\n",
       "      <td>696.000000</td>\n",
       "      <td>696.000000</td>\n",
       "      <td>696.000000</td>\n",
       "      <td>696.000000</td>\n",
       "      <td>129.000000</td>\n",
       "      <td>696.000000</td>\n",
       "    </tr>\n",
       "    <tr>\n",
       "      <th>mean</th>\n",
       "      <td>1.030172</td>\n",
       "      <td>2018.188218</td>\n",
       "      <td>6.692529</td>\n",
       "      <td>15.936782</td>\n",
       "      <td>3336.635659</td>\n",
       "      <td>7.425287</td>\n",
       "    </tr>\n",
       "    <tr>\n",
       "      <th>std</th>\n",
       "      <td>0.179393</td>\n",
       "      <td>1.683754</td>\n",
       "      <td>3.571309</td>\n",
       "      <td>8.639646</td>\n",
       "      <td>3060.641793</td>\n",
       "      <td>4.387050</td>\n",
       "    </tr>\n",
       "    <tr>\n",
       "      <th>min</th>\n",
       "      <td>1.000000</td>\n",
       "      <td>2016.000000</td>\n",
       "      <td>1.000000</td>\n",
       "      <td>1.000000</td>\n",
       "      <td>30.000000</td>\n",
       "      <td>0.000000</td>\n",
       "    </tr>\n",
       "    <tr>\n",
       "      <th>25%</th>\n",
       "      <td>1.000000</td>\n",
       "      <td>2017.000000</td>\n",
       "      <td>4.000000</td>\n",
       "      <td>9.000000</td>\n",
       "      <td>1359.000000</td>\n",
       "      <td>4.000000</td>\n",
       "    </tr>\n",
       "    <tr>\n",
       "      <th>50%</th>\n",
       "      <td>1.000000</td>\n",
       "      <td>2018.000000</td>\n",
       "      <td>7.000000</td>\n",
       "      <td>16.000000</td>\n",
       "      <td>2551.000000</td>\n",
       "      <td>8.000000</td>\n",
       "    </tr>\n",
       "    <tr>\n",
       "      <th>75%</th>\n",
       "      <td>1.000000</td>\n",
       "      <td>2020.000000</td>\n",
       "      <td>10.000000</td>\n",
       "      <td>23.000000</td>\n",
       "      <td>4500.000000</td>\n",
       "      <td>11.000000</td>\n",
       "    </tr>\n",
       "    <tr>\n",
       "      <th>max</th>\n",
       "      <td>3.000000</td>\n",
       "      <td>2021.000000</td>\n",
       "      <td>12.000000</td>\n",
       "      <td>31.000000</td>\n",
       "      <td>16080.000000</td>\n",
       "      <td>15.000000</td>\n",
       "    </tr>\n",
       "  </tbody>\n",
       "</table>\n",
       "</div>"
      ],
      "text/plain": [
       "       N_VICTIMAS         AAAA          MM          DD        Altura  \\\n",
       "count  696.000000   696.000000  696.000000  696.000000    129.000000   \n",
       "mean     1.030172  2018.188218    6.692529   15.936782   3336.635659   \n",
       "std      0.179393     1.683754    3.571309    8.639646   3060.641793   \n",
       "min      1.000000  2016.000000    1.000000    1.000000     30.000000   \n",
       "25%      1.000000  2017.000000    4.000000    9.000000   1359.000000   \n",
       "50%      1.000000  2018.000000    7.000000   16.000000   2551.000000   \n",
       "75%      1.000000  2020.000000   10.000000   23.000000   4500.000000   \n",
       "max      3.000000  2021.000000   12.000000   31.000000  16080.000000   \n",
       "\n",
       "           COMUNA  \n",
       "count  696.000000  \n",
       "mean     7.425287  \n",
       "std      4.387050  \n",
       "min      0.000000  \n",
       "25%      4.000000  \n",
       "50%      8.000000  \n",
       "75%     11.000000  \n",
       "max     15.000000  "
      ]
     },
     "execution_count": 8,
     "metadata": {},
     "output_type": "execute_result"
    }
   ],
   "source": [
    "df_homicidios_hechos.describe()"
   ]
  },
  {
   "cell_type": "markdown",
   "metadata": {},
   "source": [
    "El numero de victimas en promedio por cada accidente hay 1 victima fatal.\n",
    "El maximo de victimas por un accidente es de 3 muertes.\n",
    "\n",
    "Los datos abarcan desde el año 2016 hasta el 2021.\n",
    "\n",
    "Se puede ver que en comuna, el min que es el valor minimo de la columna, cuentan a 0 como una comuna pero en realidad debe ser un faltante, ya que en Buenos Aires hay 15 comunas numeradas del 1 al 15."
   ]
  },
  {
   "cell_type": "markdown",
   "metadata": {},
   "source": [
    "Verificamos la existencia de duplicados"
   ]
  },
  {
   "cell_type": "code",
   "execution_count": 9,
   "metadata": {},
   "outputs": [
    {
     "data": {
      "text/plain": [
       "0"
      ]
     },
     "execution_count": 9,
     "metadata": {},
     "output_type": "execute_result"
    }
   ],
   "source": [
    "df_homicidios_hechos.duplicated().sum()"
   ]
  },
  {
   "cell_type": "markdown",
   "metadata": {},
   "source": [
    "Verificamos los  nulos"
   ]
  },
  {
   "cell_type": "code",
   "execution_count": 10,
   "metadata": {},
   "outputs": [
    {
     "data": {
      "text/plain": [
       "ID                         0\n",
       "N_VICTIMAS                 0\n",
       "FECHA                      0\n",
       "AAAA                       0\n",
       "MM                         0\n",
       "DD                         0\n",
       "HORA                       0\n",
       "HH                         0\n",
       "LUGAR_DEL_HECHO            0\n",
       "TIPO_DE_CALLE              0\n",
       "Calle                      1\n",
       "Altura                   567\n",
       "Cruce                    171\n",
       "Dirección Normalizada      8\n",
       "COMUNA                     0\n",
       "XY (CABA)                  0\n",
       "pos x                      0\n",
       "pos y                      0\n",
       "PARTICIPANTES              0\n",
       "VICTIMA                    0\n",
       "ACUSADO                    0\n",
       "dtype: int64"
      ]
     },
     "execution_count": 10,
     "metadata": {},
     "output_type": "execute_result"
    }
   ],
   "source": [
    "df_homicidios_hechos.isnull().sum()"
   ]
  },
  {
   "cell_type": "markdown",
   "metadata": {},
   "source": [
    "Columnas HH y HORAS"
   ]
  },
  {
   "cell_type": "markdown",
   "metadata": {},
   "source": [
    "- En la columna hora y HH, tenemos datos nulos representados, como 'SD', lo cual nos trae un problema por el tipo de dato de la columna, lo reemplazamos."
   ]
  },
  {
   "cell_type": "code",
   "execution_count": 11,
   "metadata": {},
   "outputs": [
    {
     "data": {
      "text/html": [
       "<div>\n",
       "<style scoped>\n",
       "    .dataframe tbody tr th:only-of-type {\n",
       "        vertical-align: middle;\n",
       "    }\n",
       "\n",
       "    .dataframe tbody tr th {\n",
       "        vertical-align: top;\n",
       "    }\n",
       "\n",
       "    .dataframe thead th {\n",
       "        text-align: right;\n",
       "    }\n",
       "</style>\n",
       "<table border=\"1\" class=\"dataframe\">\n",
       "  <thead>\n",
       "    <tr style=\"text-align: right;\">\n",
       "      <th></th>\n",
       "      <th>ID</th>\n",
       "      <th>N_VICTIMAS</th>\n",
       "      <th>FECHA</th>\n",
       "      <th>AAAA</th>\n",
       "      <th>MM</th>\n",
       "      <th>DD</th>\n",
       "      <th>HORA</th>\n",
       "      <th>HH</th>\n",
       "      <th>LUGAR_DEL_HECHO</th>\n",
       "      <th>TIPO_DE_CALLE</th>\n",
       "      <th>...</th>\n",
       "      <th>Altura</th>\n",
       "      <th>Cruce</th>\n",
       "      <th>Dirección Normalizada</th>\n",
       "      <th>COMUNA</th>\n",
       "      <th>XY (CABA)</th>\n",
       "      <th>pos x</th>\n",
       "      <th>pos y</th>\n",
       "      <th>PARTICIPANTES</th>\n",
       "      <th>VICTIMA</th>\n",
       "      <th>ACUSADO</th>\n",
       "    </tr>\n",
       "  </thead>\n",
       "  <tbody>\n",
       "    <tr>\n",
       "      <th>518</th>\n",
       "      <td>2019-0103</td>\n",
       "      <td>1</td>\n",
       "      <td>2019-12-18</td>\n",
       "      <td>2019</td>\n",
       "      <td>12</td>\n",
       "      <td>18</td>\n",
       "      <td>SD</td>\n",
       "      <td>SD</td>\n",
       "      <td>PAZ, GRAL. AV. Y GRIVEO</td>\n",
       "      <td>GRAL PAZ</td>\n",
       "      <td>...</td>\n",
       "      <td>NaN</td>\n",
       "      <td>GRIVEO</td>\n",
       "      <td>PAZ, GRAL. AV. y GRIVEO</td>\n",
       "      <td>11</td>\n",
       "      <td>Point (94643.11254058 103831.57115061)</td>\n",
       "      <td>-58.52169422</td>\n",
       "      <td>-34.59471640</td>\n",
       "      <td>MOTO-MOTO</td>\n",
       "      <td>MOTO</td>\n",
       "      <td>MOTO</td>\n",
       "    </tr>\n",
       "  </tbody>\n",
       "</table>\n",
       "<p>1 rows × 21 columns</p>\n",
       "</div>"
      ],
      "text/plain": [
       "            ID  N_VICTIMAS      FECHA  AAAA  MM  DD HORA  HH  \\\n",
       "518  2019-0103           1 2019-12-18  2019  12  18   SD  SD   \n",
       "\n",
       "             LUGAR_DEL_HECHO TIPO_DE_CALLE  ... Altura   Cruce  \\\n",
       "518  PAZ, GRAL. AV. Y GRIVEO      GRAL PAZ  ...    NaN  GRIVEO   \n",
       "\n",
       "       Dirección Normalizada COMUNA                               XY (CABA)  \\\n",
       "518  PAZ, GRAL. AV. y GRIVEO     11  Point (94643.11254058 103831.57115061)   \n",
       "\n",
       "            pos x         pos y PARTICIPANTES VICTIMA ACUSADO  \n",
       "518  -58.52169422  -34.59471640     MOTO-MOTO    MOTO    MOTO  \n",
       "\n",
       "[1 rows x 21 columns]"
      ]
     },
     "execution_count": 11,
     "metadata": {},
     "output_type": "execute_result"
    }
   ],
   "source": [
    "# Creamos una mascara para ver cuantos y cuales valores faltantes tenemos.\n",
    "mask = df_homicidios_hechos['HH']=='SD'\n",
    "df_homicidios_hechos[mask]"
   ]
  },
  {
   "cell_type": "markdown",
   "metadata": {},
   "source": [
    "Para tratar este faltante vamos a utilizar la media de las horas, para colocar el valor que falta"
   ]
  },
  {
   "cell_type": "code",
   "execution_count": 12,
   "metadata": {},
   "outputs": [
    {
     "data": {
      "text/plain": [
       "12.0"
      ]
     },
     "execution_count": 12,
     "metadata": {},
     "output_type": "execute_result"
    }
   ],
   "source": [
    "# Para tratar este dato faltante primero vamos a reemplazar el valor con nulos\n",
    "df_homicidios_hechos['HH'] = pd.to_numeric(df_homicidios_hechos['HH'], errors='coerce')\n",
    "# Como es solo un dato, tome la desicion de poner la media de las horas, para completar este faltante\n",
    "# Utilizamos round() para redondear la media, y dar un valor int\n",
    "media_horas = int(round(df_homicidios_hechos['HH'].mean()))\n",
    "# Vamos a reempazar el valor\n",
    "df_homicidios_hechos.at[518, 'HH'] = media_horas\n",
    "# Chequeamos como quedo\n",
    "df_homicidios_hechos['HH'][518]"
   ]
  },
  {
   "cell_type": "code",
   "execution_count": 13,
   "metadata": {},
   "outputs": [],
   "source": [
    "# como nos cambio el tipo de dato de int a float, vamos a volver a cambiar el dato por int\n",
    "df_homicidios_hechos['HH'] = df_homicidios_hechos['HH'].astype(int)"
   ]
  },
  {
   "cell_type": "code",
   "execution_count": 14,
   "metadata": {},
   "outputs": [],
   "source": [
    "# reeemplazamos ahora en HORAS con la media\n",
    "# Asigna el valor constante '12:00:00' a la fila 518\n",
    "df_homicidios_hechos.at[518, 'HORA'] = pd.to_datetime('12:00:00').time()"
   ]
  },
  {
   "cell_type": "code",
   "execution_count": 15,
   "metadata": {},
   "outputs": [
    {
     "data": {
      "text/plain": [
       "ID                                                    2019-0103\n",
       "N_VICTIMAS                                                    1\n",
       "FECHA                                       2019-12-18 00:00:00\n",
       "AAAA                                                       2019\n",
       "MM                                                           12\n",
       "DD                                                           18\n",
       "HORA                                                   12:00:00\n",
       "HH                                                           12\n",
       "LUGAR_DEL_HECHO                         PAZ, GRAL. AV. Y GRIVEO\n",
       "TIPO_DE_CALLE                                          GRAL PAZ\n",
       "Calle                                            PAZ, GRAL. AV.\n",
       "Altura                                                      NaN\n",
       "Cruce                                                    GRIVEO\n",
       "Dirección Normalizada                   PAZ, GRAL. AV. y GRIVEO\n",
       "COMUNA                                                       11\n",
       "XY (CABA)                Point (94643.11254058 103831.57115061)\n",
       "pos x                                              -58.52169422\n",
       "pos y                                              -34.59471640\n",
       "PARTICIPANTES                                         MOTO-MOTO\n",
       "VICTIMA                                                    MOTO\n",
       "ACUSADO                                                    MOTO\n",
       "Name: 518, dtype: object"
      ]
     },
     "execution_count": 15,
     "metadata": {},
     "output_type": "execute_result"
    }
   ],
   "source": [
    "# Chequeamos como quedaron los cambios\n",
    "fila_518 = df_homicidios_hechos.iloc[518]\n",
    "fila_518"
   ]
  },
  {
   "cell_type": "markdown",
   "metadata": {},
   "source": [
    "Columna Calle"
   ]
  },
  {
   "cell_type": "markdown",
   "metadata": {},
   "source": [
    "- En la columna Calle tenemos un faltante, que esta como vacio."
   ]
  },
  {
   "cell_type": "code",
   "execution_count": 16,
   "metadata": {},
   "outputs": [
    {
     "data": {
      "text/html": [
       "<div>\n",
       "<style scoped>\n",
       "    .dataframe tbody tr th:only-of-type {\n",
       "        vertical-align: middle;\n",
       "    }\n",
       "\n",
       "    .dataframe tbody tr th {\n",
       "        vertical-align: top;\n",
       "    }\n",
       "\n",
       "    .dataframe thead th {\n",
       "        text-align: right;\n",
       "    }\n",
       "</style>\n",
       "<table border=\"1\" class=\"dataframe\">\n",
       "  <thead>\n",
       "    <tr style=\"text-align: right;\">\n",
       "      <th></th>\n",
       "      <th>ID</th>\n",
       "      <th>N_VICTIMAS</th>\n",
       "      <th>FECHA</th>\n",
       "      <th>AAAA</th>\n",
       "      <th>MM</th>\n",
       "      <th>DD</th>\n",
       "      <th>HORA</th>\n",
       "      <th>HH</th>\n",
       "      <th>LUGAR_DEL_HECHO</th>\n",
       "      <th>TIPO_DE_CALLE</th>\n",
       "      <th>...</th>\n",
       "      <th>Altura</th>\n",
       "      <th>Cruce</th>\n",
       "      <th>Dirección Normalizada</th>\n",
       "      <th>COMUNA</th>\n",
       "      <th>XY (CABA)</th>\n",
       "      <th>pos x</th>\n",
       "      <th>pos y</th>\n",
       "      <th>PARTICIPANTES</th>\n",
       "      <th>VICTIMA</th>\n",
       "      <th>ACUSADO</th>\n",
       "    </tr>\n",
       "  </thead>\n",
       "  <tbody>\n",
       "    <tr>\n",
       "      <th>119</th>\n",
       "      <td>2016-0151</td>\n",
       "      <td>1</td>\n",
       "      <td>2016-11-18</td>\n",
       "      <td>2016</td>\n",
       "      <td>11</td>\n",
       "      <td>18</td>\n",
       "      <td>20:35:00</td>\n",
       "      <td>20</td>\n",
       "      <td>SD</td>\n",
       "      <td>CALLE</td>\n",
       "      <td>...</td>\n",
       "      <td>NaN</td>\n",
       "      <td>NaN</td>\n",
       "      <td>NaN</td>\n",
       "      <td>0</td>\n",
       "      <td>Point (. .)</td>\n",
       "      <td>.</td>\n",
       "      <td>.</td>\n",
       "      <td>PEATON-SD</td>\n",
       "      <td>PEATON</td>\n",
       "      <td>SD</td>\n",
       "    </tr>\n",
       "  </tbody>\n",
       "</table>\n",
       "<p>1 rows × 21 columns</p>\n",
       "</div>"
      ],
      "text/plain": [
       "            ID  N_VICTIMAS      FECHA  AAAA  MM  DD      HORA  HH  \\\n",
       "119  2016-0151           1 2016-11-18  2016  11  18  20:35:00  20   \n",
       "\n",
       "    LUGAR_DEL_HECHO TIPO_DE_CALLE  ... Altura  Cruce Dirección Normalizada  \\\n",
       "119              SD         CALLE  ...    NaN    NaN                   NaN   \n",
       "\n",
       "    COMUNA    XY (CABA) pos x pos y PARTICIPANTES VICTIMA ACUSADO  \n",
       "119      0  Point (. .)     .     .     PEATON-SD  PEATON      SD  \n",
       "\n",
       "[1 rows x 21 columns]"
      ]
     },
     "execution_count": 16,
     "metadata": {},
     "output_type": "execute_result"
    }
   ],
   "source": [
    "# Verificamos el valor faltante\n",
    "mask =df_homicidios_hechos['Calle'].isnull()\n",
    "df_homicidios_hechos[mask]"
   ]
  },
  {
   "cell_type": "markdown",
   "metadata": {},
   "source": [
    "Como vemos en esta fila, los faltantes que tiene, y viendo que no podemos saber ni su comuna, o lugar de hecho, ni sus coordenas o el acusado, tome la descion de borrar esta fila, ya que es una sola y tiene muchos datos importantes que estan faltantes"
   ]
  },
  {
   "cell_type": "code",
   "execution_count": 17,
   "metadata": {},
   "outputs": [],
   "source": [
    "# Eliminamos la fila\n",
    "# Utilizamos el método drop para eliminar la fila 19\n",
    "df_homicidios_hechos = df_homicidios_hechos.drop(119)\n",
    "\n",
    "# Vamos a reiniciar el index\n",
    "df_homicidios_hechos.reset_index(drop=True, inplace=True)"
   ]
  },
  {
   "cell_type": "markdown",
   "metadata": {},
   "source": [
    "Columna altura"
   ]
  },
  {
   "cell_type": "markdown",
   "metadata": {},
   "source": [
    "- La columna de altura, tiene 567 faltantes, muchos de los casos de accidentes viales, fueron en una interseccion de calles, en una esquina, por ende la altura no es relevante, sino el cruce de las calles.Por el momento vamos a mantenerlo asi, pero luego se determinará si es redundante o no, cuando nos llevemos los datos para Power BI para hacer el analisis."
   ]
  },
  {
   "cell_type": "markdown",
   "metadata": {},
   "source": [
    "Columna Cruce"
   ]
  },
  {
   "cell_type": "markdown",
   "metadata": {},
   "source": [
    "- La columna de cruce, tenemos 171 faltantes como vacios que en principio podemos afirmar que se trata de un accidente en la autopista por esa razón no contamos con la informacion del cruce."
   ]
  },
  {
   "cell_type": "markdown",
   "metadata": {},
   "source": [
    "Columna Direccion Normalizada"
   ]
  },
  {
   "cell_type": "markdown",
   "metadata": {},
   "source": [
    "- La columna direccion normalizada tiene 7 faltantes, como vacios."
   ]
  },
  {
   "cell_type": "code",
   "execution_count": 18,
   "metadata": {},
   "outputs": [
    {
     "data": {
      "text/plain": [
       "7"
      ]
     },
     "execution_count": 18,
     "metadata": {},
     "output_type": "execute_result"
    }
   ],
   "source": [
    "df_homicidios_hechos['Dirección Normalizada'].isnull().sum()"
   ]
  },
  {
   "cell_type": "code",
   "execution_count": 19,
   "metadata": {},
   "outputs": [
    {
     "data": {
      "text/html": [
       "<div>\n",
       "<style scoped>\n",
       "    .dataframe tbody tr th:only-of-type {\n",
       "        vertical-align: middle;\n",
       "    }\n",
       "\n",
       "    .dataframe tbody tr th {\n",
       "        vertical-align: top;\n",
       "    }\n",
       "\n",
       "    .dataframe thead th {\n",
       "        text-align: right;\n",
       "    }\n",
       "</style>\n",
       "<table border=\"1\" class=\"dataframe\">\n",
       "  <thead>\n",
       "    <tr style=\"text-align: right;\">\n",
       "      <th></th>\n",
       "      <th>ID</th>\n",
       "      <th>N_VICTIMAS</th>\n",
       "      <th>FECHA</th>\n",
       "      <th>AAAA</th>\n",
       "      <th>MM</th>\n",
       "      <th>DD</th>\n",
       "      <th>HORA</th>\n",
       "      <th>HH</th>\n",
       "      <th>LUGAR_DEL_HECHO</th>\n",
       "      <th>TIPO_DE_CALLE</th>\n",
       "      <th>...</th>\n",
       "      <th>Altura</th>\n",
       "      <th>Cruce</th>\n",
       "      <th>Dirección Normalizada</th>\n",
       "      <th>COMUNA</th>\n",
       "      <th>XY (CABA)</th>\n",
       "      <th>pos x</th>\n",
       "      <th>pos y</th>\n",
       "      <th>PARTICIPANTES</th>\n",
       "      <th>VICTIMA</th>\n",
       "      <th>ACUSADO</th>\n",
       "    </tr>\n",
       "  </thead>\n",
       "  <tbody>\n",
       "    <tr>\n",
       "      <th>38</th>\n",
       "      <td>2016-0052</td>\n",
       "      <td>1</td>\n",
       "      <td>2016-04-20</td>\n",
       "      <td>2016</td>\n",
       "      <td>4</td>\n",
       "      <td>20</td>\n",
       "      <td>20:00:00</td>\n",
       "      <td>20</td>\n",
       "      <td>AUTOPISTA LUGONES PK 10000</td>\n",
       "      <td>AUTOPISTA</td>\n",
       "      <td>...</td>\n",
       "      <td>NaN</td>\n",
       "      <td>NaN</td>\n",
       "      <td>NaN</td>\n",
       "      <td>13</td>\n",
       "      <td>Point (. .)</td>\n",
       "      <td>.</td>\n",
       "      <td>.</td>\n",
       "      <td>MOTO-SD</td>\n",
       "      <td>MOTO</td>\n",
       "      <td>SD</td>\n",
       "    </tr>\n",
       "    <tr>\n",
       "      <th>106</th>\n",
       "      <td>2016-0136</td>\n",
       "      <td>1</td>\n",
       "      <td>2016-10-25</td>\n",
       "      <td>2016</td>\n",
       "      <td>10</td>\n",
       "      <td>25</td>\n",
       "      <td>00:00:00</td>\n",
       "      <td>0</td>\n",
       "      <td>AU BUENOS AIRES - LA PLATA KM. 4</td>\n",
       "      <td>AUTOPISTA</td>\n",
       "      <td>...</td>\n",
       "      <td>NaN</td>\n",
       "      <td>NaN</td>\n",
       "      <td>NaN</td>\n",
       "      <td>4</td>\n",
       "      <td>Point (. .)</td>\n",
       "      <td>.</td>\n",
       "      <td>.</td>\n",
       "      <td>MOTO-CARGAS</td>\n",
       "      <td>MOTO</td>\n",
       "      <td>CARGAS</td>\n",
       "    </tr>\n",
       "    <tr>\n",
       "      <th>179</th>\n",
       "      <td>2017-0050</td>\n",
       "      <td>2</td>\n",
       "      <td>2017-04-28</td>\n",
       "      <td>2017</td>\n",
       "      <td>4</td>\n",
       "      <td>28</td>\n",
       "      <td>11:08:08</td>\n",
       "      <td>11</td>\n",
       "      <td>AU PERITO MORENO Y RAMAL ENLACE AU1/AU6</td>\n",
       "      <td>AUTOPISTA</td>\n",
       "      <td>...</td>\n",
       "      <td>NaN</td>\n",
       "      <td>NaN</td>\n",
       "      <td>NaN</td>\n",
       "      <td>9</td>\n",
       "      <td>Point (. .)</td>\n",
       "      <td>.</td>\n",
       "      <td>.</td>\n",
       "      <td>MOTO-CARGAS</td>\n",
       "      <td>MOTO</td>\n",
       "      <td>CARGAS</td>\n",
       "    </tr>\n",
       "    <tr>\n",
       "      <th>180</th>\n",
       "      <td>2017-0051</td>\n",
       "      <td>1</td>\n",
       "      <td>2017-05-01</td>\n",
       "      <td>2017</td>\n",
       "      <td>5</td>\n",
       "      <td>1</td>\n",
       "      <td>03:47:47</td>\n",
       "      <td>3</td>\n",
       "      <td>AU DELLEPIANE 2400</td>\n",
       "      <td>AUTOPISTA</td>\n",
       "      <td>...</td>\n",
       "      <td>NaN</td>\n",
       "      <td>NaN</td>\n",
       "      <td>NaN</td>\n",
       "      <td>7</td>\n",
       "      <td>Point (. .)</td>\n",
       "      <td>.</td>\n",
       "      <td>.</td>\n",
       "      <td>AUTO-AUTO</td>\n",
       "      <td>AUTO</td>\n",
       "      <td>AUTO</td>\n",
       "    </tr>\n",
       "    <tr>\n",
       "      <th>312</th>\n",
       "      <td>2018-0039</td>\n",
       "      <td>1</td>\n",
       "      <td>2018-04-21</td>\n",
       "      <td>2018</td>\n",
       "      <td>4</td>\n",
       "      <td>21</td>\n",
       "      <td>22:15:00</td>\n",
       "      <td>22</td>\n",
       "      <td>AUTOPISTA LUGONES KM 4.7</td>\n",
       "      <td>AUTOPISTA</td>\n",
       "      <td>...</td>\n",
       "      <td>NaN</td>\n",
       "      <td>NaN</td>\n",
       "      <td>NaN</td>\n",
       "      <td>14</td>\n",
       "      <td>Point (. .)</td>\n",
       "      <td>.</td>\n",
       "      <td>.</td>\n",
       "      <td>PEATON-AUTO</td>\n",
       "      <td>PEATON</td>\n",
       "      <td>AUTO</td>\n",
       "    </tr>\n",
       "    <tr>\n",
       "      <th>545</th>\n",
       "      <td>2020-0026</td>\n",
       "      <td>1</td>\n",
       "      <td>2020-05-17</td>\n",
       "      <td>2020</td>\n",
       "      <td>5</td>\n",
       "      <td>17</td>\n",
       "      <td>06:40:00</td>\n",
       "      <td>6</td>\n",
       "      <td>LUGONES, LEOPOLDO AV. KM 6,1</td>\n",
       "      <td>AUTOPISTA</td>\n",
       "      <td>...</td>\n",
       "      <td>NaN</td>\n",
       "      <td>NaN</td>\n",
       "      <td>NaN</td>\n",
       "      <td>14</td>\n",
       "      <td>Point (. .)</td>\n",
       "      <td>.</td>\n",
       "      <td>.</td>\n",
       "      <td>MOTO-OBJETO FIJO</td>\n",
       "      <td>MOTO</td>\n",
       "      <td>OBJETO FIJO</td>\n",
       "    </tr>\n",
       "    <tr>\n",
       "      <th>620</th>\n",
       "      <td>2021-0023</td>\n",
       "      <td>1</td>\n",
       "      <td>2021-03-01</td>\n",
       "      <td>2021</td>\n",
       "      <td>3</td>\n",
       "      <td>1</td>\n",
       "      <td>09:20:00</td>\n",
       "      <td>9</td>\n",
       "      <td>AU BUENOS AIRES LA PLATA  KM 4,5</td>\n",
       "      <td>AUTOPISTA</td>\n",
       "      <td>...</td>\n",
       "      <td>NaN</td>\n",
       "      <td>NaN</td>\n",
       "      <td>NaN</td>\n",
       "      <td>4</td>\n",
       "      <td>Point (. .)</td>\n",
       "      <td>.</td>\n",
       "      <td>.</td>\n",
       "      <td>MOTO-CARGAS</td>\n",
       "      <td>MOTO</td>\n",
       "      <td>CARGAS</td>\n",
       "    </tr>\n",
       "  </tbody>\n",
       "</table>\n",
       "<p>7 rows × 21 columns</p>\n",
       "</div>"
      ],
      "text/plain": [
       "            ID  N_VICTIMAS      FECHA  AAAA  MM  DD      HORA  HH  \\\n",
       "38   2016-0052           1 2016-04-20  2016   4  20  20:00:00  20   \n",
       "106  2016-0136           1 2016-10-25  2016  10  25  00:00:00   0   \n",
       "179  2017-0050           2 2017-04-28  2017   4  28  11:08:08  11   \n",
       "180  2017-0051           1 2017-05-01  2017   5   1  03:47:47   3   \n",
       "312  2018-0039           1 2018-04-21  2018   4  21  22:15:00  22   \n",
       "545  2020-0026           1 2020-05-17  2020   5  17  06:40:00   6   \n",
       "620  2021-0023           1 2021-03-01  2021   3   1  09:20:00   9   \n",
       "\n",
       "                             LUGAR_DEL_HECHO TIPO_DE_CALLE  ... Altura  Cruce  \\\n",
       "38                AUTOPISTA LUGONES PK 10000     AUTOPISTA  ...    NaN    NaN   \n",
       "106         AU BUENOS AIRES - LA PLATA KM. 4     AUTOPISTA  ...    NaN    NaN   \n",
       "179  AU PERITO MORENO Y RAMAL ENLACE AU1/AU6     AUTOPISTA  ...    NaN    NaN   \n",
       "180                       AU DELLEPIANE 2400     AUTOPISTA  ...    NaN    NaN   \n",
       "312                 AUTOPISTA LUGONES KM 4.7     AUTOPISTA  ...    NaN    NaN   \n",
       "545             LUGONES, LEOPOLDO AV. KM 6,1     AUTOPISTA  ...    NaN    NaN   \n",
       "620         AU BUENOS AIRES LA PLATA  KM 4,5     AUTOPISTA  ...    NaN    NaN   \n",
       "\n",
       "    Dirección Normalizada COMUNA    XY (CABA) pos x pos y     PARTICIPANTES  \\\n",
       "38                    NaN     13  Point (. .)     .     .           MOTO-SD   \n",
       "106                   NaN      4  Point (. .)     .     .       MOTO-CARGAS   \n",
       "179                   NaN      9  Point (. .)     .     .       MOTO-CARGAS   \n",
       "180                   NaN      7  Point (. .)     .     .         AUTO-AUTO   \n",
       "312                   NaN     14  Point (. .)     .     .       PEATON-AUTO   \n",
       "545                   NaN     14  Point (. .)     .     .  MOTO-OBJETO FIJO   \n",
       "620                   NaN      4  Point (. .)     .     .       MOTO-CARGAS   \n",
       "\n",
       "    VICTIMA      ACUSADO  \n",
       "38     MOTO           SD  \n",
       "106    MOTO       CARGAS  \n",
       "179    MOTO       CARGAS  \n",
       "180    AUTO         AUTO  \n",
       "312  PEATON         AUTO  \n",
       "545    MOTO  OBJETO FIJO  \n",
       "620    MOTO       CARGAS  \n",
       "\n",
       "[7 rows x 21 columns]"
      ]
     },
     "execution_count": 19,
     "metadata": {},
     "output_type": "execute_result"
    }
   ],
   "source": [
    "# Vamos a filtrar los resultados para mostrarlos\n",
    "registros_nulos = df_homicidios_hechos[df_homicidios_hechos['Dirección Normalizada'].isnull()]\n",
    "# Muestra el DataFrame\n",
    "registros_nulos"
   ]
  },
  {
   "cell_type": "markdown",
   "metadata": {},
   "source": [
    "Podemos ver que los faltantes en la columna Dirección Normalizada se debe en a que el accidente fue producido en una autopista, donde los valores que tenemos es la autopista y el kilometro donde sucesido el incidente, por ende lo vamos a dejar como esta"
   ]
  },
  {
   "cell_type": "markdown",
   "metadata": {},
   "source": [
    "Columna Comuna"
   ]
  },
  {
   "cell_type": "markdown",
   "metadata": {},
   "source": [
    "- La columna de comuna tiene 0 donde hay faltantes."
   ]
  },
  {
   "cell_type": "code",
   "execution_count": 20,
   "metadata": {},
   "outputs": [
    {
     "data": {
      "text/html": [
       "<div>\n",
       "<style scoped>\n",
       "    .dataframe tbody tr th:only-of-type {\n",
       "        vertical-align: middle;\n",
       "    }\n",
       "\n",
       "    .dataframe tbody tr th {\n",
       "        vertical-align: top;\n",
       "    }\n",
       "\n",
       "    .dataframe thead th {\n",
       "        text-align: right;\n",
       "    }\n",
       "</style>\n",
       "<table border=\"1\" class=\"dataframe\">\n",
       "  <thead>\n",
       "    <tr style=\"text-align: right;\">\n",
       "      <th></th>\n",
       "      <th>ID</th>\n",
       "      <th>N_VICTIMAS</th>\n",
       "      <th>FECHA</th>\n",
       "      <th>AAAA</th>\n",
       "      <th>MM</th>\n",
       "      <th>DD</th>\n",
       "      <th>HORA</th>\n",
       "      <th>HH</th>\n",
       "      <th>LUGAR_DEL_HECHO</th>\n",
       "      <th>TIPO_DE_CALLE</th>\n",
       "      <th>...</th>\n",
       "      <th>Altura</th>\n",
       "      <th>Cruce</th>\n",
       "      <th>Dirección Normalizada</th>\n",
       "      <th>COMUNA</th>\n",
       "      <th>XY (CABA)</th>\n",
       "      <th>pos x</th>\n",
       "      <th>pos y</th>\n",
       "      <th>PARTICIPANTES</th>\n",
       "      <th>VICTIMA</th>\n",
       "      <th>ACUSADO</th>\n",
       "    </tr>\n",
       "  </thead>\n",
       "  <tbody>\n",
       "    <tr>\n",
       "      <th>138</th>\n",
       "      <td>2016-0174</td>\n",
       "      <td>1</td>\n",
       "      <td>2016-12-27</td>\n",
       "      <td>2016</td>\n",
       "      <td>12</td>\n",
       "      <td>27</td>\n",
       "      <td>00:00:00</td>\n",
       "      <td>0</td>\n",
       "      <td>AUTOPISTA 25 DE MAYO</td>\n",
       "      <td>AUTOPISTA</td>\n",
       "      <td>...</td>\n",
       "      <td>NaN</td>\n",
       "      <td>NaN</td>\n",
       "      <td>AUTOPISTA 25 DE MAYO</td>\n",
       "      <td>0</td>\n",
       "      <td>Point (. .)</td>\n",
       "      <td>.</td>\n",
       "      <td>.</td>\n",
       "      <td>SD-SD</td>\n",
       "      <td>SD</td>\n",
       "      <td>SD</td>\n",
       "    </tr>\n",
       "  </tbody>\n",
       "</table>\n",
       "<p>1 rows × 21 columns</p>\n",
       "</div>"
      ],
      "text/plain": [
       "            ID  N_VICTIMAS      FECHA  AAAA  MM  DD      HORA  HH  \\\n",
       "138  2016-0174           1 2016-12-27  2016  12  27  00:00:00   0   \n",
       "\n",
       "          LUGAR_DEL_HECHO TIPO_DE_CALLE  ... Altura  Cruce  \\\n",
       "138  AUTOPISTA 25 DE MAYO     AUTOPISTA  ...    NaN    NaN   \n",
       "\n",
       "    Dirección Normalizada COMUNA    XY (CABA) pos x pos y PARTICIPANTES  \\\n",
       "138  AUTOPISTA 25 DE MAYO      0  Point (. .)     .     .         SD-SD   \n",
       "\n",
       "    VICTIMA ACUSADO  \n",
       "138      SD      SD  \n",
       "\n",
       "[1 rows x 21 columns]"
      ]
     },
     "execution_count": 20,
     "metadata": {},
     "output_type": "execute_result"
    }
   ],
   "source": [
    "# Buscamos los valores en donde comuna tiene 0\n",
    "# Vamos a filtrar los resultados para mostrarlos\n",
    "registros_nulos = df_homicidios_hechos[df_homicidios_hechos['COMUNA']== 0 ]\n",
    "# Muestra el DataFrame\n",
    "registros_nulos"
   ]
  },
  {
   "cell_type": "code",
   "execution_count": 21,
   "metadata": {},
   "outputs": [],
   "source": [
    "# Eliminamos la fila\n",
    "# Utilizamos el método drop para eliminar la fila\n",
    "df_homicidios_hechos = df_homicidios_hechos.drop(138)\n",
    "\n",
    "# Vamos a reiniciar el index\n",
    "df_homicidios_hechos.reset_index(drop=True, inplace=True)"
   ]
  },
  {
   "cell_type": "markdown",
   "metadata": {},
   "source": [
    "Considero eliminar esta fila por ser la unica en no contar informacion sobre la comuna"
   ]
  },
  {
   "cell_type": "markdown",
   "metadata": {},
   "source": [
    "**Columna XY(CABA)**"
   ]
  },
  {
   "cell_type": "markdown",
   "metadata": {},
   "source": [
    "- XY(CABA) tiene faltantes, pero considero que esta columna es redundante, ya que contamos con las columnas \"posy\" y \"posx\""
   ]
  },
  {
   "cell_type": "markdown",
   "metadata": {},
   "source": [
    "**Columnas 'posy', 'posx'**"
   ]
  },
  {
   "cell_type": "markdown",
   "metadata": {},
   "source": [
    "- posy y posx tienen un '.' donde hay faltantes"
   ]
  },
  {
   "cell_type": "code",
   "execution_count": 22,
   "metadata": {},
   "outputs": [
    {
     "name": "stdout",
     "output_type": "stream",
     "text": [
      "            ID                          LUGAR_DEL_HECHO pos x pos y\n",
      "38   2016-0052               AUTOPISTA LUGONES PK 10000     .     .\n",
      "106  2016-0136         AU BUENOS AIRES - LA PLATA KM. 4     .     .\n",
      "174  2017-0042            AV. LEOPOLDO LUGONES PKM 6900     .     .\n",
      "178  2017-0050  AU PERITO MORENO Y RAMAL ENLACE AU1/AU6     .     .\n",
      "179  2017-0051                       AU DELLEPIANE 2400     .     .\n",
      "254  2017-0140              AU ARTURO FRONDIZI PKM 3100     .     .\n",
      "311  2018-0039                 AUTOPISTA LUGONES KM 4.7     .     .\n",
      "544  2020-0026             LUGONES, LEOPOLDO AV. KM 6,1     .     .\n",
      "557  2020-0039                          MURGUIONDO 2700     .     .\n",
      "619  2021-0023         AU BUENOS AIRES LA PLATA  KM 4,5     .     .\n"
     ]
    }
   ],
   "source": [
    "# Vamos a ver los faltantes para estas columnas\n",
    "# Filtra el DataFrame para mostrar solo las filas con valores '.' en 'pos y' o 'pos x'\n",
    "registros_nulos_pos = df_homicidios_hechos[(df_homicidios_hechos['pos x'] == '.') | (df_homicidios_hechos['pos y'] == '.')]\n",
    "\n",
    "# Muestra el DataFrame filtrado\n",
    "print(registros_nulos_pos[['ID','LUGAR_DEL_HECHO', 'pos x', 'pos y']])\n"
   ]
  },
  {
   "cell_type": "markdown",
   "metadata": {},
   "source": [
    "Las faltantes solo representan una porcion menor por lo que considero dejarlas."
   ]
  },
  {
   "cell_type": "markdown",
   "metadata": {},
   "source": [
    "En las columnas \"pos x\" y \"pos y\" las cuales representan la posicion satelital se encuentran en formato object y las convertiremos a numeric."
   ]
  },
  {
   "cell_type": "code",
   "execution_count": 23,
   "metadata": {},
   "outputs": [],
   "source": [
    "# Conversion  de 'pos x' y 'pos y' a numeric y reemplar el \".\" por \",\"\n",
    "df_homicidios_hechos['pos x'] = pd.to_numeric(df_homicidios_hechos['pos x'].str.replace(',', '.'), errors='coerce')\n",
    "df_homicidios_hechos['pos y'] = pd.to_numeric(df_homicidios_hechos['pos y'].str.replace(',', '.'), errors='coerce')"
   ]
  },
  {
   "cell_type": "code",
   "execution_count": 24,
   "metadata": {},
   "outputs": [
    {
     "data": {
      "text/html": [
       "<div>\n",
       "<style scoped>\n",
       "    .dataframe tbody tr th:only-of-type {\n",
       "        vertical-align: middle;\n",
       "    }\n",
       "\n",
       "    .dataframe tbody tr th {\n",
       "        vertical-align: top;\n",
       "    }\n",
       "\n",
       "    .dataframe thead th {\n",
       "        text-align: right;\n",
       "    }\n",
       "</style>\n",
       "<table border=\"1\" class=\"dataframe\">\n",
       "  <thead>\n",
       "    <tr style=\"text-align: right;\">\n",
       "      <th></th>\n",
       "      <th>ID</th>\n",
       "      <th>N_VICTIMAS</th>\n",
       "      <th>FECHA</th>\n",
       "      <th>AAAA</th>\n",
       "      <th>MM</th>\n",
       "      <th>DD</th>\n",
       "      <th>HORA</th>\n",
       "      <th>HH</th>\n",
       "      <th>LUGAR_DEL_HECHO</th>\n",
       "      <th>TIPO_DE_CALLE</th>\n",
       "      <th>...</th>\n",
       "      <th>Altura</th>\n",
       "      <th>Cruce</th>\n",
       "      <th>Dirección Normalizada</th>\n",
       "      <th>COMUNA</th>\n",
       "      <th>XY (CABA)</th>\n",
       "      <th>pos x</th>\n",
       "      <th>pos y</th>\n",
       "      <th>PARTICIPANTES</th>\n",
       "      <th>VICTIMA</th>\n",
       "      <th>ACUSADO</th>\n",
       "    </tr>\n",
       "  </thead>\n",
       "  <tbody>\n",
       "    <tr>\n",
       "      <th>32</th>\n",
       "      <td>2016-0045</td>\n",
       "      <td>1</td>\n",
       "      <td>2016-04-11</td>\n",
       "      <td>2016</td>\n",
       "      <td>4</td>\n",
       "      <td>11</td>\n",
       "      <td>10:25:00</td>\n",
       "      <td>10</td>\n",
       "      <td>AV GRAL PAZ Y AV DEL LIBERTADOR</td>\n",
       "      <td>GRAL PAZ</td>\n",
       "      <td>...</td>\n",
       "      <td>NaN</td>\n",
       "      <td>DEL LIBERTADOR AV.</td>\n",
       "      <td>PAZ, GRAL. AV. y DEL LIBERTADOR AV.</td>\n",
       "      <td>13</td>\n",
       "      <td>Point (99620.34936816 110483.29286598)</td>\n",
       "      <td>-58.467435</td>\n",
       "      <td>-34.534769</td>\n",
       "      <td>MOTO-SD</td>\n",
       "      <td>MOTO</td>\n",
       "      <td>SD</td>\n",
       "    </tr>\n",
       "    <tr>\n",
       "      <th>38</th>\n",
       "      <td>2016-0052</td>\n",
       "      <td>1</td>\n",
       "      <td>2016-04-20</td>\n",
       "      <td>2016</td>\n",
       "      <td>4</td>\n",
       "      <td>20</td>\n",
       "      <td>20:00:00</td>\n",
       "      <td>20</td>\n",
       "      <td>AUTOPISTA LUGONES PK 10000</td>\n",
       "      <td>AUTOPISTA</td>\n",
       "      <td>...</td>\n",
       "      <td>NaN</td>\n",
       "      <td>NaN</td>\n",
       "      <td>NaN</td>\n",
       "      <td>13</td>\n",
       "      <td>Point (. .)</td>\n",
       "      <td>NaN</td>\n",
       "      <td>NaN</td>\n",
       "      <td>MOTO-SD</td>\n",
       "      <td>MOTO</td>\n",
       "      <td>SD</td>\n",
       "    </tr>\n",
       "    <tr>\n",
       "      <th>56</th>\n",
       "      <td>2016-0079</td>\n",
       "      <td>1</td>\n",
       "      <td>2016-06-16</td>\n",
       "      <td>2016</td>\n",
       "      <td>6</td>\n",
       "      <td>16</td>\n",
       "      <td>17:13:00</td>\n",
       "      <td>17</td>\n",
       "      <td>AV DEL LIBERTADOR Y AV GUILLERMO UDAONDO</td>\n",
       "      <td>AVENIDA</td>\n",
       "      <td>...</td>\n",
       "      <td>NaN</td>\n",
       "      <td>UDAONDO, GUILLERMO AV.</td>\n",
       "      <td>DEL LIBERTADOR AV. y UDAONDO, GUILLERMO AV.</td>\n",
       "      <td>13</td>\n",
       "      <td>Point (100757.94817512 108943.96108781)</td>\n",
       "      <td>-58.455042</td>\n",
       "      <td>-34.548645</td>\n",
       "      <td>AUTO-AUTO</td>\n",
       "      <td>AUTO</td>\n",
       "      <td>AUTO</td>\n",
       "    </tr>\n",
       "    <tr>\n",
       "      <th>66</th>\n",
       "      <td>2016-0089</td>\n",
       "      <td>1</td>\n",
       "      <td>2016-07-14</td>\n",
       "      <td>2016</td>\n",
       "      <td>7</td>\n",
       "      <td>14</td>\n",
       "      <td>06:40:00</td>\n",
       "      <td>6</td>\n",
       "      <td>AV LUGONES Y LA PAMPA</td>\n",
       "      <td>AUTOPISTA</td>\n",
       "      <td>...</td>\n",
       "      <td>NaN</td>\n",
       "      <td>LA PAMPA</td>\n",
       "      <td>LUGONES, LEOPOLDO AV. y LA PAMPA</td>\n",
       "      <td>13</td>\n",
       "      <td>Point (102842.06561704 108587.10659007)</td>\n",
       "      <td>-58.432334</td>\n",
       "      <td>-34.551858</td>\n",
       "      <td>PEATON-AUTO</td>\n",
       "      <td>PEATON</td>\n",
       "      <td>AUTO</td>\n",
       "    </tr>\n",
       "    <tr>\n",
       "      <th>68</th>\n",
       "      <td>2016-0092</td>\n",
       "      <td>1</td>\n",
       "      <td>2016-07-15</td>\n",
       "      <td>2016</td>\n",
       "      <td>7</td>\n",
       "      <td>15</td>\n",
       "      <td>11:00:00</td>\n",
       "      <td>11</td>\n",
       "      <td>AV GRAL PAZ Y AV LIBERTADOR</td>\n",
       "      <td>GRAL PAZ</td>\n",
       "      <td>...</td>\n",
       "      <td>NaN</td>\n",
       "      <td>DEL LIBERTADOR AV.</td>\n",
       "      <td>PAZ, GRAL. AV. y DEL LIBERTADOR AV.</td>\n",
       "      <td>13</td>\n",
       "      <td>Point (99620.34936816 110483.29286598)</td>\n",
       "      <td>-58.467435</td>\n",
       "      <td>-34.534769</td>\n",
       "      <td>MOTO-CARGAS</td>\n",
       "      <td>MOTO</td>\n",
       "      <td>CARGAS</td>\n",
       "    </tr>\n",
       "  </tbody>\n",
       "</table>\n",
       "<p>5 rows × 21 columns</p>\n",
       "</div>"
      ],
      "text/plain": [
       "           ID  N_VICTIMAS      FECHA  AAAA  MM  DD      HORA  HH  \\\n",
       "32  2016-0045           1 2016-04-11  2016   4  11  10:25:00  10   \n",
       "38  2016-0052           1 2016-04-20  2016   4  20  20:00:00  20   \n",
       "56  2016-0079           1 2016-06-16  2016   6  16  17:13:00  17   \n",
       "66  2016-0089           1 2016-07-14  2016   7  14  06:40:00   6   \n",
       "68  2016-0092           1 2016-07-15  2016   7  15  11:00:00  11   \n",
       "\n",
       "                             LUGAR_DEL_HECHO TIPO_DE_CALLE  ... Altura  \\\n",
       "32           AV GRAL PAZ Y AV DEL LIBERTADOR      GRAL PAZ  ...    NaN   \n",
       "38                AUTOPISTA LUGONES PK 10000     AUTOPISTA  ...    NaN   \n",
       "56  AV DEL LIBERTADOR Y AV GUILLERMO UDAONDO       AVENIDA  ...    NaN   \n",
       "66                     AV LUGONES Y LA PAMPA     AUTOPISTA  ...    NaN   \n",
       "68              AV GRAL PAZ Y AV LIBERTADOR       GRAL PAZ  ...    NaN   \n",
       "\n",
       "                     Cruce                        Dirección Normalizada  \\\n",
       "32      DEL LIBERTADOR AV.          PAZ, GRAL. AV. y DEL LIBERTADOR AV.   \n",
       "38                     NaN                                          NaN   \n",
       "56  UDAONDO, GUILLERMO AV.  DEL LIBERTADOR AV. y UDAONDO, GUILLERMO AV.   \n",
       "66                LA PAMPA             LUGONES, LEOPOLDO AV. y LA PAMPA   \n",
       "68      DEL LIBERTADOR AV.          PAZ, GRAL. AV. y DEL LIBERTADOR AV.   \n",
       "\n",
       "   COMUNA                                XY (CABA)      pos x      pos y  \\\n",
       "32     13   Point (99620.34936816 110483.29286598) -58.467435 -34.534769   \n",
       "38     13                              Point (. .)        NaN        NaN   \n",
       "56     13  Point (100757.94817512 108943.96108781) -58.455042 -34.548645   \n",
       "66     13  Point (102842.06561704 108587.10659007) -58.432334 -34.551858   \n",
       "68     13   Point (99620.34936816 110483.29286598) -58.467435 -34.534769   \n",
       "\n",
       "    PARTICIPANTES VICTIMA ACUSADO  \n",
       "32        MOTO-SD    MOTO      SD  \n",
       "38        MOTO-SD    MOTO      SD  \n",
       "56      AUTO-AUTO    AUTO    AUTO  \n",
       "66    PEATON-AUTO  PEATON    AUTO  \n",
       "68    MOTO-CARGAS    MOTO  CARGAS  \n",
       "\n",
       "[5 rows x 21 columns]"
      ]
     },
     "execution_count": 24,
     "metadata": {},
     "output_type": "execute_result"
    }
   ],
   "source": [
    "df_homicidios_hechos[df_homicidios_hechos['COMUNA'] == 13].head(5)"
   ]
  },
  {
   "cell_type": "markdown",
   "metadata": {},
   "source": [
    "Se reemplazaran los valores nulos de las localizaciones con el promedio de localizacion en x y y para cada comuna"
   ]
  },
  {
   "cell_type": "code",
   "execution_count": 25,
   "metadata": {},
   "outputs": [],
   "source": [
    "# promedio de localizaciones por cada comuna\n",
    "mean_by_comuna_X = df_homicidios_hechos.groupby('COMUNA')['pos x'].mean()\n",
    "mean_by_comuna_Y = df_homicidios_hechos.groupby('COMUNA')['pos y'].mean()\n",
    "# Conversion de nulos\n",
    "df_homicidios_hechos['pos x'] = df_homicidios_hechos.groupby('COMUNA')['pos x'].transform(lambda x: x.fillna(x.mean()))\n",
    "df_homicidios_hechos['pos y'] = df_homicidios_hechos.groupby('COMUNA')['pos y'].transform(lambda x: x.fillna(x.mean()))"
   ]
  },
  {
   "cell_type": "code",
   "execution_count": 26,
   "metadata": {},
   "outputs": [
    {
     "data": {
      "text/html": [
       "<div>\n",
       "<style scoped>\n",
       "    .dataframe tbody tr th:only-of-type {\n",
       "        vertical-align: middle;\n",
       "    }\n",
       "\n",
       "    .dataframe tbody tr th {\n",
       "        vertical-align: top;\n",
       "    }\n",
       "\n",
       "    .dataframe thead th {\n",
       "        text-align: right;\n",
       "    }\n",
       "</style>\n",
       "<table border=\"1\" class=\"dataframe\">\n",
       "  <thead>\n",
       "    <tr style=\"text-align: right;\">\n",
       "      <th></th>\n",
       "      <th>ID</th>\n",
       "      <th>N_VICTIMAS</th>\n",
       "      <th>FECHA</th>\n",
       "      <th>AAAA</th>\n",
       "      <th>MM</th>\n",
       "      <th>DD</th>\n",
       "      <th>HORA</th>\n",
       "      <th>HH</th>\n",
       "      <th>LUGAR_DEL_HECHO</th>\n",
       "      <th>TIPO_DE_CALLE</th>\n",
       "      <th>...</th>\n",
       "      <th>Altura</th>\n",
       "      <th>Cruce</th>\n",
       "      <th>Dirección Normalizada</th>\n",
       "      <th>COMUNA</th>\n",
       "      <th>XY (CABA)</th>\n",
       "      <th>pos x</th>\n",
       "      <th>pos y</th>\n",
       "      <th>PARTICIPANTES</th>\n",
       "      <th>VICTIMA</th>\n",
       "      <th>ACUSADO</th>\n",
       "    </tr>\n",
       "  </thead>\n",
       "  <tbody>\n",
       "    <tr>\n",
       "      <th>32</th>\n",
       "      <td>2016-0045</td>\n",
       "      <td>1</td>\n",
       "      <td>2016-04-11</td>\n",
       "      <td>2016</td>\n",
       "      <td>4</td>\n",
       "      <td>11</td>\n",
       "      <td>10:25:00</td>\n",
       "      <td>10</td>\n",
       "      <td>AV GRAL PAZ Y AV DEL LIBERTADOR</td>\n",
       "      <td>GRAL PAZ</td>\n",
       "      <td>...</td>\n",
       "      <td>NaN</td>\n",
       "      <td>DEL LIBERTADOR AV.</td>\n",
       "      <td>PAZ, GRAL. AV. y DEL LIBERTADOR AV.</td>\n",
       "      <td>13</td>\n",
       "      <td>Point (99620.34936816 110483.29286598)</td>\n",
       "      <td>-58.467435</td>\n",
       "      <td>-34.534769</td>\n",
       "      <td>MOTO-SD</td>\n",
       "      <td>MOTO</td>\n",
       "      <td>SD</td>\n",
       "    </tr>\n",
       "    <tr>\n",
       "      <th>38</th>\n",
       "      <td>2016-0052</td>\n",
       "      <td>1</td>\n",
       "      <td>2016-04-20</td>\n",
       "      <td>2016</td>\n",
       "      <td>4</td>\n",
       "      <td>20</td>\n",
       "      <td>20:00:00</td>\n",
       "      <td>20</td>\n",
       "      <td>AUTOPISTA LUGONES PK 10000</td>\n",
       "      <td>AUTOPISTA</td>\n",
       "      <td>...</td>\n",
       "      <td>NaN</td>\n",
       "      <td>NaN</td>\n",
       "      <td>NaN</td>\n",
       "      <td>13</td>\n",
       "      <td>Point (. .)</td>\n",
       "      <td>-58.454505</td>\n",
       "      <td>-34.551733</td>\n",
       "      <td>MOTO-SD</td>\n",
       "      <td>MOTO</td>\n",
       "      <td>SD</td>\n",
       "    </tr>\n",
       "    <tr>\n",
       "      <th>56</th>\n",
       "      <td>2016-0079</td>\n",
       "      <td>1</td>\n",
       "      <td>2016-06-16</td>\n",
       "      <td>2016</td>\n",
       "      <td>6</td>\n",
       "      <td>16</td>\n",
       "      <td>17:13:00</td>\n",
       "      <td>17</td>\n",
       "      <td>AV DEL LIBERTADOR Y AV GUILLERMO UDAONDO</td>\n",
       "      <td>AVENIDA</td>\n",
       "      <td>...</td>\n",
       "      <td>NaN</td>\n",
       "      <td>UDAONDO, GUILLERMO AV.</td>\n",
       "      <td>DEL LIBERTADOR AV. y UDAONDO, GUILLERMO AV.</td>\n",
       "      <td>13</td>\n",
       "      <td>Point (100757.94817512 108943.96108781)</td>\n",
       "      <td>-58.455042</td>\n",
       "      <td>-34.548645</td>\n",
       "      <td>AUTO-AUTO</td>\n",
       "      <td>AUTO</td>\n",
       "      <td>AUTO</td>\n",
       "    </tr>\n",
       "    <tr>\n",
       "      <th>66</th>\n",
       "      <td>2016-0089</td>\n",
       "      <td>1</td>\n",
       "      <td>2016-07-14</td>\n",
       "      <td>2016</td>\n",
       "      <td>7</td>\n",
       "      <td>14</td>\n",
       "      <td>06:40:00</td>\n",
       "      <td>6</td>\n",
       "      <td>AV LUGONES Y LA PAMPA</td>\n",
       "      <td>AUTOPISTA</td>\n",
       "      <td>...</td>\n",
       "      <td>NaN</td>\n",
       "      <td>LA PAMPA</td>\n",
       "      <td>LUGONES, LEOPOLDO AV. y LA PAMPA</td>\n",
       "      <td>13</td>\n",
       "      <td>Point (102842.06561704 108587.10659007)</td>\n",
       "      <td>-58.432334</td>\n",
       "      <td>-34.551858</td>\n",
       "      <td>PEATON-AUTO</td>\n",
       "      <td>PEATON</td>\n",
       "      <td>AUTO</td>\n",
       "    </tr>\n",
       "    <tr>\n",
       "      <th>68</th>\n",
       "      <td>2016-0092</td>\n",
       "      <td>1</td>\n",
       "      <td>2016-07-15</td>\n",
       "      <td>2016</td>\n",
       "      <td>7</td>\n",
       "      <td>15</td>\n",
       "      <td>11:00:00</td>\n",
       "      <td>11</td>\n",
       "      <td>AV GRAL PAZ Y AV LIBERTADOR</td>\n",
       "      <td>GRAL PAZ</td>\n",
       "      <td>...</td>\n",
       "      <td>NaN</td>\n",
       "      <td>DEL LIBERTADOR AV.</td>\n",
       "      <td>PAZ, GRAL. AV. y DEL LIBERTADOR AV.</td>\n",
       "      <td>13</td>\n",
       "      <td>Point (99620.34936816 110483.29286598)</td>\n",
       "      <td>-58.467435</td>\n",
       "      <td>-34.534769</td>\n",
       "      <td>MOTO-CARGAS</td>\n",
       "      <td>MOTO</td>\n",
       "      <td>CARGAS</td>\n",
       "    </tr>\n",
       "  </tbody>\n",
       "</table>\n",
       "<p>5 rows × 21 columns</p>\n",
       "</div>"
      ],
      "text/plain": [
       "           ID  N_VICTIMAS      FECHA  AAAA  MM  DD      HORA  HH  \\\n",
       "32  2016-0045           1 2016-04-11  2016   4  11  10:25:00  10   \n",
       "38  2016-0052           1 2016-04-20  2016   4  20  20:00:00  20   \n",
       "56  2016-0079           1 2016-06-16  2016   6  16  17:13:00  17   \n",
       "66  2016-0089           1 2016-07-14  2016   7  14  06:40:00   6   \n",
       "68  2016-0092           1 2016-07-15  2016   7  15  11:00:00  11   \n",
       "\n",
       "                             LUGAR_DEL_HECHO TIPO_DE_CALLE  ... Altura  \\\n",
       "32           AV GRAL PAZ Y AV DEL LIBERTADOR      GRAL PAZ  ...    NaN   \n",
       "38                AUTOPISTA LUGONES PK 10000     AUTOPISTA  ...    NaN   \n",
       "56  AV DEL LIBERTADOR Y AV GUILLERMO UDAONDO       AVENIDA  ...    NaN   \n",
       "66                     AV LUGONES Y LA PAMPA     AUTOPISTA  ...    NaN   \n",
       "68              AV GRAL PAZ Y AV LIBERTADOR       GRAL PAZ  ...    NaN   \n",
       "\n",
       "                     Cruce                        Dirección Normalizada  \\\n",
       "32      DEL LIBERTADOR AV.          PAZ, GRAL. AV. y DEL LIBERTADOR AV.   \n",
       "38                     NaN                                          NaN   \n",
       "56  UDAONDO, GUILLERMO AV.  DEL LIBERTADOR AV. y UDAONDO, GUILLERMO AV.   \n",
       "66                LA PAMPA             LUGONES, LEOPOLDO AV. y LA PAMPA   \n",
       "68      DEL LIBERTADOR AV.          PAZ, GRAL. AV. y DEL LIBERTADOR AV.   \n",
       "\n",
       "   COMUNA                                XY (CABA)      pos x      pos y  \\\n",
       "32     13   Point (99620.34936816 110483.29286598) -58.467435 -34.534769   \n",
       "38     13                              Point (. .) -58.454505 -34.551733   \n",
       "56     13  Point (100757.94817512 108943.96108781) -58.455042 -34.548645   \n",
       "66     13  Point (102842.06561704 108587.10659007) -58.432334 -34.551858   \n",
       "68     13   Point (99620.34936816 110483.29286598) -58.467435 -34.534769   \n",
       "\n",
       "    PARTICIPANTES VICTIMA ACUSADO  \n",
       "32        MOTO-SD    MOTO      SD  \n",
       "38        MOTO-SD    MOTO      SD  \n",
       "56      AUTO-AUTO    AUTO    AUTO  \n",
       "66    PEATON-AUTO  PEATON    AUTO  \n",
       "68    MOTO-CARGAS    MOTO  CARGAS  \n",
       "\n",
       "[5 rows x 21 columns]"
      ]
     },
     "execution_count": 26,
     "metadata": {},
     "output_type": "execute_result"
    }
   ],
   "source": [
    "df_homicidios_hechos[df_homicidios_hechos['COMUNA'] == 13].head(5)"
   ]
  },
  {
   "cell_type": "markdown",
   "metadata": {},
   "source": [
    "Crearemos una nueva columna llamada \"Momento del dia\" la cual nos dira si el accidente ocurrio surante el dia o la noche "
   ]
  },
  {
   "cell_type": "code",
   "execution_count": 27,
   "metadata": {},
   "outputs": [
    {
     "data": {
      "text/html": [
       "<div>\n",
       "<style scoped>\n",
       "    .dataframe tbody tr th:only-of-type {\n",
       "        vertical-align: middle;\n",
       "    }\n",
       "\n",
       "    .dataframe tbody tr th {\n",
       "        vertical-align: top;\n",
       "    }\n",
       "\n",
       "    .dataframe thead th {\n",
       "        text-align: right;\n",
       "    }\n",
       "</style>\n",
       "<table border=\"1\" class=\"dataframe\">\n",
       "  <thead>\n",
       "    <tr style=\"text-align: right;\">\n",
       "      <th></th>\n",
       "      <th>ID</th>\n",
       "      <th>N_VICTIMAS</th>\n",
       "      <th>FECHA</th>\n",
       "      <th>AAAA</th>\n",
       "      <th>MM</th>\n",
       "      <th>DD</th>\n",
       "      <th>HORA</th>\n",
       "      <th>HH</th>\n",
       "      <th>LUGAR_DEL_HECHO</th>\n",
       "      <th>TIPO_DE_CALLE</th>\n",
       "      <th>...</th>\n",
       "      <th>Cruce</th>\n",
       "      <th>Dirección Normalizada</th>\n",
       "      <th>COMUNA</th>\n",
       "      <th>XY (CABA)</th>\n",
       "      <th>pos x</th>\n",
       "      <th>pos y</th>\n",
       "      <th>PARTICIPANTES</th>\n",
       "      <th>VICTIMA</th>\n",
       "      <th>ACUSADO</th>\n",
       "      <th>Momento_del_dia</th>\n",
       "    </tr>\n",
       "  </thead>\n",
       "  <tbody>\n",
       "    <tr>\n",
       "      <th>0</th>\n",
       "      <td>2016-0001</td>\n",
       "      <td>1</td>\n",
       "      <td>2016-01-01</td>\n",
       "      <td>2016</td>\n",
       "      <td>1</td>\n",
       "      <td>1</td>\n",
       "      <td>04:00:00</td>\n",
       "      <td>4</td>\n",
       "      <td>AV PIEDRA BUENA Y AV FERNANDEZ DE LA CRUZ</td>\n",
       "      <td>AVENIDA</td>\n",
       "      <td>...</td>\n",
       "      <td>FERNANDEZ DE LA CRUZ, F., GRAL. AV.</td>\n",
       "      <td>PIEDRA BUENA AV. y FERNANDEZ DE LA CRUZ, F., G...</td>\n",
       "      <td>8</td>\n",
       "      <td>Point (98896.78238426 93532.43437792)</td>\n",
       "      <td>-58.475340</td>\n",
       "      <td>-34.687570</td>\n",
       "      <td>MOTO-AUTO</td>\n",
       "      <td>MOTO</td>\n",
       "      <td>AUTO</td>\n",
       "      <td>Noche</td>\n",
       "    </tr>\n",
       "    <tr>\n",
       "      <th>1</th>\n",
       "      <td>2016-0002</td>\n",
       "      <td>1</td>\n",
       "      <td>2016-01-02</td>\n",
       "      <td>2016</td>\n",
       "      <td>1</td>\n",
       "      <td>2</td>\n",
       "      <td>01:15:00</td>\n",
       "      <td>1</td>\n",
       "      <td>AV GRAL PAZ  Y AV DE LOS CORRALES</td>\n",
       "      <td>GRAL PAZ</td>\n",
       "      <td>...</td>\n",
       "      <td>DE LOS CORRALES AV.</td>\n",
       "      <td>PAZ, GRAL. AV. y DE LOS CORRALES AV.</td>\n",
       "      <td>9</td>\n",
       "      <td>Point (95832.05571093 95505.41641999)</td>\n",
       "      <td>-58.508775</td>\n",
       "      <td>-34.669777</td>\n",
       "      <td>AUTO-PASAJEROS</td>\n",
       "      <td>AUTO</td>\n",
       "      <td>PASAJEROS</td>\n",
       "      <td>Noche</td>\n",
       "    </tr>\n",
       "    <tr>\n",
       "      <th>2</th>\n",
       "      <td>2016-0003</td>\n",
       "      <td>1</td>\n",
       "      <td>2016-01-03</td>\n",
       "      <td>2016</td>\n",
       "      <td>1</td>\n",
       "      <td>3</td>\n",
       "      <td>07:00:00</td>\n",
       "      <td>7</td>\n",
       "      <td>AV ENTRE RIOS 2034</td>\n",
       "      <td>AVENIDA</td>\n",
       "      <td>...</td>\n",
       "      <td>NaN</td>\n",
       "      <td>ENTRE RIOS AV. 2034</td>\n",
       "      <td>1</td>\n",
       "      <td>Point (106684.29090040 99706.57687843)</td>\n",
       "      <td>-58.390403</td>\n",
       "      <td>-34.631894</td>\n",
       "      <td>MOTO-AUTO</td>\n",
       "      <td>MOTO</td>\n",
       "      <td>AUTO</td>\n",
       "      <td>Dia</td>\n",
       "    </tr>\n",
       "    <tr>\n",
       "      <th>3</th>\n",
       "      <td>2016-0004</td>\n",
       "      <td>1</td>\n",
       "      <td>2016-01-10</td>\n",
       "      <td>2016</td>\n",
       "      <td>1</td>\n",
       "      <td>10</td>\n",
       "      <td>00:00:00</td>\n",
       "      <td>0</td>\n",
       "      <td>AV LARRAZABAL Y GRAL VILLEGAS CONRADO</td>\n",
       "      <td>AVENIDA</td>\n",
       "      <td>...</td>\n",
       "      <td>VILLEGAS, CONRADO, GRAL.</td>\n",
       "      <td>LARRAZABAL AV. y VILLEGAS, CONRADO, GRAL.</td>\n",
       "      <td>8</td>\n",
       "      <td>Point (99840.65224780 94269.16534422)</td>\n",
       "      <td>-58.465039</td>\n",
       "      <td>-34.680930</td>\n",
       "      <td>MOTO-SD</td>\n",
       "      <td>MOTO</td>\n",
       "      <td>SD</td>\n",
       "      <td>Noche</td>\n",
       "    </tr>\n",
       "    <tr>\n",
       "      <th>4</th>\n",
       "      <td>2016-0005</td>\n",
       "      <td>1</td>\n",
       "      <td>2016-01-21</td>\n",
       "      <td>2016</td>\n",
       "      <td>1</td>\n",
       "      <td>21</td>\n",
       "      <td>05:20:00</td>\n",
       "      <td>5</td>\n",
       "      <td>AV SAN JUAN Y PRESIDENTE LUIS SAENZ PEÑA</td>\n",
       "      <td>AVENIDA</td>\n",
       "      <td>...</td>\n",
       "      <td>SAENZ PE?A, LUIS, PRES.</td>\n",
       "      <td>SAN JUAN AV. y SAENZ PEÃ‘A, LUIS, PRES.</td>\n",
       "      <td>1</td>\n",
       "      <td>Point (106980.32827929 100752.16915795)</td>\n",
       "      <td>-58.387183</td>\n",
       "      <td>-34.622466</td>\n",
       "      <td>MOTO-PASAJEROS</td>\n",
       "      <td>MOTO</td>\n",
       "      <td>PASAJEROS</td>\n",
       "      <td>Noche</td>\n",
       "    </tr>\n",
       "    <tr>\n",
       "      <th>...</th>\n",
       "      <td>...</td>\n",
       "      <td>...</td>\n",
       "      <td>...</td>\n",
       "      <td>...</td>\n",
       "      <td>...</td>\n",
       "      <td>...</td>\n",
       "      <td>...</td>\n",
       "      <td>...</td>\n",
       "      <td>...</td>\n",
       "      <td>...</td>\n",
       "      <td>...</td>\n",
       "      <td>...</td>\n",
       "      <td>...</td>\n",
       "      <td>...</td>\n",
       "      <td>...</td>\n",
       "      <td>...</td>\n",
       "      <td>...</td>\n",
       "      <td>...</td>\n",
       "      <td>...</td>\n",
       "      <td>...</td>\n",
       "      <td>...</td>\n",
       "    </tr>\n",
       "    <tr>\n",
       "      <th>689</th>\n",
       "      <td>2021-0093</td>\n",
       "      <td>1</td>\n",
       "      <td>2021-12-13</td>\n",
       "      <td>2021</td>\n",
       "      <td>12</td>\n",
       "      <td>13</td>\n",
       "      <td>17:10:00</td>\n",
       "      <td>17</td>\n",
       "      <td>AV. RIESTRA Y MOM</td>\n",
       "      <td>AVENIDA</td>\n",
       "      <td>...</td>\n",
       "      <td>MOM</td>\n",
       "      <td>RIESTRA AV. y MOM</td>\n",
       "      <td>7</td>\n",
       "      <td>Point (102728.60090138 98186.24929177)</td>\n",
       "      <td>-58.433538</td>\n",
       "      <td>-34.645616</td>\n",
       "      <td>MOTO-AUTO</td>\n",
       "      <td>MOTO</td>\n",
       "      <td>AUTO</td>\n",
       "      <td>Dia</td>\n",
       "    </tr>\n",
       "    <tr>\n",
       "      <th>690</th>\n",
       "      <td>2021-0094</td>\n",
       "      <td>1</td>\n",
       "      <td>2021-12-20</td>\n",
       "      <td>2021</td>\n",
       "      <td>12</td>\n",
       "      <td>20</td>\n",
       "      <td>01:10:00</td>\n",
       "      <td>1</td>\n",
       "      <td>AU DELLEPIANE Y LACARRA</td>\n",
       "      <td>AUTOPISTA</td>\n",
       "      <td>...</td>\n",
       "      <td>LACARRA AV.</td>\n",
       "      <td>DELLEPIANE, LUIS, TTE. GRAL. y LACARRA AV.</td>\n",
       "      <td>9</td>\n",
       "      <td>Point (99624.29795829 97569.69801131)</td>\n",
       "      <td>-58.467398</td>\n",
       "      <td>-34.651178</td>\n",
       "      <td>MOTO-AUTO</td>\n",
       "      <td>MOTO</td>\n",
       "      <td>AUTO</td>\n",
       "      <td>Noche</td>\n",
       "    </tr>\n",
       "    <tr>\n",
       "      <th>691</th>\n",
       "      <td>2021-0095</td>\n",
       "      <td>1</td>\n",
       "      <td>2021-12-30</td>\n",
       "      <td>2021</td>\n",
       "      <td>12</td>\n",
       "      <td>30</td>\n",
       "      <td>00:43:00</td>\n",
       "      <td>0</td>\n",
       "      <td>AV. GAONA Y TERRADA</td>\n",
       "      <td>AVENIDA</td>\n",
       "      <td>...</td>\n",
       "      <td>TERRADA</td>\n",
       "      <td>GAONA AV. y TERRADA</td>\n",
       "      <td>11</td>\n",
       "      <td>Point (99116.45492358 101045.23284826)</td>\n",
       "      <td>-58.472934</td>\n",
       "      <td>-34.619847</td>\n",
       "      <td>MOTO-CARGAS</td>\n",
       "      <td>MOTO</td>\n",
       "      <td>CARGAS</td>\n",
       "      <td>Noche</td>\n",
       "    </tr>\n",
       "    <tr>\n",
       "      <th>692</th>\n",
       "      <td>2021-0096</td>\n",
       "      <td>1</td>\n",
       "      <td>2021-12-15</td>\n",
       "      <td>2021</td>\n",
       "      <td>12</td>\n",
       "      <td>15</td>\n",
       "      <td>10:30:00</td>\n",
       "      <td>10</td>\n",
       "      <td>AV. EVA PERON 4071</td>\n",
       "      <td>AVENIDA</td>\n",
       "      <td>...</td>\n",
       "      <td>NaN</td>\n",
       "      <td>PERON, EVA AV. 4071</td>\n",
       "      <td>9</td>\n",
       "      <td>Point (99324.54463985 97676.26932409)</td>\n",
       "      <td>-58.470668</td>\n",
       "      <td>-34.650217</td>\n",
       "      <td>AUTO-CARGAS</td>\n",
       "      <td>AUTO</td>\n",
       "      <td>CARGAS</td>\n",
       "      <td>Dia</td>\n",
       "    </tr>\n",
       "    <tr>\n",
       "      <th>693</th>\n",
       "      <td>2021-0097</td>\n",
       "      <td>1</td>\n",
       "      <td>2021-11-18</td>\n",
       "      <td>2021</td>\n",
       "      <td>11</td>\n",
       "      <td>18</td>\n",
       "      <td>06:10:00</td>\n",
       "      <td>6</td>\n",
       "      <td>PADRE CARLOS MUJICA 709</td>\n",
       "      <td>CALLE</td>\n",
       "      <td>...</td>\n",
       "      <td>NaN</td>\n",
       "      <td>PADRE CARLOS MUGICA 709</td>\n",
       "      <td>1</td>\n",
       "      <td>Point (107664.16647795 104708.63962087)</td>\n",
       "      <td>-58.379762</td>\n",
       "      <td>-34.586796</td>\n",
       "      <td>BICICLETA-AUTO</td>\n",
       "      <td>BICICLETA</td>\n",
       "      <td>AUTO</td>\n",
       "      <td>Dia</td>\n",
       "    </tr>\n",
       "  </tbody>\n",
       "</table>\n",
       "<p>694 rows × 22 columns</p>\n",
       "</div>"
      ],
      "text/plain": [
       "            ID  N_VICTIMAS      FECHA  AAAA  MM  DD      HORA  HH  \\\n",
       "0    2016-0001           1 2016-01-01  2016   1   1  04:00:00   4   \n",
       "1    2016-0002           1 2016-01-02  2016   1   2  01:15:00   1   \n",
       "2    2016-0003           1 2016-01-03  2016   1   3  07:00:00   7   \n",
       "3    2016-0004           1 2016-01-10  2016   1  10  00:00:00   0   \n",
       "4    2016-0005           1 2016-01-21  2016   1  21  05:20:00   5   \n",
       "..         ...         ...        ...   ...  ..  ..       ...  ..   \n",
       "689  2021-0093           1 2021-12-13  2021  12  13  17:10:00  17   \n",
       "690  2021-0094           1 2021-12-20  2021  12  20  01:10:00   1   \n",
       "691  2021-0095           1 2021-12-30  2021  12  30  00:43:00   0   \n",
       "692  2021-0096           1 2021-12-15  2021  12  15  10:30:00  10   \n",
       "693  2021-0097           1 2021-11-18  2021  11  18  06:10:00   6   \n",
       "\n",
       "                               LUGAR_DEL_HECHO TIPO_DE_CALLE  ...  \\\n",
       "0    AV PIEDRA BUENA Y AV FERNANDEZ DE LA CRUZ       AVENIDA  ...   \n",
       "1            AV GRAL PAZ  Y AV DE LOS CORRALES      GRAL PAZ  ...   \n",
       "2                           AV ENTRE RIOS 2034       AVENIDA  ...   \n",
       "3        AV LARRAZABAL Y GRAL VILLEGAS CONRADO       AVENIDA  ...   \n",
       "4    AV SAN JUAN Y PRESIDENTE LUIS SAENZ PEÑA        AVENIDA  ...   \n",
       "..                                         ...           ...  ...   \n",
       "689                          AV. RIESTRA Y MOM       AVENIDA  ...   \n",
       "690                    AU DELLEPIANE Y LACARRA     AUTOPISTA  ...   \n",
       "691                        AV. GAONA Y TERRADA       AVENIDA  ...   \n",
       "692                         AV. EVA PERON 4071       AVENIDA  ...   \n",
       "693                    PADRE CARLOS MUJICA 709         CALLE  ...   \n",
       "\n",
       "                                   Cruce  \\\n",
       "0    FERNANDEZ DE LA CRUZ, F., GRAL. AV.   \n",
       "1                    DE LOS CORRALES AV.   \n",
       "2                                    NaN   \n",
       "3               VILLEGAS, CONRADO, GRAL.   \n",
       "4                SAENZ PE?A, LUIS, PRES.   \n",
       "..                                   ...   \n",
       "689                                  MOM   \n",
       "690                          LACARRA AV.   \n",
       "691                              TERRADA   \n",
       "692                                  NaN   \n",
       "693                                  NaN   \n",
       "\n",
       "                                 Dirección Normalizada COMUNA  \\\n",
       "0    PIEDRA BUENA AV. y FERNANDEZ DE LA CRUZ, F., G...      8   \n",
       "1                 PAZ, GRAL. AV. y DE LOS CORRALES AV.      9   \n",
       "2                                  ENTRE RIOS AV. 2034      1   \n",
       "3            LARRAZABAL AV. y VILLEGAS, CONRADO, GRAL.      8   \n",
       "4              SAN JUAN AV. y SAENZ PEÃ‘A, LUIS, PRES.      1   \n",
       "..                                                 ...    ...   \n",
       "689                                  RIESTRA AV. y MOM      7   \n",
       "690         DELLEPIANE, LUIS, TTE. GRAL. y LACARRA AV.      9   \n",
       "691                                GAONA AV. y TERRADA     11   \n",
       "692                                PERON, EVA AV. 4071      9   \n",
       "693                            PADRE CARLOS MUGICA 709      1   \n",
       "\n",
       "                                   XY (CABA)      pos x      pos y  \\\n",
       "0      Point (98896.78238426 93532.43437792) -58.475340 -34.687570   \n",
       "1      Point (95832.05571093 95505.41641999) -58.508775 -34.669777   \n",
       "2     Point (106684.29090040 99706.57687843) -58.390403 -34.631894   \n",
       "3      Point (99840.65224780 94269.16534422) -58.465039 -34.680930   \n",
       "4    Point (106980.32827929 100752.16915795) -58.387183 -34.622466   \n",
       "..                                       ...        ...        ...   \n",
       "689   Point (102728.60090138 98186.24929177) -58.433538 -34.645616   \n",
       "690    Point (99624.29795829 97569.69801131) -58.467398 -34.651178   \n",
       "691   Point (99116.45492358 101045.23284826) -58.472934 -34.619847   \n",
       "692    Point (99324.54463985 97676.26932409) -58.470668 -34.650217   \n",
       "693  Point (107664.16647795 104708.63962087) -58.379762 -34.586796   \n",
       "\n",
       "      PARTICIPANTES    VICTIMA    ACUSADO Momento_del_dia  \n",
       "0         MOTO-AUTO       MOTO       AUTO           Noche  \n",
       "1    AUTO-PASAJEROS       AUTO  PASAJEROS           Noche  \n",
       "2         MOTO-AUTO       MOTO       AUTO             Dia  \n",
       "3           MOTO-SD       MOTO         SD           Noche  \n",
       "4    MOTO-PASAJEROS       MOTO  PASAJEROS           Noche  \n",
       "..              ...        ...        ...             ...  \n",
       "689       MOTO-AUTO       MOTO       AUTO             Dia  \n",
       "690       MOTO-AUTO       MOTO       AUTO           Noche  \n",
       "691     MOTO-CARGAS       MOTO     CARGAS           Noche  \n",
       "692     AUTO-CARGAS       AUTO     CARGAS             Dia  \n",
       "693  BICICLETA-AUTO  BICICLETA       AUTO             Dia  \n",
       "\n",
       "[694 rows x 22 columns]"
      ]
     },
     "execution_count": 27,
     "metadata": {},
     "output_type": "execute_result"
    }
   ],
   "source": [
    "# Conversion del formato de la columna 'HH' a numerico \n",
    "df_homicidios_hechos['HH'] =  pd.to_numeric(df_homicidios_hechos['HH'], errors='coerce')\n",
    "\n",
    "# Creamos la condicion para clasificar el dia o la noche \n",
    "condicion_dia = (df_homicidios_hechos['HH'] >= 6) & (df_homicidios_hechos['HH'] <= 18)\n",
    "\n",
    "# Crear la nueva columna 'momento_del_dia' usando np.where\n",
    "df_homicidios_hechos['Momento_del_dia'] = np.where(condicion_dia, 'Dia', 'Noche')\n",
    "\n",
    "# Mostrar los resultados\n",
    "df_homicidios_hechos"
   ]
  },
  {
   "cell_type": "code",
   "execution_count": null,
   "metadata": {},
   "outputs": [],
   "source": []
  },
  {
   "cell_type": "markdown",
   "metadata": {},
   "source": [
    "**Columna Participantes, victima y acusado**"
   ]
  },
  {
   "cell_type": "markdown",
   "metadata": {},
   "source": [
    "- participantes tiene SD-SD como los faltantes.\n",
    "\n",
    "- Victima y acusado tienen SD como sus faltantes."
   ]
  },
  {
   "cell_type": "code",
   "execution_count": 28,
   "metadata": {},
   "outputs": [
    {
     "name": "stdout",
     "output_type": "stream",
     "text": [
      "Conteo de Participantes (SD y SD-SD):\n",
      "SD-SD    4\n",
      "Name: PARTICIPANTES, dtype: int64\n",
      "\n",
      "Conteo de Víctima (SD):\n",
      "SD    8\n",
      "Name: VICTIMA, dtype: int64\n",
      "\n",
      "Conteo de Acusado (SD):\n",
      "SD    21\n",
      "Name: ACUSADO, dtype: int64\n"
     ]
    }
   ],
   "source": [
    "# Filtrar las filas donde la columna \"Participantes\" es \"SD\" o \"SD-SD\"\n",
    "conteo_participantes = df_homicidios_hechos[df_homicidios_hechos['PARTICIPANTES'].isin(['SD', 'SD-SD'])]['PARTICIPANTES'].value_counts()\n",
    "\n",
    "# Filtrar las filas donde la columna \"VICTIMA\" es \"SD\"\n",
    "conteo_victima = df_homicidios_hechos[df_homicidios_hechos['VICTIMA'] == 'SD']['VICTIMA'].value_counts()\n",
    "\n",
    "# Filtrar las filas donde la columna \"ACUSADO\" es \"SD\"\n",
    "conteo_acusado = df_homicidios_hechos[df_homicidios_hechos['ACUSADO'] == 'SD']['ACUSADO'].value_counts()\n",
    "\n",
    "# Imprimir los resultados\n",
    "print(\"Conteo de Participantes (SD y SD-SD):\")\n",
    "print(conteo_participantes)\n",
    "\n",
    "print(\"\\nConteo de Víctima (SD):\")\n",
    "print(conteo_victima)\n",
    "\n",
    "print(\"\\nConteo de Acusado (SD):\")\n",
    "print(conteo_acusado)"
   ]
  },
  {
   "cell_type": "markdown",
   "metadata": {},
   "source": [
    "En este caso, los faltantes son pocos datos como se menciona arriba, estos faltantes puede deberse a varios factores, por ende no los vamos a borrar, y vamos a trabajar con estos datos en power BI, entendiendo que hay valores de victima, acusado y participantes, que estan como sin dato (SD)"
   ]
  },
  {
   "cell_type": "markdown",
   "metadata": {},
   "source": [
    "**Vemos transformaciones realizadas**"
   ]
  },
  {
   "cell_type": "code",
   "execution_count": 29,
   "metadata": {},
   "outputs": [
    {
     "name": "stdout",
     "output_type": "stream",
     "text": [
      "<class 'pandas.core.frame.DataFrame'>\n",
      "RangeIndex: 694 entries, 0 to 693\n",
      "Data columns (total 22 columns):\n",
      " #   Column                 Non-Null Count  Dtype         \n",
      "---  ------                 --------------  -----         \n",
      " 0   ID                     694 non-null    object        \n",
      " 1   N_VICTIMAS             694 non-null    int64         \n",
      " 2   FECHA                  694 non-null    datetime64[ns]\n",
      " 3   AAAA                   694 non-null    int64         \n",
      " 4   MM                     694 non-null    int64         \n",
      " 5   DD                     694 non-null    int64         \n",
      " 6   HORA                   694 non-null    object        \n",
      " 7   HH                     694 non-null    int32         \n",
      " 8   LUGAR_DEL_HECHO        694 non-null    object        \n",
      " 9   TIPO_DE_CALLE          694 non-null    object        \n",
      " 10  Calle                  694 non-null    object        \n",
      " 11  Altura                 129 non-null    float64       \n",
      " 12  Cruce                  525 non-null    object        \n",
      " 13  Dirección Normalizada  687 non-null    object        \n",
      " 14  COMUNA                 694 non-null    int64         \n",
      " 15  XY (CABA)              694 non-null    object        \n",
      " 16  pos x                  694 non-null    float64       \n",
      " 17  pos y                  694 non-null    float64       \n",
      " 18  PARTICIPANTES          694 non-null    object        \n",
      " 19  VICTIMA                694 non-null    object        \n",
      " 20  ACUSADO                694 non-null    object        \n",
      " 21  Momento_del_dia        694 non-null    object        \n",
      "dtypes: datetime64[ns](1), float64(3), int32(1), int64(5), object(12)\n",
      "memory usage: 116.7+ KB\n"
     ]
    }
   ],
   "source": [
    "df_homicidios_hechos.info()"
   ]
  },
  {
   "cell_type": "markdown",
   "metadata": {},
   "source": [
    "Vamos a exportar el dataset transformado"
   ]
  },
  {
   "cell_type": "code",
   "execution_count": 30,
   "metadata": {},
   "outputs": [],
   "source": [
    "df_homicidios_hechos.to_excel(r'C:\\Users\\ale_h\\Desktop\\Henry#\\PI individual 2\\prueba_ale_2\\Datasets 2\\df_homicidios_hechos.xlsx', index=False)"
   ]
  },
  {
   "cell_type": "markdown",
   "metadata": {},
   "source": [
    "------------------------------------------------------------------------------------------"
   ]
  },
  {
   "cell_type": "markdown",
   "metadata": {},
   "source": [
    "Analizamos los datos de la tabla df_homicidios_victimas"
   ]
  },
  {
   "cell_type": "code",
   "execution_count": 31,
   "metadata": {},
   "outputs": [
    {
     "data": {
      "text/html": [
       "<div>\n",
       "<style scoped>\n",
       "    .dataframe tbody tr th:only-of-type {\n",
       "        vertical-align: middle;\n",
       "    }\n",
       "\n",
       "    .dataframe tbody tr th {\n",
       "        vertical-align: top;\n",
       "    }\n",
       "\n",
       "    .dataframe thead th {\n",
       "        text-align: right;\n",
       "    }\n",
       "</style>\n",
       "<table border=\"1\" class=\"dataframe\">\n",
       "  <thead>\n",
       "    <tr style=\"text-align: right;\">\n",
       "      <th></th>\n",
       "      <th>ID_hecho</th>\n",
       "      <th>FECHA</th>\n",
       "      <th>AAAA</th>\n",
       "      <th>MM</th>\n",
       "      <th>DD</th>\n",
       "      <th>ROL</th>\n",
       "      <th>VICTIMA</th>\n",
       "      <th>SEXO</th>\n",
       "      <th>EDAD</th>\n",
       "      <th>FECHA_FALLECIMIENTO</th>\n",
       "    </tr>\n",
       "  </thead>\n",
       "  <tbody>\n",
       "    <tr>\n",
       "      <th>0</th>\n",
       "      <td>2016-0001</td>\n",
       "      <td>2016-01-01</td>\n",
       "      <td>2016</td>\n",
       "      <td>1</td>\n",
       "      <td>1</td>\n",
       "      <td>CONDUCTOR</td>\n",
       "      <td>MOTO</td>\n",
       "      <td>MASCULINO</td>\n",
       "      <td>19</td>\n",
       "      <td>2016-01-01 00:00:00</td>\n",
       "    </tr>\n",
       "    <tr>\n",
       "      <th>1</th>\n",
       "      <td>2016-0002</td>\n",
       "      <td>2016-01-02</td>\n",
       "      <td>2016</td>\n",
       "      <td>1</td>\n",
       "      <td>2</td>\n",
       "      <td>CONDUCTOR</td>\n",
       "      <td>AUTO</td>\n",
       "      <td>MASCULINO</td>\n",
       "      <td>70</td>\n",
       "      <td>2016-01-02 00:00:00</td>\n",
       "    </tr>\n",
       "    <tr>\n",
       "      <th>2</th>\n",
       "      <td>2016-0003</td>\n",
       "      <td>2016-01-03</td>\n",
       "      <td>2016</td>\n",
       "      <td>1</td>\n",
       "      <td>3</td>\n",
       "      <td>CONDUCTOR</td>\n",
       "      <td>MOTO</td>\n",
       "      <td>MASCULINO</td>\n",
       "      <td>30</td>\n",
       "      <td>2016-01-03 00:00:00</td>\n",
       "    </tr>\n",
       "    <tr>\n",
       "      <th>3</th>\n",
       "      <td>2016-0004</td>\n",
       "      <td>2016-01-10</td>\n",
       "      <td>2016</td>\n",
       "      <td>1</td>\n",
       "      <td>10</td>\n",
       "      <td>CONDUCTOR</td>\n",
       "      <td>MOTO</td>\n",
       "      <td>MASCULINO</td>\n",
       "      <td>18</td>\n",
       "      <td>SD</td>\n",
       "    </tr>\n",
       "    <tr>\n",
       "      <th>4</th>\n",
       "      <td>2016-0005</td>\n",
       "      <td>2016-01-21</td>\n",
       "      <td>2016</td>\n",
       "      <td>1</td>\n",
       "      <td>21</td>\n",
       "      <td>CONDUCTOR</td>\n",
       "      <td>MOTO</td>\n",
       "      <td>MASCULINO</td>\n",
       "      <td>29</td>\n",
       "      <td>2016-02-01 00:00:00</td>\n",
       "    </tr>\n",
       "  </tbody>\n",
       "</table>\n",
       "</div>"
      ],
      "text/plain": [
       "    ID_hecho      FECHA  AAAA  MM  DD        ROL VICTIMA       SEXO EDAD  \\\n",
       "0  2016-0001 2016-01-01  2016   1   1  CONDUCTOR    MOTO  MASCULINO   19   \n",
       "1  2016-0002 2016-01-02  2016   1   2  CONDUCTOR    AUTO  MASCULINO   70   \n",
       "2  2016-0003 2016-01-03  2016   1   3  CONDUCTOR    MOTO  MASCULINO   30   \n",
       "3  2016-0004 2016-01-10  2016   1  10  CONDUCTOR    MOTO  MASCULINO   18   \n",
       "4  2016-0005 2016-01-21  2016   1  21  CONDUCTOR    MOTO  MASCULINO   29   \n",
       "\n",
       "   FECHA_FALLECIMIENTO  \n",
       "0  2016-01-01 00:00:00  \n",
       "1  2016-01-02 00:00:00  \n",
       "2  2016-01-03 00:00:00  \n",
       "3                   SD  \n",
       "4  2016-02-01 00:00:00  "
      ]
     },
     "execution_count": 31,
     "metadata": {},
     "output_type": "execute_result"
    }
   ],
   "source": [
    "df_homicidios_victimas.head()"
   ]
  },
  {
   "cell_type": "code",
   "execution_count": 32,
   "metadata": {},
   "outputs": [
    {
     "data": {
      "text/html": [
       "<div>\n",
       "<style scoped>\n",
       "    .dataframe tbody tr th:only-of-type {\n",
       "        vertical-align: middle;\n",
       "    }\n",
       "\n",
       "    .dataframe tbody tr th {\n",
       "        vertical-align: top;\n",
       "    }\n",
       "\n",
       "    .dataframe thead th {\n",
       "        text-align: right;\n",
       "    }\n",
       "</style>\n",
       "<table border=\"1\" class=\"dataframe\">\n",
       "  <thead>\n",
       "    <tr style=\"text-align: right;\">\n",
       "      <th></th>\n",
       "      <th>ID_hecho</th>\n",
       "      <th>FECHA</th>\n",
       "      <th>AAAA</th>\n",
       "      <th>MM</th>\n",
       "      <th>DD</th>\n",
       "      <th>ROL</th>\n",
       "      <th>VICTIMA</th>\n",
       "      <th>SEXO</th>\n",
       "      <th>EDAD</th>\n",
       "      <th>FECHA_FALLECIMIENTO</th>\n",
       "    </tr>\n",
       "  </thead>\n",
       "  <tbody>\n",
       "    <tr>\n",
       "      <th>712</th>\n",
       "      <td>2021-0092</td>\n",
       "      <td>2021-12-12</td>\n",
       "      <td>2021</td>\n",
       "      <td>12</td>\n",
       "      <td>12</td>\n",
       "      <td>PEATON</td>\n",
       "      <td>PEATON</td>\n",
       "      <td>FEMENINO</td>\n",
       "      <td>50</td>\n",
       "      <td>2021-12-12 00:00:00</td>\n",
       "    </tr>\n",
       "    <tr>\n",
       "      <th>713</th>\n",
       "      <td>2021-0093</td>\n",
       "      <td>2021-12-13</td>\n",
       "      <td>2021</td>\n",
       "      <td>12</td>\n",
       "      <td>13</td>\n",
       "      <td>PASAJERO_ACOMPAÑANTE</td>\n",
       "      <td>MOTO</td>\n",
       "      <td>FEMENINO</td>\n",
       "      <td>18</td>\n",
       "      <td>2021-12-18 00:00:00</td>\n",
       "    </tr>\n",
       "    <tr>\n",
       "      <th>714</th>\n",
       "      <td>2021-0094</td>\n",
       "      <td>2021-12-20</td>\n",
       "      <td>2021</td>\n",
       "      <td>12</td>\n",
       "      <td>20</td>\n",
       "      <td>PASAJERO_ACOMPAÑANTE</td>\n",
       "      <td>MOTO</td>\n",
       "      <td>FEMENINO</td>\n",
       "      <td>43</td>\n",
       "      <td>2021-12-20 00:00:00</td>\n",
       "    </tr>\n",
       "    <tr>\n",
       "      <th>715</th>\n",
       "      <td>2021-0095</td>\n",
       "      <td>2021-12-30</td>\n",
       "      <td>2021</td>\n",
       "      <td>12</td>\n",
       "      <td>30</td>\n",
       "      <td>CONDUCTOR</td>\n",
       "      <td>MOTO</td>\n",
       "      <td>MASCULINO</td>\n",
       "      <td>27</td>\n",
       "      <td>2022-01-02 00:00:00</td>\n",
       "    </tr>\n",
       "    <tr>\n",
       "      <th>716</th>\n",
       "      <td>2021-0096</td>\n",
       "      <td>2021-12-15</td>\n",
       "      <td>2021</td>\n",
       "      <td>12</td>\n",
       "      <td>15</td>\n",
       "      <td>CONDUCTOR</td>\n",
       "      <td>AUTO</td>\n",
       "      <td>MASCULINO</td>\n",
       "      <td>60</td>\n",
       "      <td>2021-12-20 00:00:00</td>\n",
       "    </tr>\n",
       "  </tbody>\n",
       "</table>\n",
       "</div>"
      ],
      "text/plain": [
       "      ID_hecho      FECHA  AAAA  MM  DD                   ROL VICTIMA  \\\n",
       "712  2021-0092 2021-12-12  2021  12  12                PEATON  PEATON   \n",
       "713  2021-0093 2021-12-13  2021  12  13  PASAJERO_ACOMPAÑANTE    MOTO   \n",
       "714  2021-0094 2021-12-20  2021  12  20  PASAJERO_ACOMPAÑANTE    MOTO   \n",
       "715  2021-0095 2021-12-30  2021  12  30             CONDUCTOR    MOTO   \n",
       "716  2021-0096 2021-12-15  2021  12  15             CONDUCTOR    AUTO   \n",
       "\n",
       "          SEXO EDAD  FECHA_FALLECIMIENTO  \n",
       "712   FEMENINO   50  2021-12-12 00:00:00  \n",
       "713   FEMENINO   18  2021-12-18 00:00:00  \n",
       "714   FEMENINO   43  2021-12-20 00:00:00  \n",
       "715  MASCULINO   27  2022-01-02 00:00:00  \n",
       "716  MASCULINO   60  2021-12-20 00:00:00  "
      ]
     },
     "execution_count": 32,
     "metadata": {},
     "output_type": "execute_result"
    }
   ],
   "source": [
    "df_homicidios_victimas.tail()"
   ]
  },
  {
   "cell_type": "code",
   "execution_count": 33,
   "metadata": {},
   "outputs": [
    {
     "name": "stdout",
     "output_type": "stream",
     "text": [
      "<class 'pandas.core.frame.DataFrame'>\n",
      "RangeIndex: 717 entries, 0 to 716\n",
      "Data columns (total 10 columns):\n",
      " #   Column               Non-Null Count  Dtype         \n",
      "---  ------               --------------  -----         \n",
      " 0   ID_hecho             717 non-null    object        \n",
      " 1   FECHA                717 non-null    datetime64[ns]\n",
      " 2   AAAA                 717 non-null    int64         \n",
      " 3   MM                   717 non-null    int64         \n",
      " 4   DD                   717 non-null    int64         \n",
      " 5   ROL                  717 non-null    object        \n",
      " 6   VICTIMA              717 non-null    object        \n",
      " 7   SEXO                 717 non-null    object        \n",
      " 8   EDAD                 717 non-null    object        \n",
      " 9   FECHA_FALLECIMIENTO  717 non-null    object        \n",
      "dtypes: datetime64[ns](1), int64(3), object(6)\n",
      "memory usage: 56.1+ KB\n"
     ]
    }
   ],
   "source": [
    "df_homicidios_victimas.info()"
   ]
  },
  {
   "cell_type": "code",
   "execution_count": 34,
   "metadata": {},
   "outputs": [
    {
     "data": {
      "text/plain": [
       "2017-0035    3\n",
       "2017-0050    2\n",
       "2016-0041    2\n",
       "2018-0015    2\n",
       "2020-0063    2\n",
       "            ..\n",
       "2017-0115    1\n",
       "2017-0116    1\n",
       "2017-0118    1\n",
       "2017-0120    1\n",
       "2021-0096    1\n",
       "Name: ID_hecho, Length: 696, dtype: int64"
      ]
     },
     "execution_count": 34,
     "metadata": {},
     "output_type": "execute_result"
    }
   ],
   "source": [
    "df_homicidios_victimas['ID_hecho'].value_counts()"
   ]
  },
  {
   "cell_type": "code",
   "execution_count": 35,
   "metadata": {},
   "outputs": [
    {
     "data": {
      "text/plain": [
       "ID_hecho               0\n",
       "FECHA                  0\n",
       "AAAA                   0\n",
       "MM                     0\n",
       "DD                     0\n",
       "ROL                    0\n",
       "VICTIMA                0\n",
       "SEXO                   0\n",
       "EDAD                   0\n",
       "FECHA_FALLECIMIENTO    0\n",
       "dtype: int64"
      ]
     },
     "execution_count": 35,
     "metadata": {},
     "output_type": "execute_result"
    }
   ],
   "source": [
    "df_homicidios_victimas.isnull().sum()"
   ]
  },
  {
   "cell_type": "code",
   "execution_count": 36,
   "metadata": {},
   "outputs": [],
   "source": [
    "# Eliminar datos duplicados\n",
    "df_homicidios_victimas = df_homicidios_victimas.drop_duplicates()"
   ]
  },
  {
   "cell_type": "code",
   "execution_count": 37,
   "metadata": {},
   "outputs": [
    {
     "data": {
      "text/html": [
       "<div>\n",
       "<style scoped>\n",
       "    .dataframe tbody tr th:only-of-type {\n",
       "        vertical-align: middle;\n",
       "    }\n",
       "\n",
       "    .dataframe tbody tr th {\n",
       "        vertical-align: top;\n",
       "    }\n",
       "\n",
       "    .dataframe thead th {\n",
       "        text-align: right;\n",
       "    }\n",
       "</style>\n",
       "<table border=\"1\" class=\"dataframe\">\n",
       "  <thead>\n",
       "    <tr style=\"text-align: right;\">\n",
       "      <th></th>\n",
       "      <th>AAAA</th>\n",
       "      <th>MM</th>\n",
       "      <th>DD</th>\n",
       "    </tr>\n",
       "  </thead>\n",
       "  <tbody>\n",
       "    <tr>\n",
       "      <th>count</th>\n",
       "      <td>717.000000</td>\n",
       "      <td>717.000000</td>\n",
       "      <td>717.000000</td>\n",
       "    </tr>\n",
       "    <tr>\n",
       "      <th>mean</th>\n",
       "      <td>2018.174338</td>\n",
       "      <td>6.688982</td>\n",
       "      <td>15.960948</td>\n",
       "    </tr>\n",
       "    <tr>\n",
       "      <th>std</th>\n",
       "      <td>1.672655</td>\n",
       "      <td>3.575140</td>\n",
       "      <td>8.683358</td>\n",
       "    </tr>\n",
       "    <tr>\n",
       "      <th>min</th>\n",
       "      <td>2016.000000</td>\n",
       "      <td>1.000000</td>\n",
       "      <td>1.000000</td>\n",
       "    </tr>\n",
       "    <tr>\n",
       "      <th>25%</th>\n",
       "      <td>2017.000000</td>\n",
       "      <td>4.000000</td>\n",
       "      <td>9.000000</td>\n",
       "    </tr>\n",
       "    <tr>\n",
       "      <th>50%</th>\n",
       "      <td>2018.000000</td>\n",
       "      <td>7.000000</td>\n",
       "      <td>16.000000</td>\n",
       "    </tr>\n",
       "    <tr>\n",
       "      <th>75%</th>\n",
       "      <td>2019.000000</td>\n",
       "      <td>10.000000</td>\n",
       "      <td>23.000000</td>\n",
       "    </tr>\n",
       "    <tr>\n",
       "      <th>max</th>\n",
       "      <td>2021.000000</td>\n",
       "      <td>12.000000</td>\n",
       "      <td>31.000000</td>\n",
       "    </tr>\n",
       "  </tbody>\n",
       "</table>\n",
       "</div>"
      ],
      "text/plain": [
       "              AAAA          MM          DD\n",
       "count   717.000000  717.000000  717.000000\n",
       "mean   2018.174338    6.688982   15.960948\n",
       "std       1.672655    3.575140    8.683358\n",
       "min    2016.000000    1.000000    1.000000\n",
       "25%    2017.000000    4.000000    9.000000\n",
       "50%    2018.000000    7.000000   16.000000\n",
       "75%    2019.000000   10.000000   23.000000\n",
       "max    2021.000000   12.000000   31.000000"
      ]
     },
     "execution_count": 37,
     "metadata": {},
     "output_type": "execute_result"
    }
   ],
   "source": [
    "df_homicidios_victimas.describe()"
   ]
  },
  {
   "cell_type": "code",
   "execution_count": 38,
   "metadata": {},
   "outputs": [
    {
     "data": {
      "text/plain": [
       "count     717\n",
       "unique     86\n",
       "top        SD\n",
       "freq       53\n",
       "Name: EDAD, dtype: object"
      ]
     },
     "execution_count": 38,
     "metadata": {},
     "output_type": "execute_result"
    }
   ],
   "source": [
    "df_homicidios_victimas['EDAD'].describe()"
   ]
  },
  {
   "cell_type": "code",
   "execution_count": 39,
   "metadata": {},
   "outputs": [
    {
     "data": {
      "text/plain": [
       "count           717\n",
       "unique            5\n",
       "top       CONDUCTOR\n",
       "freq            330\n",
       "Name: ROL, dtype: object"
      ]
     },
     "execution_count": 39,
     "metadata": {},
     "output_type": "execute_result"
    }
   ],
   "source": [
    "df_homicidios_victimas['ROL'].describe()"
   ]
  },
  {
   "cell_type": "code",
   "execution_count": 40,
   "metadata": {},
   "outputs": [
    {
     "data": {
      "text/plain": [
       "count      717\n",
       "unique       8\n",
       "top       MOTO\n",
       "freq       303\n",
       "Name: VICTIMA, dtype: object"
      ]
     },
     "execution_count": 40,
     "metadata": {},
     "output_type": "execute_result"
    }
   ],
   "source": [
    "df_homicidios_victimas['VICTIMA'].describe()"
   ]
  },
  {
   "cell_type": "code",
   "execution_count": 41,
   "metadata": {},
   "outputs": [
    {
     "data": {
      "text/plain": [
       "count           717\n",
       "unique            3\n",
       "top       MASCULINO\n",
       "freq            545\n",
       "Name: SEXO, dtype: object"
      ]
     },
     "execution_count": 41,
     "metadata": {},
     "output_type": "execute_result"
    }
   ],
   "source": [
    "df_homicidios_victimas['SEXO'].describe()"
   ]
  },
  {
   "cell_type": "code",
   "execution_count": 42,
   "metadata": {},
   "outputs": [
    {
     "name": "stdout",
     "output_type": "stream",
     "text": [
      "2016    146\n",
      "2017    140\n",
      "2018    149\n",
      "2019    104\n",
      "2020     81\n",
      "2021     97\n",
      "Name: AAAA, dtype: int64\n"
     ]
    }
   ],
   "source": [
    "frecuencia = df_homicidios_victimas['AAAA'].value_counts().sort_index()\n",
    "print(frecuencia)"
   ]
  },
  {
   "cell_type": "code",
   "execution_count": 43,
   "metadata": {},
   "outputs": [
    {
     "name": "stdout",
     "output_type": "stream",
     "text": [
      "1     62\n",
      "2     59\n",
      "3     56\n",
      "4     52\n",
      "5     60\n",
      "6     58\n",
      "7     51\n",
      "8     67\n",
      "9     51\n",
      "10    52\n",
      "11    68\n",
      "12    81\n",
      "Name: MM, dtype: int64\n"
     ]
    }
   ],
   "source": [
    "frecuencia = df_homicidios_victimas['MM'].value_counts().sort_index()\n",
    "print(frecuencia)"
   ]
  },
  {
   "cell_type": "code",
   "execution_count": 44,
   "metadata": {},
   "outputs": [
    {
     "name": "stdout",
     "output_type": "stream",
     "text": [
      "1     18\n",
      "2     24\n",
      "3     28\n",
      "4     23\n",
      "5     19\n",
      "6     20\n",
      "7     23\n",
      "8     14\n",
      "9     27\n",
      "10    26\n",
      "11    28\n",
      "12    26\n",
      "13    18\n",
      "14    27\n",
      "15    25\n",
      "16    18\n",
      "17    30\n",
      "18    24\n",
      "19    23\n",
      "20    32\n",
      "21    20\n",
      "22    23\n",
      "23    26\n",
      "24    19\n",
      "25    26\n",
      "26    22\n",
      "27    27\n",
      "28    26\n",
      "29    25\n",
      "30    17\n",
      "31    13\n",
      "Name: DD, dtype: int64\n"
     ]
    }
   ],
   "source": [
    "frecuencia = df_homicidios_victimas['DD'].value_counts().sort_index()\n",
    "print(frecuencia)"
   ]
  },
  {
   "cell_type": "code",
   "execution_count": 45,
   "metadata": {},
   "outputs": [
    {
     "name": "stdout",
     "output_type": "stream",
     "text": [
      "CICLISTA                 29\n",
      "CONDUCTOR               330\n",
      "PASAJERO_ACOMPAÑANTE     80\n",
      "PEATON                  267\n",
      "SD                       11\n",
      "Name: ROL, dtype: int64\n"
     ]
    }
   ],
   "source": [
    "frecuencia = df_homicidios_victimas['ROL'].value_counts().sort_index()\n",
    "print(frecuencia)"
   ]
  },
  {
   "cell_type": "markdown",
   "metadata": {},
   "source": [
    "VICTIMA\tSEXO\tEDAD\tFECHA_FALLECIMIENTO"
   ]
  },
  {
   "cell_type": "code",
   "execution_count": 46,
   "metadata": {},
   "outputs": [
    {
     "name": "stdout",
     "output_type": "stream",
     "text": [
      "FEMENINO     166\n",
      "MASCULINO    545\n",
      "SD             6\n",
      "Name: SEXO, dtype: int64\n"
     ]
    }
   ],
   "source": [
    "frecuencia = df_homicidios_victimas['SEXO'].value_counts().sort_index()\n",
    "print(frecuencia)"
   ]
  },
  {
   "cell_type": "code",
   "execution_count": 47,
   "metadata": {},
   "outputs": [],
   "source": [
    "# Transformar los datos de la columna 'EDAD' a numerico \n",
    "df_homicidios_victimas['EDAD'] =  pd.to_numeric(df_homicidios_victimas['EDAD'], errors='coerce')\n"
   ]
  },
  {
   "cell_type": "code",
   "execution_count": 48,
   "metadata": {},
   "outputs": [
    {
     "name": "stdout",
     "output_type": "stream",
     "text": [
      "1.0     2\n",
      "4.0     2\n",
      "5.0     1\n",
      "7.0     1\n",
      "10.0    2\n",
      "       ..\n",
      "87.0    5\n",
      "88.0    1\n",
      "91.0    2\n",
      "92.0    1\n",
      "95.0    1\n",
      "Name: EDAD, Length: 85, dtype: int64\n"
     ]
    }
   ],
   "source": [
    "frecuencia = df_homicidios_victimas['EDAD'].value_counts().sort_index()\n",
    "print(frecuencia)"
   ]
  },
  {
   "cell_type": "markdown",
   "metadata": {},
   "source": [
    "Definimos una nueva columna llamada rango etario para generalizar grupos etarios "
   ]
  },
  {
   "cell_type": "code",
   "execution_count": 49,
   "metadata": {},
   "outputs": [
    {
     "data": {
      "text/html": [
       "<div>\n",
       "<style scoped>\n",
       "    .dataframe tbody tr th:only-of-type {\n",
       "        vertical-align: middle;\n",
       "    }\n",
       "\n",
       "    .dataframe tbody tr th {\n",
       "        vertical-align: top;\n",
       "    }\n",
       "\n",
       "    .dataframe thead th {\n",
       "        text-align: right;\n",
       "    }\n",
       "</style>\n",
       "<table border=\"1\" class=\"dataframe\">\n",
       "  <thead>\n",
       "    <tr style=\"text-align: right;\">\n",
       "      <th></th>\n",
       "      <th>ID_hecho</th>\n",
       "      <th>FECHA</th>\n",
       "      <th>AAAA</th>\n",
       "      <th>MM</th>\n",
       "      <th>DD</th>\n",
       "      <th>ROL</th>\n",
       "      <th>VICTIMA</th>\n",
       "      <th>SEXO</th>\n",
       "      <th>EDAD</th>\n",
       "      <th>FECHA_FALLECIMIENTO</th>\n",
       "      <th>RangoEtario</th>\n",
       "    </tr>\n",
       "  </thead>\n",
       "  <tbody>\n",
       "    <tr>\n",
       "      <th>0</th>\n",
       "      <td>2016-0001</td>\n",
       "      <td>2016-01-01</td>\n",
       "      <td>2016</td>\n",
       "      <td>1</td>\n",
       "      <td>1</td>\n",
       "      <td>CONDUCTOR</td>\n",
       "      <td>MOTO</td>\n",
       "      <td>MASCULINO</td>\n",
       "      <td>19.0</td>\n",
       "      <td>2016-01-01 00:00:00</td>\n",
       "      <td>19-30</td>\n",
       "    </tr>\n",
       "    <tr>\n",
       "      <th>1</th>\n",
       "      <td>2016-0002</td>\n",
       "      <td>2016-01-02</td>\n",
       "      <td>2016</td>\n",
       "      <td>1</td>\n",
       "      <td>2</td>\n",
       "      <td>CONDUCTOR</td>\n",
       "      <td>AUTO</td>\n",
       "      <td>MASCULINO</td>\n",
       "      <td>70.0</td>\n",
       "      <td>2016-01-02 00:00:00</td>\n",
       "      <td>51+</td>\n",
       "    </tr>\n",
       "    <tr>\n",
       "      <th>2</th>\n",
       "      <td>2016-0003</td>\n",
       "      <td>2016-01-03</td>\n",
       "      <td>2016</td>\n",
       "      <td>1</td>\n",
       "      <td>3</td>\n",
       "      <td>CONDUCTOR</td>\n",
       "      <td>MOTO</td>\n",
       "      <td>MASCULINO</td>\n",
       "      <td>30.0</td>\n",
       "      <td>2016-01-03 00:00:00</td>\n",
       "      <td>31-50</td>\n",
       "    </tr>\n",
       "    <tr>\n",
       "      <th>3</th>\n",
       "      <td>2016-0004</td>\n",
       "      <td>2016-01-10</td>\n",
       "      <td>2016</td>\n",
       "      <td>1</td>\n",
       "      <td>10</td>\n",
       "      <td>CONDUCTOR</td>\n",
       "      <td>MOTO</td>\n",
       "      <td>MASCULINO</td>\n",
       "      <td>18.0</td>\n",
       "      <td>SD</td>\n",
       "      <td>19-30</td>\n",
       "    </tr>\n",
       "    <tr>\n",
       "      <th>4</th>\n",
       "      <td>2016-0005</td>\n",
       "      <td>2016-01-21</td>\n",
       "      <td>2016</td>\n",
       "      <td>1</td>\n",
       "      <td>21</td>\n",
       "      <td>CONDUCTOR</td>\n",
       "      <td>MOTO</td>\n",
       "      <td>MASCULINO</td>\n",
       "      <td>29.0</td>\n",
       "      <td>2016-02-01 00:00:00</td>\n",
       "      <td>19-30</td>\n",
       "    </tr>\n",
       "    <tr>\n",
       "      <th>...</th>\n",
       "      <td>...</td>\n",
       "      <td>...</td>\n",
       "      <td>...</td>\n",
       "      <td>...</td>\n",
       "      <td>...</td>\n",
       "      <td>...</td>\n",
       "      <td>...</td>\n",
       "      <td>...</td>\n",
       "      <td>...</td>\n",
       "      <td>...</td>\n",
       "      <td>...</td>\n",
       "    </tr>\n",
       "    <tr>\n",
       "      <th>712</th>\n",
       "      <td>2021-0092</td>\n",
       "      <td>2021-12-12</td>\n",
       "      <td>2021</td>\n",
       "      <td>12</td>\n",
       "      <td>12</td>\n",
       "      <td>PEATON</td>\n",
       "      <td>PEATON</td>\n",
       "      <td>FEMENINO</td>\n",
       "      <td>50.0</td>\n",
       "      <td>2021-12-12 00:00:00</td>\n",
       "      <td>51+</td>\n",
       "    </tr>\n",
       "    <tr>\n",
       "      <th>713</th>\n",
       "      <td>2021-0093</td>\n",
       "      <td>2021-12-13</td>\n",
       "      <td>2021</td>\n",
       "      <td>12</td>\n",
       "      <td>13</td>\n",
       "      <td>PASAJERO_ACOMPAÑANTE</td>\n",
       "      <td>MOTO</td>\n",
       "      <td>FEMENINO</td>\n",
       "      <td>18.0</td>\n",
       "      <td>2021-12-18 00:00:00</td>\n",
       "      <td>19-30</td>\n",
       "    </tr>\n",
       "    <tr>\n",
       "      <th>714</th>\n",
       "      <td>2021-0094</td>\n",
       "      <td>2021-12-20</td>\n",
       "      <td>2021</td>\n",
       "      <td>12</td>\n",
       "      <td>20</td>\n",
       "      <td>PASAJERO_ACOMPAÑANTE</td>\n",
       "      <td>MOTO</td>\n",
       "      <td>FEMENINO</td>\n",
       "      <td>43.0</td>\n",
       "      <td>2021-12-20 00:00:00</td>\n",
       "      <td>31-50</td>\n",
       "    </tr>\n",
       "    <tr>\n",
       "      <th>715</th>\n",
       "      <td>2021-0095</td>\n",
       "      <td>2021-12-30</td>\n",
       "      <td>2021</td>\n",
       "      <td>12</td>\n",
       "      <td>30</td>\n",
       "      <td>CONDUCTOR</td>\n",
       "      <td>MOTO</td>\n",
       "      <td>MASCULINO</td>\n",
       "      <td>27.0</td>\n",
       "      <td>2022-01-02 00:00:00</td>\n",
       "      <td>19-30</td>\n",
       "    </tr>\n",
       "    <tr>\n",
       "      <th>716</th>\n",
       "      <td>2021-0096</td>\n",
       "      <td>2021-12-15</td>\n",
       "      <td>2021</td>\n",
       "      <td>12</td>\n",
       "      <td>15</td>\n",
       "      <td>CONDUCTOR</td>\n",
       "      <td>AUTO</td>\n",
       "      <td>MASCULINO</td>\n",
       "      <td>60.0</td>\n",
       "      <td>2021-12-20 00:00:00</td>\n",
       "      <td>51+</td>\n",
       "    </tr>\n",
       "  </tbody>\n",
       "</table>\n",
       "<p>717 rows × 11 columns</p>\n",
       "</div>"
      ],
      "text/plain": [
       "      ID_hecho      FECHA  AAAA  MM  DD                   ROL VICTIMA  \\\n",
       "0    2016-0001 2016-01-01  2016   1   1             CONDUCTOR    MOTO   \n",
       "1    2016-0002 2016-01-02  2016   1   2             CONDUCTOR    AUTO   \n",
       "2    2016-0003 2016-01-03  2016   1   3             CONDUCTOR    MOTO   \n",
       "3    2016-0004 2016-01-10  2016   1  10             CONDUCTOR    MOTO   \n",
       "4    2016-0005 2016-01-21  2016   1  21             CONDUCTOR    MOTO   \n",
       "..         ...        ...   ...  ..  ..                   ...     ...   \n",
       "712  2021-0092 2021-12-12  2021  12  12                PEATON  PEATON   \n",
       "713  2021-0093 2021-12-13  2021  12  13  PASAJERO_ACOMPAÑANTE    MOTO   \n",
       "714  2021-0094 2021-12-20  2021  12  20  PASAJERO_ACOMPAÑANTE    MOTO   \n",
       "715  2021-0095 2021-12-30  2021  12  30             CONDUCTOR    MOTO   \n",
       "716  2021-0096 2021-12-15  2021  12  15             CONDUCTOR    AUTO   \n",
       "\n",
       "          SEXO  EDAD  FECHA_FALLECIMIENTO RangoEtario  \n",
       "0    MASCULINO  19.0  2016-01-01 00:00:00       19-30  \n",
       "1    MASCULINO  70.0  2016-01-02 00:00:00         51+  \n",
       "2    MASCULINO  30.0  2016-01-03 00:00:00       31-50  \n",
       "3    MASCULINO  18.0                   SD       19-30  \n",
       "4    MASCULINO  29.0  2016-02-01 00:00:00       19-30  \n",
       "..         ...   ...                  ...         ...  \n",
       "712   FEMENINO  50.0  2021-12-12 00:00:00         51+  \n",
       "713   FEMENINO  18.0  2021-12-18 00:00:00       19-30  \n",
       "714   FEMENINO  43.0  2021-12-20 00:00:00       31-50  \n",
       "715  MASCULINO  27.0  2022-01-02 00:00:00       19-30  \n",
       "716  MASCULINO  60.0  2021-12-20 00:00:00         51+  \n",
       "\n",
       "[717 rows x 11 columns]"
      ]
     },
     "execution_count": 49,
     "metadata": {},
     "output_type": "execute_result"
    }
   ],
   "source": [
    "# Definir los rangos etarios\n",
    "bins = [0, 18, 30, 50, float('inf')]\n",
    "etiquetas = ['0-18', '19-30', '31-50', '51+']\n",
    "\n",
    "# Crear una nueva columna 'RangoEtario' utilizando pd.cut\n",
    "df_homicidios_victimas['RangoEtario'] = pd.cut(df_homicidios_victimas['EDAD'], bins=bins, labels=etiquetas, right=False)\n",
    "\n",
    "# Mostrar los resultado\n",
    "df_homicidios_victimas"
   ]
  },
  {
   "cell_type": "code",
   "execution_count": 50,
   "metadata": {},
   "outputs": [
    {
     "name": "stdout",
     "output_type": "stream",
     "text": [
      "0-18      23\n",
      "19-30    198\n",
      "31-50    233\n",
      "51+      210\n",
      "Name: RangoEtario, dtype: int64\n"
     ]
    }
   ],
   "source": [
    "frecuencia = df_homicidios_victimas['RangoEtario'].value_counts().sort_index()\n",
    "print(frecuencia)"
   ]
  },
  {
   "cell_type": "code",
   "execution_count": 51,
   "metadata": {},
   "outputs": [],
   "source": [
    "# Exportacion de los dataframe en formato xlsx\n",
    "df_homicidios_victimas.to_excel(r'C:\\Users\\ale_h\\Desktop\\Henry#\\PI individual 2\\prueba_ale_2\\Datasets 2\\df_homicidios_victimas.xlsx', index=False)"
   ]
  },
  {
   "cell_type": "markdown",
   "metadata": {},
   "source": [
    "----------------------------------------------------------------------------"
   ]
  },
  {
   "cell_type": "markdown",
   "metadata": {},
   "source": [
    "Con los datos transformados y depurados, Procederemos a hacer un análisis exploratorio de datos (EDA), centrado en las diversas columnas presentes en nuestros conjuntos de datos. El objetivo principal es identificar métricas clave y valores atípicos que arrojen luz sobre patrones, tendencias y factores destacados en los datos.\n",
    "\n",
    "Durante este proceso, nos enfocaremos en la generación de gráficos que nos permitan entender mejor la distribución de los datos y las posibles relaciones entre las variables."
   ]
  },
  {
   "cell_type": "markdown",
   "metadata": {},
   "source": [
    "lo primero que vamos a ver es la correlacion de las columnas para ver si encontramos algun patron de correlacion entre ellas"
   ]
  },
  {
   "cell_type": "code",
   "execution_count": 52,
   "metadata": {},
   "outputs": [
    {
     "data": {
      "image/png": "[encoded data removed]",
      "text/plain": [
       "<Figure size 800x400 with 2 Axes>"
      ]
     },
     "metadata": {},
     "output_type": "display_data"
    }
   ],
   "source": [
    "# Generamos un mapa con las correlaciones\n",
    "dataNumerica = df_homicidios_hechos.select_dtypes(include=['number']) \n",
    "corr = dataNumerica.corr().round(2)\n",
    "\n",
    "plt.figure(figsize=(8,4))\n",
    "sns.heatmap(corr, cmap=\"cividis\", annot=True)\n",
    "plt.title('Mapa de Correlación')\n",
    "plt.show()"
   ]
  },
  {
   "cell_type": "markdown",
   "metadata": {},
   "source": [
    "Podemos ver relaciones esperadas como la de comuna y la altura de la calle, tambien comuna con posx(Longitud) y posy(Latitud).\n",
    "Las demas correlaciones son negativas o casi tendiendo a 0 lo cual indica que no tienen correlacion directa entre si"
   ]
  },
  {
   "cell_type": "markdown",
   "metadata": {},
   "source": [
    "--------------------------------------------------------------------------------"
   ]
  },
  {
   "cell_type": "markdown",
   "metadata": {},
   "source": [
    "Visualización de Datos:"
   ]
  },
  {
   "cell_type": "markdown",
   "metadata": {},
   "source": [
    "Histogramas para Variables Numéricas:"
   ]
  },
  {
   "cell_type": "markdown",
   "metadata": {},
   "source": [
    "Podemos ver en este histograma que en la mayoria de los casos de accidentes, el numero de victimas en casi su totalidad es de 1, salvo contados accidentes donde muere mas de 1 persona."
   ]
  },
  {
   "cell_type": "code",
   "execution_count": 65,
   "metadata": {},
   "outputs": [
    {
     "data": {
      "image/png": "[encoded data removed]",
      "text/plain": [
       "<Figure size 600x200 with 1 Axes>"
      ]
     },
     "metadata": {},
     "output_type": "display_data"
    }
   ],
   "source": [
    "# Configuramos el estilo de Seaborn\n",
    "sns.set(style=\"whitegrid\")\n",
    "plt.figure(figsize=(6, 2))\n",
    "# Creamos el histograma\n",
    "sns.histplot(df_homicidios_hechos['N_VICTIMAS'], bins=20, kde=False, color='grey')\n",
    "# Personalizamos el gráfico\n",
    "plt.title('Distribución de Número de Víctimas', fontsize=14)\n",
    "plt.xlabel('Número de Víctimas', fontsize=12)\n",
    "plt.ylabel('Frecuencia', fontsize=12)\n",
    "# Mostramos el gráfico\n",
    "plt.show()"
   ]
  },
  {
   "cell_type": "markdown",
   "metadata": {},
   "source": [
    "------------------------------------------------"
   ]
  },
  {
   "cell_type": "markdown",
   "metadata": {},
   "source": [
    "En este histograma vemos la cantidad de muertes en el periodo que contiene el dataset desde el año 2016 al 2021, distribuido año a año"
   ]
  },
  {
   "cell_type": "code",
   "execution_count": 76,
   "metadata": {},
   "outputs": [
    {
     "data": {
      "image/png": "[encoded data removed]",
      "text/plain": [
       "<Figure size 600x200 with 1 Axes>"
      ]
     },
     "metadata": {},
     "output_type": "display_data"
    }
   ],
   "source": [
    "# Configuramos el estilo de Seaborn\n",
    "sns.set(style=\"whitegrid\")\n",
    "plt.figure(figsize=(6, 2))\n",
    "# Creamos el histograma\n",
    "sns.histplot(df_homicidios_hechos['AAAA'], bins=20, kde=False, color='grey')\n",
    "# Personalizamos el gráfico\n",
    "plt.title('Distribución de Número de Víctimas por año', fontsize=14)\n",
    "plt.xlabel('Número de Víctimas', fontsize=12)\n",
    "plt.ylabel('Frecuencia', fontsize=12)\n",
    "# Mostramos el gráfico\n",
    "plt.show()"
   ]
  },
  {
   "cell_type": "code",
   "execution_count": 55,
   "metadata": {},
   "outputs": [
    {
     "data": {
      "image/png": "[encoded data removed]",
      "text/plain": [
       "<Figure size 600x200 with 1 Axes>"
      ]
     },
     "metadata": {},
     "output_type": "display_data"
    }
   ],
   "source": [
    "# Agrupar los datos por fecha y suma el número de víctimas en cada fecha\n",
    "victimas_por_fecha = df_homicidios_hechos.groupby('AAAA')['N_VICTIMAS'].count().reset_index()\n",
    "\n",
    "# Creamos la gráfica\n",
    "plt.figure(figsize=(6, 2))\n",
    "plt.plot(victimas_por_fecha['AAAA'], victimas_por_fecha['N_VICTIMAS'], marker='o', linestyle='-')\n",
    "plt.title('Relación entre AÑO y el Número de Víctimas')\n",
    "plt.xlabel('AÑO')\n",
    "plt.ylabel('Número de Víctimas')\n",
    "plt.grid(True)\n",
    "plt.show()"
   ]
  },
  {
   "cell_type": "markdown",
   "metadata": {},
   "source": [
    "-------------------------------------------------------"
   ]
  },
  {
   "cell_type": "markdown",
   "metadata": {},
   "source": [
    "en este grafico de barras podemos ver la cantidad de accidentes por mes"
   ]
  },
  {
   "cell_type": "code",
   "execution_count": 67,
   "metadata": {},
   "outputs": [
    {
     "data": {
      "image/png": "[encoded data removed]",
      "text/plain": [
       "<Figure size 500x300 with 1 Axes>"
      ]
     },
     "metadata": {},
     "output_type": "display_data"
    }
   ],
   "source": [
    "plt.figure(figsize=(5, 3))\n",
    "df_homicidios_hechos.groupby('MM')['ID'].count().plot(kind='bar', color='grey')\n",
    "plt.title('Cantidad de Accidentes por Mes')\n",
    "plt.xlabel('Mes')\n",
    "plt.ylabel('Cantidad de Accidentes')\n",
    "plt.xticks(rotation=0)\n",
    "plt.grid(axis='y')\n",
    "plt.show()"
   ]
  },
  {
   "cell_type": "markdown",
   "metadata": {},
   "source": [
    "-------------------------------------------------------------------------"
   ]
  },
  {
   "cell_type": "markdown",
   "metadata": {},
   "source": [
    "Con este histograma podemos ver los horarios donde mas accidentes de transito se producen"
   ]
  },
  {
   "cell_type": "code",
   "execution_count": 78,
   "metadata": {},
   "outputs": [
    {
     "data": {
      "image/png": "[encoded data removed]",
      "text/plain": [
       "<Figure size 600x200 with 1 Axes>"
      ]
     },
     "metadata": {},
     "output_type": "display_data"
    }
   ],
   "source": [
    "# Configuramos el estilo de Seaborn\n",
    "sns.set(style=\"whitegrid\")\n",
    "plt.figure(figsize=(6, 2))\n",
    "# Creamos el histograma\n",
    "sns.histplot(df_homicidios_hechos['HH'], bins=20, kde=False, color='grey')\n",
    "# Personalizamos el gráfico\n",
    "plt.title('Distribución de Número de Víctimas', fontsize=14)\n",
    "plt.xlabel('Número de Víctimas según el horario', fontsize=12)\n",
    "plt.ylabel('Frecuencia', fontsize=12)\n",
    "# Mostramos el gráfico\n",
    "plt.show()"
   ]
  },
  {
   "cell_type": "markdown",
   "metadata": {},
   "source": [
    "------------------------------------------------------------------"
   ]
  },
  {
   "cell_type": "markdown",
   "metadata": {},
   "source": [
    "Gráficos de barras para variables categóricas:"
   ]
  },
  {
   "cell_type": "markdown",
   "metadata": {},
   "source": [
    "Con este grafico de barras podemos analizar la cantidad de accidentes producidos en las 4 categorias de calles que tenemos, Avenida, Gral. Paz, calle y autopista"
   ]
  },
  {
   "cell_type": "code",
   "execution_count": 58,
   "metadata": {},
   "outputs": [
    {
     "data": {
      "image/png": "[encoded data removed]",
      "text/plain": [
       "<Figure size 800x400 with 1 Axes>"
      ]
     },
     "metadata": {},
     "output_type": "display_data"
    }
   ],
   "source": [
    "plt.figure(figsize=(8, 4))\n",
    "sns.countplot(x='TIPO_DE_CALLE', data=df_homicidios_hechos, palette='deep')\n",
    "plt.title('Distribución de Homicidios por Tipo de Calle', fontsize=16)\n",
    "plt.xlabel('Tipo de Calle', fontsize=12)\n",
    "plt.ylabel('Cantidad de Homicidios', fontsize=12)\n",
    "plt.xticks(rotation=45, ha='right')\n",
    "plt.show()"
   ]
  },
  {
   "cell_type": "markdown",
   "metadata": {},
   "source": [
    "--------------------------------------------------------"
   ]
  },
  {
   "cell_type": "markdown",
   "metadata": {},
   "source": [
    "En este grafico podemos ver la distribucion de muertes por accidentes de transito por comunas"
   ]
  },
  {
   "cell_type": "code",
   "execution_count": 71,
   "metadata": {},
   "outputs": [
    {
     "data": {
      "image/png": "[encoded data removed]",
      "text/plain": [
       "<Figure size 800x400 with 1 Axes>"
      ]
     },
     "metadata": {},
     "output_type": "display_data"
    }
   ],
   "source": [
    "plt.figure(figsize=(8, 4))\n",
    "sns.countplot(x='COMUNA', data=df_homicidios_hechos, palette='deep')\n",
    "plt.title('Distribución de muertes por comuna', fontsize=16)\n",
    "plt.xlabel('Tipo de Calle', fontsize=12)\n",
    "plt.ylabel('Cantidad de Homicidios', fontsize=12)\n",
    "plt.xticks(rotation=45, ha='right')\n",
    "plt.show()"
   ]
  },
  {
   "cell_type": "markdown",
   "metadata": {},
   "source": [
    "--------------------------------------------------------------------------------------------------"
   ]
  },
  {
   "cell_type": "markdown",
   "metadata": {},
   "source": [
    "En el siguiente grafico de barras podemos ver el porcentaje de accidentes mortales, segun el tipo de Victima durante el 2021 que es nuestro ultimo año con informacion"
   ]
  },
  {
   "cell_type": "code",
   "execution_count": 72,
   "metadata": {},
   "outputs": [
    {
     "data": {
      "image/png": "[encoded data removed]",
      "text/plain": [
       "<Figure size 800x400 with 1 Axes>"
      ]
     },
     "metadata": {},
     "output_type": "display_data"
    },
    {
     "name": "stdout",
     "output_type": "stream",
     "text": [
      "Porcentaje de Accidentes Mortales por Tipo de Víctima (2021):\n",
      "MOTO: 47.42%\n",
      "AUTO: 11.34%\n",
      "PEATON: 34.02%\n",
      "BICICLETA: 6.19%\n",
      "PASAJEROS: 1.03%\n"
     ]
    }
   ],
   "source": [
    "# Filtramos los datos para el último año (2021).\n",
    "filtro = (df_homicidios_hechos['AAAA'] == 2021)\n",
    "df_ultimo_anio = df_homicidios_hechos[filtro]\n",
    "\n",
    "# Contamos la cantidad de accidentes mortales de cada tipo de víctima.\n",
    "tipos_victimas = ['MOTO', 'AUTO', 'PEATON', 'BICICLETA', 'PASAJEROS']\n",
    "cantidades = [df_ultimo_anio[df_ultimo_anio['VICTIMA'] == tipo].shape[0] for tipo in tipos_victimas]\n",
    "\n",
    "# Calcula el porcentaje de accidentes mortales para cada tipo de víctima.\n",
    "total_accidentes = df_ultimo_anio.shape[0]\n",
    "porcentajes = [(cantidad / total_accidentes) * 100 for cantidad in cantidades]\n",
    "\n",
    "# Graficamos.\n",
    "plt.figure(figsize=(8, 4))\n",
    "plt.bar(tipos_victimas, porcentajes, color=['grey'])\n",
    "plt.title('Porcentaje de Accidentes Mortales por Tipo de Víctima en el año 2021')\n",
    "plt.xlabel('Tipo de Víctima')\n",
    "plt.ylabel('Porcentaje (%)')\n",
    "plt.ylim(0, 100)\n",
    "plt.xticks(rotation=45, ha='right')\n",
    "plt.show()\n",
    "\n",
    "# Imprimir los porcentajes\n",
    "print(\"Porcentaje de Accidentes Mortales por Tipo de Víctima (2021):\")\n",
    "for tipo, porcentaje in zip(tipos_victimas, porcentajes):\n",
    "    print(f\"{tipo}: {porcentaje:.2f}%\")"
   ]
  },
  {
   "cell_type": "markdown",
   "metadata": {},
   "source": [
    "--------------------------------------------------"
   ]
  },
  {
   "cell_type": "markdown",
   "metadata": {},
   "source": [
    "Hacemos el mismo grafico pero con el año anterior (2020)"
   ]
  },
  {
   "cell_type": "code",
   "execution_count": 73,
   "metadata": {},
   "outputs": [
    {
     "data": {
      "image/png": "[encoded data removed]",
      "text/plain": [
       "<Figure size 800x400 with 1 Axes>"
      ]
     },
     "metadata": {},
     "output_type": "display_data"
    },
    {
     "name": "stdout",
     "output_type": "stream",
     "text": [
      "Porcentaje de Accidentes Mortales por Tipo de Víctima (2020):\n",
      "MOTO: 34.62%\n",
      "AUTO: 14.10%\n",
      "PEATON: 43.59%\n",
      "BICICLETA: 6.41%\n",
      "PASAJEROS: 0.00%\n"
     ]
    }
   ],
   "source": [
    "# Filtramos los datos para el último año (2020).\n",
    "filtro = (df_homicidios_hechos['AAAA'] == 2020)\n",
    "df_ultimo_anio = df_homicidios_hechos[filtro]\n",
    "\n",
    "# Contamos la cantidad de accidentes mortales de cada tipo de víctima.\n",
    "tipos_victimas = ['MOTO', 'AUTO', 'PEATON', 'BICICLETA', 'PASAJEROS']\n",
    "cantidades = [df_ultimo_anio[df_ultimo_anio['VICTIMA'] == tipo].shape[0] for tipo in tipos_victimas]\n",
    "\n",
    "# Calcula el porcentaje de accidentes mortales para cada tipo de víctima.\n",
    "total_accidentes = df_ultimo_anio.shape[0]\n",
    "porcentajes = [(cantidad / total_accidentes) * 100 for cantidad in cantidades]\n",
    "\n",
    "# Graficamos.\n",
    "plt.figure(figsize=(8, 4))\n",
    "plt.bar(tipos_victimas, porcentajes, color=['grey'])\n",
    "plt.title('Porcentaje de Accidentes Mortales por Tipo de Víctima en el año 2020')\n",
    "plt.xlabel('Tipo de Víctima')\n",
    "plt.ylabel('Porcentaje (%)')\n",
    "plt.ylim(0, 100)\n",
    "plt.xticks(rotation=45, ha='right')\n",
    "plt.show()\n",
    "\n",
    "# Imprimir los porcentajes\n",
    "print(\"Porcentaje de Accidentes Mortales por Tipo de Víctima (2020):\")\n",
    "for tipo, porcentaje in zip(tipos_victimas, porcentajes):\n",
    "    print(f\"{tipo}: {porcentaje:.2f}%\")"
   ]
  },
  {
   "cell_type": "markdown",
   "metadata": {},
   "source": [
    "Vamos a generar un mapa de calor para ver las comunas con mas accidentes"
   ]
  },
  {
   "cell_type": "code",
   "execution_count": 62,
   "metadata": {},
   "outputs": [
    {
     "data": {
      "text/html": [
       "<div style=\"width:100%;\"><div style=\"position:relative;width:100%;height:0;padding-bottom:60%;\"><span style=\"color:#565656\">Make this Notebook Trusted to load map: File -> Trust Notebook</span><iframe srcdoc=\"&lt;!DOCTYPE html&gt;\n",
       "&lt;html&gt;\n",
       "&lt;head&gt;\n",
       "    \n",
       "    &lt;meta http-equiv=&quot;content-type&quot; content=&quot;text/html; charset=UTF-8&quot; /&gt;\n",
       "    \n",
       "        &lt;script&gt;\n",
       "            L_NO_TOUCH = false;\n",
       "            L_DISABLE_3D = false;\n",
       "        &lt;/script&gt;\n",
       "    \n",
       "    &lt;style&gt;html, body {width: 100%;height: 100%;margin: 0;padding: 0;}&lt;/style&gt;\n",
       "    &lt;style&gt;#map {position:absolute;top:0;bottom:0;right:0;left:0;}&lt;/style&gt;\n",
       "    &lt;script src=&quot;https://cdn.jsdelivr.net/npm/leaflet@1.9.3/dist/leaflet.js&quot;&gt;&lt;/script&gt;\n",
       "    &lt;script src=&quot;https://code.jquery.com/jquery-3.7.1.min.js&quot;&gt;&lt;/script&gt;\n",
       "    &lt;script src=&quot;https://cdn.jsdelivr.net/npm/bootstrap@5.2.2/dist/js/bootstrap.bundle.min.js&quot;&gt;&lt;/script&gt;\n",
       "    &lt;script src=&quot;https://cdnjs.cloudflare.com/ajax/libs/Leaflet.awesome-markers/2.0.2/leaflet.awesome-markers.js&quot;&gt;&lt;/script&gt;\n",
       "    &lt;link rel=&quot;stylesheet&quot; href=&quot;https://cdn.jsdelivr.net/npm/leaflet@1.9.3/dist/leaflet.css&quot;/&gt;\n",
       "    &lt;link rel=&quot;stylesheet&quot; href=&quot;https://cdn.jsdelivr.net/npm/bootstrap@5.2.2/dist/css/bootstrap.min.css&quot;/&gt;\n",
       "    &lt;link rel=&quot;stylesheet&quot; href=&quot;https://netdna.bootstrapcdn.com/bootstrap/3.0.0/css/bootstrap.min.css&quot;/&gt;\n",
       "    &lt;link rel=&quot;stylesheet&quot; href=&quot;https://cdn.jsdelivr.net/npm/@fortawesome/fontawesome-free@6.2.0/css/all.min.css&quot;/&gt;\n",
       "    &lt;link rel=&quot;stylesheet&quot; href=&quot;https://cdnjs.cloudflare.com/ajax/libs/Leaflet.awesome-markers/2.0.2/leaflet.awesome-markers.css&quot;/&gt;\n",
       "    &lt;link rel=&quot;stylesheet&quot; href=&quot;https://cdn.jsdelivr.net/gh/python-visualization/folium/folium/templates/leaflet.awesome.rotate.min.css&quot;/&gt;\n",
       "    \n",
       "            &lt;meta name=&quot;viewport&quot; content=&quot;width=device-width,\n",
       "                initial-scale=1.0, maximum-scale=1.0, user-scalable=no&quot; /&gt;\n",
       "            &lt;style&gt;\n",
       "                #map_025119a4776c6c1055acd4636dcde929 {\n",
       "                    position: relative;\n",
       "                    width: 100.0%;\n",
       "                    height: 100.0%;\n",
       "                    left: 0.0%;\n",
       "                    top: 0.0%;\n",
       "                }\n",
       "                .leaflet-container { font-size: 1rem; }\n",
       "            &lt;/style&gt;\n",
       "        \n",
       "    &lt;script src=&quot;https://cdn.jsdelivr.net/gh/python-visualization/folium@main/folium/templates/leaflet_heat.min.js&quot;&gt;&lt;/script&gt;\n",
       "&lt;/head&gt;\n",
       "&lt;body&gt;\n",
       "    \n",
       "    \n",
       "            &lt;div class=&quot;folium-map&quot; id=&quot;map_025119a4776c6c1055acd4636dcde929&quot; &gt;&lt;/div&gt;\n",
       "        \n",
       "&lt;/body&gt;\n",
       "&lt;script&gt;\n",
       "    \n",
       "    \n",
       "            var map_025119a4776c6c1055acd4636dcde929 = L.map(\n",
       "                &quot;map_025119a4776c6c1055acd4636dcde929&quot;,\n",
       "                {\n",
       "                    center: [-34.61958702110205, -58.44144973689302],\n",
       "                    crs: L.CRS.EPSG3857,\n",
       "                    zoom: 14,\n",
       "                    zoomControl: true,\n",
       "                    preferCanvas: false,\n",
       "                }\n",
       "            );\n",
       "\n",
       "            \n",
       "\n",
       "        \n",
       "    \n",
       "            var tile_layer_43212f7368fc484f56105c928a57fe66 = L.tileLayer(\n",
       "                &quot;https://tile.openstreetmap.org/{z}/{x}/{y}.png&quot;,\n",
       "                {&quot;attribution&quot;: &quot;\\u0026copy; \\u003ca href=\\&quot;https://www.openstreetmap.org/copyright\\&quot;\\u003eOpenStreetMap\\u003c/a\\u003e contributors&quot;, &quot;detectRetina&quot;: false, &quot;maxNativeZoom&quot;: 19, &quot;maxZoom&quot;: 19, &quot;minZoom&quot;: 0, &quot;noWrap&quot;: false, &quot;opacity&quot;: 1, &quot;subdomains&quot;: &quot;abc&quot;, &quot;tms&quot;: false}\n",
       "            );\n",
       "        \n",
       "    \n",
       "            tile_layer_43212f7368fc484f56105c928a57fe66.addTo(map_025119a4776c6c1055acd4636dcde929);\n",
       "        \n",
       "    \n",
       "            var heat_map_227fac62e4d0b7d19507c4c62c100d8b = L.heatLayer(\n",
       "                [[-34.68757022, -58.47533969], [-34.66977709, -58.50877521], [-34.63189362, -58.39040293], [-34.68092974, -58.46503904], [-34.6224663, -58.38718297], [-34.68475866, -58.44451316], [-34.6082544, -58.50095869], [-34.66977709, -58.50877521], [-34.61303893, -58.38048577], [-34.62477387, -58.39114932], [-34.59912758, -58.4376002], [-34.64291993, -58.36882665], [-34.65970435, -58.44989671], [-34.65468721, -58.50990884], [-34.60653282, -58.37952223], [-34.63063795, -58.45157703], [-34.61079875, -58.38144696], [-34.70524971, -58.46244952], [-34.54738649, -58.49216191], [-34.63852623, -58.44497874], [-34.60028648, -58.38199706], [-34.54153077, -58.47378664], [-34.69843756, -58.47064556], [-34.65076549, -58.40623949], [-34.60443527, -58.39228965], [-34.63668504, -58.37813396], [-34.64358293, -58.46275892], [-34.67892743, -58.49683458], [-34.6088396, -58.40603217], [-34.63350444, -58.4607655], [-34.67494416, -58.47832463], [-34.63693953, -58.43213235], [-34.53476874, -58.46743471], [-34.62571878, -58.38247061], [-34.5917024, -58.44759966], [-34.63657525428238, -58.37714647568196], [-34.68550712, -58.47305463], [-34.65076549, -58.40623949], [-34.551732894615384, -58.45450526820512], [-34.57558053, -58.4842918], [-34.68795245, -58.48695354], [-34.57964781, -58.40021959], [-34.57660058, -58.42957885], [-34.62556293, -58.38247542], [-34.62728101, -58.38222219], [-34.62953445, -58.49485242], [-34.61068024, -58.45227946], [-34.6751276, -58.48455411], [-34.58418569, -58.39056593], [-34.62704273, -58.39118948], [-34.62025108, -58.49021952], [-34.67732118, -58.49896559], [-34.66874679, -58.47461076], [-34.60356211, -58.46210891], [-34.60536123, -58.3702777], [-34.6146383, -58.40491455], [-34.54864492, -58.45504154], [-34.63931752, -58.52927982], [-34.55904606, -58.4872106], [-34.64228803, -58.42273092], [-34.62539009, -58.44788671], [-34.60135531, -58.38110563], [-34.657341, -58.42378834], [-34.63652467, -58.48727942], [-34.62907067, -58.37864583], [-34.56767549, -58.5015175], [-34.55185825, -58.43233425], [-34.6111224, -58.41971993], [-34.53476874, -58.46743471], [-34.62301748, -58.44362126], [-34.59546519, -58.51713095], [-34.66684950051973, -58.47433193007387], [-34.6156281, -58.39038605], [-34.62356174, -58.40042405], [-34.59798754, -58.52340614], [-34.54795581, -58.49491054], [-34.65014993, -58.52932872], [-34.67316502, -58.50011639], [-34.65624369, -58.46635001], [-34.58435809, -58.45343236], [-34.58927731, -58.38090932], [-34.65429986, -58.37157668], [-34.63659934, -58.52280139], [-34.6590353, -58.51232237], [-34.57663634, -58.47461905], [-34.62282019, -58.38268809], [-34.64564271, -58.49603546], [-34.59394733, -58.41848605], [-34.54917673, -58.48935041], [-34.68475866, -58.44451316], [-34.58271474, -58.39936478], [-34.62694503, -58.37936704], [-34.56353635, -58.49659234], [-34.65194557, -58.47256391], [-34.64053676, -58.45130953], [-34.62884871, -58.46271207], [-34.64243791, -58.49020869], [-34.62125906, -58.52572109], [-34.66677111, -58.44094791], [-34.6305389, -58.41914024], [-34.62764717, -58.37910942], [-34.64539318, -58.39871183], [-34.62477021, -58.41036975], [-34.5834269, -58.40204698], [-34.67648597, -58.48935287], [-34.56403694, -58.42260225], [-34.64439105540113, -58.39468609322853], [-34.59035925, -58.51537091], [-34.55922742, -58.4590967], [-34.56539579, -58.42008769], [-34.56147293, -58.45566399], [-34.59276462, -58.37533517], [-34.68475866, -58.44451316], [-34.63343907, -58.35975012], [-34.55953855, -58.44523595], [-34.63036565, -58.39626094], [-34.61799615, -58.38896772], [-34.59484504, -58.46536113], [-34.65273216, -58.40879146], [-34.64991946, -58.46451841], [-34.59485488, -58.4291709], [-34.68251141, -58.49007772], [-34.62772274, -58.52756365], [-34.61943202, -58.40638983], [-34.61740997, -58.47576807], [-34.68475866, -58.44451316], [-34.63635787, -58.51927194], [-34.57866344, -58.42525456], [-34.58518167, -58.45396573], [-34.59798754, -58.52340614], [-34.64119105, -58.42323628], [-34.62841919, -58.36926144], [-34.64119105, -58.42323628], [-34.55676497, -58.47935434], [-34.5637998, -58.50598256], [-34.62150748, -58.36607137], [-34.63174259, -58.41918902], [-34.63551751, -58.46749188], [-34.62960517, -58.46064174], [-34.61232875, -58.36956186], [-34.58788235, -58.40966671], [-34.61544091, -58.40288226], [-34.61028571, -58.4659423], [-34.64410277, -58.38957669], [-34.61529543, -58.3816166], [-34.58494351, -58.43917004], [-34.62743346, -58.41595919], [-34.62828656, -58.4356488], [-34.5497951, -58.5007381], [-34.6505529, -58.40969005], [-34.65098981, -58.38972622], [-34.55046754, -58.49185972], [-34.59963642, -58.39293417], [-34.62288231, -58.38099494], [-34.58095431, -58.429012], [-34.66977709, -58.50877521], [-34.60509972, -58.38362373], [-34.62955795, -58.46589308], [-34.6542464, -58.43614426], [-34.64979057, -58.41842777], [-34.6319325, -58.38332245], [-34.61196327, -58.45475488], [-34.64742455, -58.48501341], [-34.65872088, -58.47010988], [-34.62873635, -58.4099756], [-34.68359163, -58.48892175], [-34.60325478, -58.52466448], [-34.57929036, -58.42554218], [-34.61113641, -58.35881506], [-34.58159762, -58.51452347], [-34.61799615, -58.38896772], [-34.64363363, -58.44516857], [-34.54560369, -58.43834197], [-34.63531854, -58.45485084], [-34.580445200312504, -58.417703423125005], [-34.62454175, -58.52449285], [-34.6719879, -58.46713742], [-34.65554754, -58.43850413], [-34.6514534471831, -58.501225720281695], [-34.6362499738983, -58.45505239016949], [-34.68095739, -58.49413799], [-34.65326075, -58.37547846], [-34.58689719, -58.48680218], [-34.57962262, -58.49563989], [-34.5991594, -58.38403232], [-34.62693865, -58.38223382], [-34.67323292, -58.45966521], [-34.59871111, -58.39303911], [-34.63395999, -58.51262106], [-34.61646839, -58.38118367], [-34.60582475, -58.37653284], [-34.64035082, -58.37709334], [-34.60409469, -58.46002142], [-34.62801894, -58.4338197], [-34.66437532, -58.43580656], [-34.65997463, -58.52173071], [-34.59804273, -58.50791763], [-34.58226957, -58.49175088], [-34.60425669, -58.40781467], [-34.63787791, -58.52567073], [-34.60906385, -58.381542], [-34.5780581, -58.38526125], [-34.58451712, -58.42934104], [-34.61781124, -58.40657493], [-34.64487785, -58.49525314], [-34.62932696, -58.39092851], [-34.64564271, -58.49603546], [-34.58703485, -58.38502878], [-34.63150425, -58.37261143], [-34.63905965, -58.51876802], [-34.61516101, -58.41095567], [-34.62519403, -58.36797542], [-34.64787051, -58.51514709], [-34.59171721, -58.51925642], [-34.54321216, -58.48671535], [-34.62282019, -58.38268809], [-34.54966288, -58.43633522], [-34.61765855, -58.52640838], [-34.59778875, -58.41894306], [-34.54972741, -58.46756026], [-34.63132912, -58.45715752], [-34.56213916, -58.42406784], [-34.61512051, -58.3967447], [-34.57084818, -58.44537508], [-34.6510708, -58.40056767], [-34.61853244, -58.38109568], [-34.58035258, -58.42533612], [-34.54395182, -58.46062311], [-34.54795581, -58.49491054], [-34.63665402, -58.47130269], [-34.60189492, -58.370488], [-34.6423411, -58.42023854], [-34.6399743, -58.45807401], [-34.59573848, -58.37697717], [-34.5849866, -58.3910058], [-34.63089661, -58.42182126], [-34.58075791, -58.51389422], [-34.65232158, -58.37585415], [-34.66245085, -58.47297505], [-34.67216349, -58.46855503], [-34.59185043, -58.44254033], [-34.67926929, -58.46622247], [-34.68148508, -58.48003734], [-34.59800248, -58.41192137], [-34.61349731, -58.44034689], [-34.64925746, -58.47155277], [-34.59967065, -58.47883099], [-34.6937413, -58.46552171], [-34.66777987, -58.4423972], [-34.59626814, -58.47032551], [-34.65522746, -58.41827843], [-34.59279388, -58.51280715], [-34.64385704, -58.46258582], [-34.68003614, -58.45064148], [-34.64439105540113, -58.39468609322853], [-34.62513374, -58.42717783], [-34.60724519, -58.46442001], [-34.69843756, -58.47064556], [-34.61223119, -58.41677733], [-34.67450313, -58.5025179], [-34.62438894, -58.40708125], [-34.61477051, -58.36947198], [-34.63934531, -58.51140889], [-34.65559133, -58.37460912], [-34.65073916, -58.41146277], [-34.61829385, -58.42855267], [-34.63412287, -58.39035581], [-34.62656868, -58.45593915], [-34.64597065, -58.52866211], [-34.59407024, -58.52037476], [-34.61799615, -58.38896772], [-34.62771756, -58.47074114], [-34.65969965, -58.48200819], [-34.62297346, -58.39536773], [-34.61895467, -58.37456088], [-34.60395657, -58.44860217], [-34.54332766, -58.46129513], [-34.61953517, -58.36907201], [-34.62499107, -58.44062219], [-34.63601265, -58.52502765], [-34.61687778, -58.36659655], [-34.62763661, -58.36737389], [-34.63038658, -58.49807953], [-34.59088447, -58.39092703], [-34.68049201, -58.46912006], [-34.56786129, -58.48661286], [-34.65080597, -58.44074927], [-34.64684275, -58.38636298], [-34.59276462, -58.37533517], [-34.63070603, -58.46963952], [-34.64543658, -58.37207554], [-34.59176378, -58.39189441], [-34.66518343, -58.45012957], [-34.64546845, -58.40184094], [-34.63966783, -58.37441153], [-34.62082399, -58.44110156], [-34.57827342, -58.47087351], [-34.6224514, -58.4596221], [-34.65476216, -58.41657793], [-34.63722107, -58.41911301], [-34.64251042, -58.47120586], [-34.62049672, -58.47418944], [-34.57905579, -58.46720441], [-34.6177971, -58.46909362], [-34.5688864, -58.44704343], [-34.62902048, -58.50535541], [-34.59522198, -58.40021675], [-34.62919627, -58.46325991], [-34.59694755, -58.49471482], [-34.59975962, -58.3987261], [-34.60885045, -58.38872177], [-34.580445200312504, -58.417703423125005], [-34.57305993, -58.45686132], [-34.64282424, -58.42281627], [-34.63953396, -58.38666024], [-34.61207587, -58.49122843], [-34.61866627, -58.40098306], [-34.5791692, -58.45448963], [-34.63931752, -58.52927982], [-34.5917024, -58.44759966], [-34.62925068, -58.46411215], [-34.55395823, -58.4621322], [-34.5620361, -58.45669422], [-34.64341878, -58.3597716], [-34.59070093, -58.49820145], [-34.5993918, -58.4105928], [-34.57121563, -58.47969138], [-34.61883916, -58.40351561], [-34.63918987, -58.51973844], [-34.62163006, -58.39311376], [-34.59082159, -58.43531242], [-34.63035454, -58.41178165], [-34.60189492, -58.370488], [-34.61964833, -58.39883882], [-34.62082399, -58.44110156], [-34.59952725, -58.37093138], [-34.63953253, -58.45855262], [-34.59283447, -58.38161909], [-34.58698157, -58.45511899], [-34.62973033, -58.37724226], [-34.62930339, -58.45546217], [-34.59954925, -58.39897064], [-34.62126274, -58.40917826], [-34.61099738, -58.36726348], [-34.68454456, -58.48267426], [-34.65168841, -58.39546165], [-34.63376545, -58.46941984], [-34.58129246, -58.40367321], [-34.65014993, -58.52932872], [-34.62126274, -58.40917826], [-34.59473294, -58.41264127], [-34.66977709, -58.50877521], [-34.6590353, -58.51232237], [-34.64567171, -58.44744156], [-34.65869968, -58.49441273], [-34.69153196, -58.47976785], [-34.62260331, -58.36523349], [-34.62704273, -58.39118948], [-34.65015854, -58.49019551], [-34.63023775, -58.41644362], [-34.5497951, -58.5007381], [-34.63036565, -58.39626094], [-34.67051543, -58.43284809], [-34.63659934, -58.52280139], [-34.59774487, -58.4233693], [-34.63105973, -58.38691681], [-34.5857988, -58.4116902], [-34.65117757, -58.46739825], [-34.67152226, -58.44483258], [-34.66128115, -58.43254025], [-34.69640164, -58.47199387], [-34.62925068, -58.46411215], [-34.62367156, -58.36217754], [-34.5407313, -58.48098594], [-34.64640709, -58.41083404], [-34.64446729, -58.44609828], [-34.64035082, -58.37709334], [-34.63070603, -58.46963952], [-34.55161027, -58.43674281], [-34.61011987, -58.4059686], [-34.60463618, -58.36154069], [-34.60066507, -58.37062179], [-34.60207186, -58.43220014], [-34.64949724, -58.46958442], [-34.59970903, -58.44671397], [-34.61474911, -58.47152163], [-34.61807951, -58.39032921], [-34.64297861, -58.52887773], [-34.67981324, -58.49371157], [-34.66012327, -58.48266599], [-34.60774301, -58.40612253], [-34.66292532, -58.43613623], [-34.57208238, -58.48250732], [-34.6374328, -58.49945705], [-34.67233407, -58.47743966], [-34.67450313, -58.5025179], [-34.63682499, -58.52144411], [-34.65084045, -58.41650465], [-34.64055918, -58.52994219], [-34.56919739, -58.50993046], [-34.64592873, -58.52844623], [-34.58695347, -58.45021367], [-34.62770192, -58.49022072], [-34.60106568, -58.36860866], [-34.57241534, -58.39490504], [-34.63070603, -58.46963952], [-34.64019887, -58.42349365], [-34.61265002, -58.37471802], [-34.62913916, -58.46438789], [-34.61100424, -58.38481975], [-34.62073702, -58.50751833], [-34.63888084, -58.44682986], [-34.61381341, -58.3600465], [-34.62085945, -58.41509546], [-34.57251072, -58.50997604], [-34.64047818, -58.48606475], [-34.5780581, -58.38526125], [-34.65082149, -58.45463662], [-34.59718073, -58.49121672], [-34.65284605, -58.47325712], [-34.63382309, -58.52108101], [-34.55509606, -58.41652702], [-34.6107166, -58.42891604], [-34.69156793, -58.47802293], [-34.62200207, -58.37564821], [-34.56961468, -58.42668489], [-34.66252488, -58.5183993], [-34.67665828, -58.48432691], [-34.64457699, -58.4338383], [-34.58657938, -58.51664939], [-34.59703502, -58.49613012], [-34.63356284, -58.38313603], [-34.61632317, -58.39914719], [-34.54048625, -58.44927253], [-34.55374003, -58.45049163], [-34.63572989, -58.41288952], [-34.62561234, -58.45743597], [-34.62352245, -58.39123782], [-34.63637963, -58.52922765], [-34.58541957, -58.37208118], [-34.60937557, -58.41458534], [-34.69153196, -58.47976785], [-34.59511714, -58.39990285], [-34.60588536, -58.46051346], [-34.69153196, -58.47976785], [-34.62447891, -58.45457546], [-34.59832047, -58.36951669], [-34.6044379, -58.46415322], [-34.62150748, -58.36607137], [-34.65093074, -58.45537373], [-34.60053054, -58.37942637], [-34.62147504, -58.4368044], [-34.61971907, -58.40778291], [-34.54628513, -58.45212523], [-34.63551751, -58.46749188], [-34.63679732, -58.4426358], [-34.65846419, -58.51140289], [-34.62465368, -58.38211431], [-34.59832047, -58.36951669], [-34.62036547, -58.41635217], [-34.57579669, -58.41316147], [-34.53825652, -58.47617802], [-34.63330028, -58.38641783], [-34.62038137, -58.45322169], [-34.56166498, -58.45849057], [-34.59411677, -58.41829559], [-34.63832093, -58.36376488], [-34.66004784, -58.46442668], [-34.58428769, -58.48222035], [-34.60283208, -58.36819005], [-34.62330939, -58.45877601], [-34.55760517, -58.44196498], [-34.63627822, -58.50622631], [-34.63099197, -58.3841088], [-34.63504312, -58.48100602], [-34.5578132, -58.45200171], [-34.56201105, -58.44462132], [-34.58711712, -58.45220688], [-34.6224514, -58.4596221], [-34.65414867, -58.4197085], [-34.64938031, -58.44187596], [-34.64276621, -58.49101637], [-34.66256502, -58.42493829], [-34.62930162, -58.40489318], [-34.59217875, -58.4268668], [-34.65620398, -58.479611], [-34.63524207, -58.47439934], [-34.57926018, -58.46711912], [-34.53465378, -58.46514781], [-34.65584079, -58.37571078], [-34.65429986, -58.37157668], [-34.58070186, -58.39811256], [-34.6541774, -58.41125934], [-34.61866836, -58.41822901], [-34.53825652, -58.47617802], [-34.58623761, -58.46141281], [-34.6611974, -58.42985146], [-34.6583909, -58.48457413], [-34.63628186, -58.46572884], [-34.6341913, -58.49261744], [-34.5884156, -58.45283186], [-34.57418656, -58.47973681], [-34.65076549, -58.40623949], [-34.63107887, -58.36244648], [-34.64868027, -58.49962423], [-34.59559816, -58.44551437], [-34.63420319, -58.35608181], [-34.60907662, -58.46483679], [-34.59724326, -58.44368628], [-34.62907067, -58.37864583], [-34.62726382, -58.37560352], [-34.64815069, -58.47721439], [-34.58984288, -58.45134029], [-34.58368803, -58.49040794], [-34.64991178, -58.42102679], [-34.64143926, -58.52219407], [-34.5947164, -58.52169422], [-34.63206174, -58.47460416], [-34.61520391, -58.50512382], [-34.59213355, -58.43910409], [-34.64646409, -58.45019436], [-34.60927582, -58.39337644], [-34.60919284, -58.39055614], [-34.62477021, -58.41036975], [-34.65412546, -58.44925765], [-34.61648696, -58.3815685], [-34.59804521, -58.40662899], [-34.6060085, -58.41985649], [-34.62214953, -58.38099833], [-34.61823178, -58.41803309], [-34.61783553, -58.40604003], [-34.57994061, -58.47549929], [-34.61600366, -58.51398484], [-34.62519403, -58.36797542], [-34.59879316, -58.37133616], [-34.61413568, -58.39613805], [-34.54200276, -58.44903073], [-34.6284667, -58.41972364], [-34.60557123, -58.40571596], [-34.59488319, -58.4145159], [-34.66245085, -58.47297505], [-34.63695178, -58.35791192], [-34.65177305, -58.50801713], [-34.60975108, -58.40258477], [-34.580445200312504, -58.417703423125005], [-34.68454456, -58.48267426], [-34.60221948, -58.44248936], [-34.63886726, -58.52909134], [-34.6064658, -58.45158942], [-34.65788529, -58.49344309], [-34.59635137, -58.44259166], [-34.53476874, -58.46743471], [-34.60922259, -58.41178158], [-34.63638927, -58.45068621], [-34.5877879, -58.42016954], [-34.65554754, -58.43850413], [-34.58345898, -58.40617526], [-34.6514534471831, -58.501225720281695], [-34.5780581, -58.38526125], [-34.63491705, -58.4475047], [-34.68192648, -58.46745752], [-34.59717942, -58.37202621], [-34.62207347, -58.42779702], [-34.70524971, -58.46244952], [-34.60776782, -58.4844016], [-34.65174801, -58.46668375], [-34.59322448, -58.4495878], [-34.59276462, -58.37533517], [-34.57866344, -58.42525456], [-34.62981124, -58.48493828], [-34.60183884, -58.40480504], [-34.6541774, -58.41125934], [-34.6297708, -58.39956546], [-34.5786897, -58.49005682], [-34.69843756, -58.47064556], [-34.61945902, -58.4750156], [-34.63652467, -58.48727942], [-34.62794241, -58.3795169], [-34.65672199, -58.47750832], [-34.54048625, -58.44927253], [-34.61253541, -58.39246272], [-34.61047001, -58.52783814], [-34.54836855, -58.49332664], [-34.63593897, -58.50178784], [-34.65476216, -58.41657793], [-34.58307887, -58.39731474], [-34.61790839, -58.38746381], [-34.59176378, -58.39189441], [-34.63551751, -58.46749188], [-34.62113271, -58.40280471], [-34.68475866, -58.44451316], [-34.62742408, -58.47110424], [-34.60373898, -58.38220928], [-34.61565025, -58.49794468], [-34.60111373, -58.47220945], [-34.63217813, -58.43706741], [-34.54836855, -58.49332664], [-34.62622851, -58.37960727], [-34.64972472, -58.51061062], [-34.62941648, -58.43052224], [-34.63866836, -58.41455544], [-34.64730145, -58.46774439], [-34.56726817, -58.40786274], [-34.58622275, -58.48744301], [-34.65476216, -58.41657793], [-34.61134937, -58.45351111], [-34.5497951, -58.5007381], [-34.59564871, -58.39144148], [-34.68385968, -58.48191128], [-34.63652467, -58.48727942], [-34.59779521, -58.48328708], [-34.5972499, -58.49018543], [-34.68482689, -58.47230127], [-34.63168269, -58.38262614], [-34.60793518, -58.41047268], [-34.56353635, -58.49659234], [-34.60727189, -58.42462955], [-34.61185625, -58.41168345], [-34.55217303, -58.45157681], [-34.64439105540113, -58.39468609322853], [-34.67006054, -58.49573651], [-34.68795245, -58.48695354], [-34.64449357, -58.37562539], [-34.54795581, -58.49491054], [-34.64357704, -58.44147621], [-34.63215432, -58.46899119], [-34.63455776, -58.38685612], [-34.61765323, -58.38113667], [-34.54538956, -58.44112678], [-34.62743346, -58.41595919], [-34.64546845, -58.40184094], [-34.65679806, -58.44642231], [-34.59798754, -58.52340614], [-34.56219075, -58.46649069], [-34.57816791, -58.42653328], [-34.65303372, -58.50407099], [-34.53476874, -58.46743471], [-34.5772806, -58.40986646], [-34.63931792, -58.51739138], [-34.65556223, -58.50719962], [-34.64600222, -58.46712311], [-34.64035082, -58.37709334], [-34.58569883, -58.46033141], [-34.65633192, -58.42190745], [-34.5698141, -58.49026573], [-34.66902702, -58.45410344], [-34.55719892, -58.44751621], [-34.66005171, -58.42040352], [-34.68010798, -58.49530249], [-34.5947736, -58.44399875], [-34.65463857, -58.42759813], [-34.60456293, -58.40547222], [-34.6500828, -58.42473018], [-34.57563957, -58.39257023], [-34.54596153, -58.48941042], [-34.62783085, -58.3964074], [-34.6111224, -58.41971993], [-34.65012801, -58.40544588], [-34.64645957, -58.42003882], [-34.63348678, -58.46851293], [-34.65422917, -58.52931141], [-34.6269973, -58.42675754], [-34.61098186, -58.52933723], [-34.62764718, -58.37910943], [-34.61164474, -58.52161176], [-34.5869768, -58.41354692], [-34.65470804, -58.43960781], [-34.60003693, -58.4045461], [-34.59871111, -58.39303911], [-34.58405348, -58.39391034], [-34.5497951, -58.5007381], [-34.62786038, -58.38281301], [-34.65094083, -58.43980799], [-34.62933109, -58.44402387], [-34.62207347, -58.42779702], [-34.60097942, -58.40944147], [-34.5943016, -58.38277479], [-34.63800916, -58.37627355], [-34.62453459, -58.39591856], [-34.56015762, -58.45829717], [-34.64584795, -58.49142611], [-34.57786555, -58.51271409], [-34.62352826, -58.44864864], [-34.59167894, -58.37795815], [-34.55555257, -58.45531707], [-34.62140594, -58.47633683], [-34.60256036, -58.38188582], [-34.62284918, -58.51989389], [-34.61011987, -58.4059686], [-34.64561636, -58.43353773], [-34.65117757, -58.46739825], [-34.61984745, -58.47293407], [-34.65021673, -58.47066794], [-34.58679619, -58.37976155]],\n",
       "                {&quot;blur&quot;: 15, &quot;maxZoom&quot;: 18, &quot;minOpacity&quot;: 0.5, &quot;radius&quot;: 25}\n",
       "            );\n",
       "        \n",
       "    \n",
       "            heat_map_227fac62e4d0b7d19507c4c62c100d8b.addTo(map_025119a4776c6c1055acd4636dcde929);\n",
       "        \n",
       "    \n",
       "            map_025119a4776c6c1055acd4636dcde929.fitBounds(\n",
       "                [[-34.70524971, -58.52994219], [-34.53465378, -58.35608181]],\n",
       "                {}\n",
       "            );\n",
       "        \n",
       "&lt;/script&gt;\n",
       "&lt;/html&gt;\" style=\"position:absolute;width:100%;height:100%;left:0;top:0;border:none !important;\" allowfullscreen webkitallowfullscreen mozallowfullscreen></iframe></div></div>"
      ],
      "text/plain": [
       "<folium.folium.Map at 0x209ca22f690>"
      ]
     },
     "metadata": {},
     "output_type": "display_data"
    }
   ],
   "source": [
    "# Intenta convertir las columnas 'Latitud' y 'Longitud' en números flotantes con 'errors='coerce''\n",
    "df_homicidios_hechos['pos y'] = pd.to_numeric(df_homicidios_hechos['pos y'], errors='coerce')\n",
    "df_homicidios_hechos['pos x'] = pd.to_numeric(df_homicidios_hechos['pos x'], errors='coerce')\n",
    "\n",
    "# Crea un mapa de calor utilizando las coordenadas de longitud y latitud\n",
    "m = folium.Map(location=[df_homicidios_hechos['pos y'].mean(), df_homicidios_hechos['pos x'].mean()], zoom_start=14)\n",
    "\n",
    "# Convierte los datos de longitud y latitud en una lista de listas, excluyendo valores NaN\n",
    "heat_data = [[row['pos y'], row['pos x']] for index, row in df_homicidios_hechos.dropna(subset=['pos y', 'pos x']).iterrows()]\n",
    "\n",
    "# Agrega el mapa de calor al mapa folium\n",
    "HeatMap(heat_data).add_to(m)\n",
    "\n",
    "# Ajusta la vista del mapa para que cubra el área del mapa de calor\n",
    "m.fit_bounds(m.get_bounds())\n",
    "\n",
    "# Muestra el mapa en el entorno interactivo\n",
    "display(m)\n"
   ]
  },
  {
   "cell_type": "markdown",
   "metadata": {},
   "source": [
    "--------------------------------------------"
   ]
  },
  {
   "cell_type": "markdown",
   "metadata": {},
   "source": [
    "En este grafico podemos ver la relacion entre el sexo de las victimas por accidentes"
   ]
  },
  {
   "cell_type": "code",
   "execution_count": 82,
   "metadata": {},
   "outputs": [
    {
     "data": {
      "image/png": "[encoded data removed]",
      "text/plain": [
       "<Figure size 500x300 with 1 Axes>"
      ]
     },
     "metadata": {},
     "output_type": "display_data"
    }
   ],
   "source": [
    "# Agrupa los datos por sexo y suma el número de víctimas en cada categoría\n",
    "victimas_por_sexo = df_homicidios_victimas.groupby('SEXO')['VICTIMA'].count().reset_index()\n",
    "\n",
    "# Crea la gráfica de barras sin barras de error\n",
    "plt.figure(figsize=(5, 3))  # Ajusta el tamaño de la gráfica según tus preferencias\n",
    "plt.bar(victimas_por_sexo['SEXO'], victimas_por_sexo['VICTIMA'], color=['pink', 'lightblue'], alpha=0.7)\n",
    "\n",
    "# Puedes ajustar el color según tus preferencias.\n",
    "# Aquí, 'pink' y 'blue' son los colores de las barras, alpha ajusta la transparencia.\n",
    "\n",
    "plt.title('Relación entre el Género y Número de Víctimas')\n",
    "plt.xlabel('Género')\n",
    "plt.ylabel('Número de Víctimas')\n",
    "plt.grid(axis='y')\n",
    "\n",
    "# Mostrar la gráfica\n",
    "plt.show()\n"
   ]
  },
  {
   "cell_type": "markdown",
   "metadata": {},
   "source": [
    "-----------------------------------------------------------------"
   ]
  },
  {
   "cell_type": "markdown",
   "metadata": {},
   "source": [
    "Revisamos Outliers:"
   ]
  },
  {
   "cell_type": "markdown",
   "metadata": {},
   "source": [
    "df_homicidios_hechos"
   ]
  },
  {
   "cell_type": "markdown",
   "metadata": {},
   "source": [
    "Se va arealizar una busqueda Outliers o valores atipicos en las columnas y despues se v va a evaluar si son realmente outliers y hay que borrarlos o que es lo que representa ese numero y lo dejamos"
   ]
  },
  {
   "cell_type": "code",
   "execution_count": 64,
   "metadata": {},
   "outputs": [
    {
     "data": {
      "image/png": "[encoded data removed]",
      "text/plain": [
       "<Figure size 800x400 with 5 Axes>"
      ]
     },
     "metadata": {},
     "output_type": "display_data"
    }
   ],
   "source": [
    "# Ajustamos el tamaño de la figura\n",
    "plt.figure(figsize=(8, 4))\n",
    "\n",
    "# Subplots para los gráficos \n",
    "plt.subplot(1, 5, 1) \n",
    "sns.boxplot(data=df_homicidios_hechos, y='N_VICTIMAS', color = \"#FF7F50\")\n",
    "plt.ylabel('Número de Víctimas')\n",
    "\n",
    "plt.subplot(1, 5, 2) \n",
    "sns.boxplot(data=df_homicidios_hechos, y='AAAA', color = \"#B22222\")\n",
    "plt.ylabel('Años')\n",
    "\n",
    "plt.subplot(1, 5, 3) \n",
    "sns.boxplot(data=df_homicidios_hechos, y='MM', color = \"#FA8072\")\n",
    "plt.ylabel('Meses')\n",
    "\n",
    "plt.subplot(1, 5, 4) \n",
    "sns.boxplot(data=df_homicidios_hechos, y='DD', color = \"#6A5ACD\")\n",
    "plt.ylabel('Días')\n",
    "\n",
    "plt.subplot(1, 5, 5) \n",
    "sns.boxplot(data=df_homicidios_hechos, y='HH', color = \"#FF69B4\")\n",
    "plt.ylabel('Horas')\n",
    "\n",
    "# Ajustar espaciado entre subplots\n",
    "plt.tight_layout()\n",
    "plt.show()"
   ]
  },
  {
   "cell_type": "markdown",
   "metadata": {},
   "source": [
    "No se encontraron valores atipicos, en el dataset df_homicidios_hechos, la unica observacion para hacer es que en el primer grafico se muestra 2 y 3 victimas por accidente de trafico, que parecen atipicos, porque su frecuencia de suceder es poca, los datos muestran que casi ensu mayoria es 1 muerte por accidente"
   ]
  },
  {
   "cell_type": "markdown",
   "metadata": {},
   "source": [
    "------------------------------------------"
   ]
  }
 ],
 "metadata": {
  "kernelspec": {
   "display_name": "Python 3",
   "language": "python",
   "name": "python3"
  },
  "language_info": {
   "codemirror_mode": {
    "name": "ipython",
    "version": 3
   },
   "file_extension": ".py",
   "mimetype": "text/x-python",
   "name": "python",
   "nbconvert_exporter": "python",
   "pygments_lexer": "ipython3",
   "version": "3.11.2"
  }
 },
 "nbformat": 4,
 "nbformat_minor": 2
}
